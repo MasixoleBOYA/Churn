{
 "cells": [
  {
   "cell_type": "code",
   "execution_count": 97,
   "id": "ced692a0-3cee-4ed9-9d3a-b237de16445d",
   "metadata": {},
   "outputs": [],
   "source": [
    "import pandas as pd\n",
    "import numpy as np\n",
    "import matplotlib as plt"
   ]
  },
  {
   "cell_type": "code",
   "execution_count": 98,
   "id": "055d38fa-28fd-468f-b490-1ba548d5df7b",
   "metadata": {},
   "outputs": [
    {
     "data": {
      "text/html": [
       "<div>\n",
       "<style scoped>\n",
       "    .dataframe tbody tr th:only-of-type {\n",
       "        vertical-align: middle;\n",
       "    }\n",
       "\n",
       "    .dataframe tbody tr th {\n",
       "        vertical-align: top;\n",
       "    }\n",
       "\n",
       "    .dataframe thead th {\n",
       "        text-align: right;\n",
       "    }\n",
       "</style>\n",
       "<table border=\"1\" class=\"dataframe\">\n",
       "  <thead>\n",
       "    <tr style=\"text-align: right;\">\n",
       "      <th></th>\n",
       "      <th>CustomerID</th>\n",
       "      <th>Count</th>\n",
       "      <th>Country</th>\n",
       "      <th>State</th>\n",
       "      <th>City</th>\n",
       "      <th>Zip Code</th>\n",
       "      <th>Lat Long</th>\n",
       "      <th>Latitude</th>\n",
       "      <th>Longitude</th>\n",
       "      <th>Gender</th>\n",
       "      <th>...</th>\n",
       "      <th>Contract</th>\n",
       "      <th>Paperless Billing</th>\n",
       "      <th>Payment Method</th>\n",
       "      <th>Monthly Charges</th>\n",
       "      <th>Total Charges</th>\n",
       "      <th>Churn Label</th>\n",
       "      <th>Churn Value</th>\n",
       "      <th>Churn Score</th>\n",
       "      <th>CLTV</th>\n",
       "      <th>Churn Reason</th>\n",
       "    </tr>\n",
       "  </thead>\n",
       "  <tbody>\n",
       "    <tr>\n",
       "      <th>531</th>\n",
       "      <td>9430-FRQOC</td>\n",
       "      <td>1</td>\n",
       "      <td>United States</td>\n",
       "      <td>California</td>\n",
       "      <td>San Diego</td>\n",
       "      <td>92106</td>\n",
       "      <td>32.71346, -117.236378</td>\n",
       "      <td>32.713460</td>\n",
       "      <td>-117.236378</td>\n",
       "      <td>Female</td>\n",
       "      <td>...</td>\n",
       "      <td>Month-to-month</td>\n",
       "      <td>Yes</td>\n",
       "      <td>Mailed check</td>\n",
       "      <td>87.10</td>\n",
       "      <td>341.45</td>\n",
       "      <td>Yes</td>\n",
       "      <td>1</td>\n",
       "      <td>80</td>\n",
       "      <td>5587</td>\n",
       "      <td>Competitor offered higher download speeds</td>\n",
       "    </tr>\n",
       "    <tr>\n",
       "      <th>1985</th>\n",
       "      <td>9073-ZZIAY</td>\n",
       "      <td>1</td>\n",
       "      <td>United States</td>\n",
       "      <td>California</td>\n",
       "      <td>Long Beach</td>\n",
       "      <td>90806</td>\n",
       "      <td>33.802664, -118.179971</td>\n",
       "      <td>33.802664</td>\n",
       "      <td>-118.179971</td>\n",
       "      <td>Male</td>\n",
       "      <td>...</td>\n",
       "      <td>Two year</td>\n",
       "      <td>No</td>\n",
       "      <td>Electronic check</td>\n",
       "      <td>86.10</td>\n",
       "      <td>5215.25</td>\n",
       "      <td>No</td>\n",
       "      <td>0</td>\n",
       "      <td>62</td>\n",
       "      <td>5769</td>\n",
       "      <td>NaN</td>\n",
       "    </tr>\n",
       "    <tr>\n",
       "      <th>278</th>\n",
       "      <td>0634-SZPQA</td>\n",
       "      <td>1</td>\n",
       "      <td>United States</td>\n",
       "      <td>California</td>\n",
       "      <td>San Anselmo</td>\n",
       "      <td>94960</td>\n",
       "      <td>37.99272, -122.575026</td>\n",
       "      <td>37.992720</td>\n",
       "      <td>-122.575026</td>\n",
       "      <td>Female</td>\n",
       "      <td>...</td>\n",
       "      <td>Month-to-month</td>\n",
       "      <td>Yes</td>\n",
       "      <td>Bank transfer (automatic)</td>\n",
       "      <td>90.05</td>\n",
       "      <td>2169.8</td>\n",
       "      <td>Yes</td>\n",
       "      <td>1</td>\n",
       "      <td>67</td>\n",
       "      <td>4650</td>\n",
       "      <td>Competitor offered higher download speeds</td>\n",
       "    </tr>\n",
       "    <tr>\n",
       "      <th>969</th>\n",
       "      <td>1150-WFARN</td>\n",
       "      <td>1</td>\n",
       "      <td>United States</td>\n",
       "      <td>California</td>\n",
       "      <td>Brawley</td>\n",
       "      <td>92227</td>\n",
       "      <td>33.03933, -115.191857</td>\n",
       "      <td>33.039330</td>\n",
       "      <td>-115.191857</td>\n",
       "      <td>Female</td>\n",
       "      <td>...</td>\n",
       "      <td>Two year</td>\n",
       "      <td>Yes</td>\n",
       "      <td>Credit card (automatic)</td>\n",
       "      <td>108.75</td>\n",
       "      <td>7156.2</td>\n",
       "      <td>Yes</td>\n",
       "      <td>1</td>\n",
       "      <td>90</td>\n",
       "      <td>5516</td>\n",
       "      <td>Competitor had better devices</td>\n",
       "    </tr>\n",
       "    <tr>\n",
       "      <th>2794</th>\n",
       "      <td>2226-ICFDO</td>\n",
       "      <td>1</td>\n",
       "      <td>United States</td>\n",
       "      <td>California</td>\n",
       "      <td>Covelo</td>\n",
       "      <td>95428</td>\n",
       "      <td>39.83307, -123.178765</td>\n",
       "      <td>39.833070</td>\n",
       "      <td>-123.178765</td>\n",
       "      <td>Female</td>\n",
       "      <td>...</td>\n",
       "      <td>Two year</td>\n",
       "      <td>Yes</td>\n",
       "      <td>Credit card (automatic)</td>\n",
       "      <td>85.90</td>\n",
       "      <td>6110.75</td>\n",
       "      <td>No</td>\n",
       "      <td>0</td>\n",
       "      <td>72</td>\n",
       "      <td>6361</td>\n",
       "      <td>NaN</td>\n",
       "    </tr>\n",
       "  </tbody>\n",
       "</table>\n",
       "<p>5 rows × 33 columns</p>\n",
       "</div>"
      ],
      "text/plain": [
       "      CustomerID  Count        Country       State         City  Zip Code  \\\n",
       "531   9430-FRQOC      1  United States  California    San Diego     92106   \n",
       "1985  9073-ZZIAY      1  United States  California   Long Beach     90806   \n",
       "278   0634-SZPQA      1  United States  California  San Anselmo     94960   \n",
       "969   1150-WFARN      1  United States  California      Brawley     92227   \n",
       "2794  2226-ICFDO      1  United States  California       Covelo     95428   \n",
       "\n",
       "                    Lat Long   Latitude   Longitude  Gender  ...  \\\n",
       "531    32.71346, -117.236378  32.713460 -117.236378  Female  ...   \n",
       "1985  33.802664, -118.179971  33.802664 -118.179971    Male  ...   \n",
       "278    37.99272, -122.575026  37.992720 -122.575026  Female  ...   \n",
       "969    33.03933, -115.191857  33.039330 -115.191857  Female  ...   \n",
       "2794   39.83307, -123.178765  39.833070 -123.178765  Female  ...   \n",
       "\n",
       "            Contract Paperless Billing             Payment Method  \\\n",
       "531   Month-to-month               Yes               Mailed check   \n",
       "1985        Two year                No           Electronic check   \n",
       "278   Month-to-month               Yes  Bank transfer (automatic)   \n",
       "969         Two year               Yes    Credit card (automatic)   \n",
       "2794        Two year               Yes    Credit card (automatic)   \n",
       "\n",
       "      Monthly Charges Total Charges Churn Label Churn Value Churn Score  CLTV  \\\n",
       "531             87.10        341.45         Yes           1          80  5587   \n",
       "1985            86.10       5215.25          No           0          62  5769   \n",
       "278             90.05        2169.8         Yes           1          67  4650   \n",
       "969            108.75        7156.2         Yes           1          90  5516   \n",
       "2794            85.90       6110.75          No           0          72  6361   \n",
       "\n",
       "                                   Churn Reason  \n",
       "531   Competitor offered higher download speeds  \n",
       "1985                                        NaN  \n",
       "278   Competitor offered higher download speeds  \n",
       "969               Competitor had better devices  \n",
       "2794                                        NaN  \n",
       "\n",
       "[5 rows x 33 columns]"
      ]
     },
     "execution_count": 98,
     "metadata": {},
     "output_type": "execute_result"
    }
   ],
   "source": [
    "doc = pd.read_excel(\"C:/Users/STAFF/Desktop/Git_Repos/Telco_customer_churn.xlsx\")\n",
    "doc.sample(5)"
   ]
  },
  {
   "cell_type": "code",
   "execution_count": 99,
   "id": "02426e7e-82c7-4220-a35c-975ec88d94e0",
   "metadata": {},
   "outputs": [],
   "source": [
    "doc.drop(columns =[\"CustomerID\",\"Count\",\"Churn Reason\",\"Churn Label\",\"Churn Score\",\"Lat Long\"], inplace = True)"
   ]
  },
  {
   "cell_type": "code",
   "execution_count": 100,
   "id": "50f968c8-0e93-4812-b5f9-0006415efd84",
   "metadata": {},
   "outputs": [
    {
     "data": {
      "text/plain": [
       "(7043, 27)"
      ]
     },
     "execution_count": 100,
     "metadata": {},
     "output_type": "execute_result"
    }
   ],
   "source": [
    "doc.shape"
   ]
  },
  {
   "cell_type": "code",
   "execution_count": 101,
   "id": "ea959d46-4e42-411d-a46d-5d267949d224",
   "metadata": {},
   "outputs": [
    {
     "data": {
      "text/plain": [
       "(7043, 27)"
      ]
     },
     "execution_count": 101,
     "metadata": {},
     "output_type": "execute_result"
    }
   ],
   "source": [
    "doc = doc.dropna()\n",
    "doc.shape"
   ]
  },
  {
   "cell_type": "code",
   "execution_count": 102,
   "id": "3b7ddabf-d523-49e2-a1e8-19e92f2ad29e",
   "metadata": {},
   "outputs": [
    {
     "data": {
      "text/plain": [
       "(7032, 27)"
      ]
     },
     "execution_count": 102,
     "metadata": {},
     "output_type": "execute_result"
    }
   ],
   "source": [
    "doc = doc[doc[\"Total Charges\"] != \" \"]\n",
    "doc.shape"
   ]
  },
  {
   "cell_type": "code",
   "execution_count": 103,
   "id": "a64acf13-5d17-4fd0-bdee-79e4e15e4e86",
   "metadata": {},
   "outputs": [],
   "source": [
    "doc[\"Total Charges\"] = pd.to_numeric(doc[\"Total Charges\"])\n"
   ]
  },
  {
   "cell_type": "code",
   "execution_count": 104,
   "id": "a3c6381e-4c28-4364-97e6-b7e9299e0c89",
   "metadata": {
    "scrolled": true
   },
   "outputs": [
    {
     "data": {
      "text/plain": [
       "Country               object\n",
       "State                 object\n",
       "City                  object\n",
       "Zip Code               int64\n",
       "Latitude             float64\n",
       "Longitude            float64\n",
       "Gender                object\n",
       "Senior Citizen        object\n",
       "Partner               object\n",
       "Dependents            object\n",
       "Tenure Months          int64\n",
       "Phone Service         object\n",
       "Multiple Lines        object\n",
       "Internet Service      object\n",
       "Online Security       object\n",
       "Online Backup         object\n",
       "Device Protection     object\n",
       "Tech Support          object\n",
       "Streaming TV          object\n",
       "Streaming Movies      object\n",
       "Contract              object\n",
       "Paperless Billing     object\n",
       "Payment Method        object\n",
       "Monthly Charges      float64\n",
       "Total Charges        float64\n",
       "Churn Value            int64\n",
       "CLTV                   int64\n",
       "dtype: object"
      ]
     },
     "execution_count": 104,
     "metadata": {},
     "output_type": "execute_result"
    }
   ],
   "source": [
    "doc.dtypes"
   ]
  },
  {
   "cell_type": "code",
   "execution_count": 105,
   "id": "f72e35d6-6ca9-4e41-8107-23105e1bce7c",
   "metadata": {},
   "outputs": [],
   "source": [
    "def values_in_each_col(dataframe):\n",
    "    for i in dataframe:\n",
    "        if dataframe[i].dtypes == \"object\":\n",
    "            print(f\"{i} : {dataframe[i].unique()}\")"
   ]
  },
  {
   "cell_type": "code",
   "execution_count": 106,
   "id": "dc640c2e-569b-413c-93cf-5434c21c6f46",
   "metadata": {},
   "outputs": [
    {
     "name": "stdout",
     "output_type": "stream",
     "text": [
      "Country : ['United States']\n",
      "State : ['California']\n",
      "City : ['Los Angeles' 'Beverly Hills' 'Huntington Park' ... 'Tulelake'\n",
      " 'Olympic Valley' 'Redcrest']\n",
      "Gender : ['Male' 'Female']\n",
      "Senior Citizen : ['No' 'Yes']\n",
      "Partner : ['No' 'Yes']\n",
      "Dependents : ['No' 'Yes']\n",
      "Phone Service : ['Yes' 'No']\n",
      "Multiple Lines : ['No' 'Yes' 'No phone service']\n",
      "Internet Service : ['DSL' 'Fiber optic' 'No']\n",
      "Online Security : ['Yes' 'No' 'No internet service']\n",
      "Online Backup : ['Yes' 'No' 'No internet service']\n",
      "Device Protection : ['No' 'Yes' 'No internet service']\n",
      "Tech Support : ['No' 'Yes' 'No internet service']\n",
      "Streaming TV : ['No' 'Yes' 'No internet service']\n",
      "Streaming Movies : ['No' 'Yes' 'No internet service']\n",
      "Contract : ['Month-to-month' 'Two year' 'One year']\n",
      "Paperless Billing : ['Yes' 'No']\n",
      "Payment Method : ['Mailed check' 'Electronic check' 'Bank transfer (automatic)'\n",
      " 'Credit card (automatic)']\n"
     ]
    }
   ],
   "source": [
    "values_in_each_col(doc)"
   ]
  },
  {
   "cell_type": "code",
   "execution_count": 107,
   "id": "3fb400de-2b26-43a3-be16-32e4bce2331f",
   "metadata": {},
   "outputs": [],
   "source": [
    "doc.replace(\"No internet service\" , \"No\", inplace = True)\n",
    "doc.replace(\"No phone service\" , \"No\", inplace = True)\n"
   ]
  },
  {
   "cell_type": "code",
   "execution_count": 108,
   "id": "ef020e17-7eb1-4bd6-81a2-3efe8880f3fa",
   "metadata": {},
   "outputs": [
    {
     "name": "stdout",
     "output_type": "stream",
     "text": [
      "Country : ['United States']\n",
      "State : ['California']\n",
      "City : ['Los Angeles' 'Beverly Hills' 'Huntington Park' ... 'Tulelake'\n",
      " 'Olympic Valley' 'Redcrest']\n",
      "Gender : ['Male' 'Female']\n",
      "Senior Citizen : ['No' 'Yes']\n",
      "Partner : ['No' 'Yes']\n",
      "Dependents : ['No' 'Yes']\n",
      "Phone Service : ['Yes' 'No']\n",
      "Multiple Lines : ['No' 'Yes']\n",
      "Internet Service : ['DSL' 'Fiber optic' 'No']\n",
      "Online Security : ['Yes' 'No']\n",
      "Online Backup : ['Yes' 'No']\n",
      "Device Protection : ['No' 'Yes']\n",
      "Tech Support : ['No' 'Yes']\n",
      "Streaming TV : ['No' 'Yes']\n",
      "Streaming Movies : ['No' 'Yes']\n",
      "Contract : ['Month-to-month' 'Two year' 'One year']\n",
      "Paperless Billing : ['Yes' 'No']\n",
      "Payment Method : ['Mailed check' 'Electronic check' 'Bank transfer (automatic)'\n",
      " 'Credit card (automatic)']\n"
     ]
    }
   ],
   "source": [
    "values_in_each_col(doc)"
   ]
  },
  {
   "cell_type": "code",
   "execution_count": 109,
   "id": "76599dad-42a3-4c94-8f3b-caa1d7fa363d",
   "metadata": {},
   "outputs": [
    {
     "data": {
      "text/html": [
       "<div>\n",
       "<style scoped>\n",
       "    .dataframe tbody tr th:only-of-type {\n",
       "        vertical-align: middle;\n",
       "    }\n",
       "\n",
       "    .dataframe tbody tr th {\n",
       "        vertical-align: top;\n",
       "    }\n",
       "\n",
       "    .dataframe thead th {\n",
       "        text-align: right;\n",
       "    }\n",
       "</style>\n",
       "<table border=\"1\" class=\"dataframe\">\n",
       "  <thead>\n",
       "    <tr style=\"text-align: right;\">\n",
       "      <th></th>\n",
       "      <th>Country</th>\n",
       "      <th>State</th>\n",
       "      <th>City</th>\n",
       "      <th>Zip Code</th>\n",
       "      <th>Latitude</th>\n",
       "      <th>Longitude</th>\n",
       "      <th>Gender</th>\n",
       "      <th>Senior Citizen</th>\n",
       "      <th>Partner</th>\n",
       "      <th>Dependents</th>\n",
       "      <th>...</th>\n",
       "      <th>Tech Support</th>\n",
       "      <th>Streaming TV</th>\n",
       "      <th>Streaming Movies</th>\n",
       "      <th>Contract</th>\n",
       "      <th>Paperless Billing</th>\n",
       "      <th>Payment Method</th>\n",
       "      <th>Monthly Charges</th>\n",
       "      <th>Total Charges</th>\n",
       "      <th>Churn Value</th>\n",
       "      <th>CLTV</th>\n",
       "    </tr>\n",
       "  </thead>\n",
       "  <tbody>\n",
       "    <tr>\n",
       "      <th>3751</th>\n",
       "      <td>0</td>\n",
       "      <td>0</td>\n",
       "      <td>760</td>\n",
       "      <td>94060</td>\n",
       "      <td>37.225650</td>\n",
       "      <td>-122.297533</td>\n",
       "      <td>0</td>\n",
       "      <td>0</td>\n",
       "      <td>1</td>\n",
       "      <td>1</td>\n",
       "      <td>...</td>\n",
       "      <td>1</td>\n",
       "      <td>1</td>\n",
       "      <td>0</td>\n",
       "      <td>1</td>\n",
       "      <td>1</td>\n",
       "      <td>0</td>\n",
       "      <td>70.75</td>\n",
       "      <td>4263.45</td>\n",
       "      <td>0</td>\n",
       "      <td>4133</td>\n",
       "    </tr>\n",
       "    <tr>\n",
       "      <th>4605</th>\n",
       "      <td>0</td>\n",
       "      <td>0</td>\n",
       "      <td>500</td>\n",
       "      <td>92253</td>\n",
       "      <td>33.695532</td>\n",
       "      <td>-116.310571</td>\n",
       "      <td>1</td>\n",
       "      <td>0</td>\n",
       "      <td>0</td>\n",
       "      <td>0</td>\n",
       "      <td>...</td>\n",
       "      <td>0</td>\n",
       "      <td>0</td>\n",
       "      <td>0</td>\n",
       "      <td>0</td>\n",
       "      <td>0</td>\n",
       "      <td>3</td>\n",
       "      <td>50.75</td>\n",
       "      <td>50.75</td>\n",
       "      <td>0</td>\n",
       "      <td>3631</td>\n",
       "    </tr>\n",
       "    <tr>\n",
       "      <th>4488</th>\n",
       "      <td>0</td>\n",
       "      <td>0</td>\n",
       "      <td>811</td>\n",
       "      <td>91701</td>\n",
       "      <td>34.132275</td>\n",
       "      <td>-117.611478</td>\n",
       "      <td>0</td>\n",
       "      <td>0</td>\n",
       "      <td>0</td>\n",
       "      <td>0</td>\n",
       "      <td>...</td>\n",
       "      <td>0</td>\n",
       "      <td>1</td>\n",
       "      <td>1</td>\n",
       "      <td>0</td>\n",
       "      <td>1</td>\n",
       "      <td>2</td>\n",
       "      <td>95.70</td>\n",
       "      <td>4729.75</td>\n",
       "      <td>0</td>\n",
       "      <td>4164</td>\n",
       "    </tr>\n",
       "    <tr>\n",
       "      <th>1062</th>\n",
       "      <td>0</td>\n",
       "      <td>0</td>\n",
       "      <td>553</td>\n",
       "      <td>93437</td>\n",
       "      <td>34.757477</td>\n",
       "      <td>-120.550507</td>\n",
       "      <td>0</td>\n",
       "      <td>0</td>\n",
       "      <td>1</td>\n",
       "      <td>0</td>\n",
       "      <td>...</td>\n",
       "      <td>0</td>\n",
       "      <td>0</td>\n",
       "      <td>0</td>\n",
       "      <td>0</td>\n",
       "      <td>1</td>\n",
       "      <td>2</td>\n",
       "      <td>24.45</td>\n",
       "      <td>482.80</td>\n",
       "      <td>1</td>\n",
       "      <td>3298</td>\n",
       "    </tr>\n",
       "    <tr>\n",
       "      <th>5184</th>\n",
       "      <td>0</td>\n",
       "      <td>0</td>\n",
       "      <td>294</td>\n",
       "      <td>95318</td>\n",
       "      <td>37.654551</td>\n",
       "      <td>-119.822984</td>\n",
       "      <td>1</td>\n",
       "      <td>0</td>\n",
       "      <td>1</td>\n",
       "      <td>1</td>\n",
       "      <td>...</td>\n",
       "      <td>0</td>\n",
       "      <td>0</td>\n",
       "      <td>0</td>\n",
       "      <td>2</td>\n",
       "      <td>1</td>\n",
       "      <td>0</td>\n",
       "      <td>24.05</td>\n",
       "      <td>1230.90</td>\n",
       "      <td>0</td>\n",
       "      <td>4039</td>\n",
       "    </tr>\n",
       "  </tbody>\n",
       "</table>\n",
       "<p>5 rows × 27 columns</p>\n",
       "</div>"
      ],
      "text/plain": [
       "      Country  State  City  Zip Code   Latitude   Longitude  Gender  \\\n",
       "3751        0      0   760     94060  37.225650 -122.297533       0   \n",
       "4605        0      0   500     92253  33.695532 -116.310571       1   \n",
       "4488        0      0   811     91701  34.132275 -117.611478       0   \n",
       "1062        0      0   553     93437  34.757477 -120.550507       0   \n",
       "5184        0      0   294     95318  37.654551 -119.822984       1   \n",
       "\n",
       "      Senior Citizen  Partner  Dependents  ...  Tech Support  Streaming TV  \\\n",
       "3751               0        1           1  ...             1             1   \n",
       "4605               0        0           0  ...             0             0   \n",
       "4488               0        0           0  ...             0             1   \n",
       "1062               0        1           0  ...             0             0   \n",
       "5184               0        1           1  ...             0             0   \n",
       "\n",
       "      Streaming Movies  Contract  Paperless Billing  Payment Method  \\\n",
       "3751                 0         1                  1               0   \n",
       "4605                 0         0                  0               3   \n",
       "4488                 1         0                  1               2   \n",
       "1062                 0         0                  1               2   \n",
       "5184                 0         2                  1               0   \n",
       "\n",
       "      Monthly Charges  Total Charges  Churn Value  CLTV  \n",
       "3751            70.75        4263.45            0  4133  \n",
       "4605            50.75          50.75            0  3631  \n",
       "4488            95.70        4729.75            0  4164  \n",
       "1062            24.45         482.80            1  3298  \n",
       "5184            24.05        1230.90            0  4039  \n",
       "\n",
       "[5 rows x 27 columns]"
      ]
     },
     "execution_count": 109,
     "metadata": {},
     "output_type": "execute_result"
    }
   ],
   "source": [
    "from sklearn.preprocessing import LabelEncoder\n",
    "encoder = LabelEncoder()\n",
    "\n",
    "for i in doc.columns:\n",
    "    if doc[i].dtypes == \"object\":\n",
    "         doc[i] = encoder.fit_transform(doc[i])\n",
    "\n",
    "doc.sample(5)"
   ]
  },
  {
   "cell_type": "code",
   "execution_count": 110,
   "id": "16c2719d-98d4-4ae1-b02a-c38926ff5fc6",
   "metadata": {},
   "outputs": [],
   "source": [
    "import pandas as pd\n",
    "from sklearn.preprocessing import MinMaxScaler\n",
    "minmax = MinMaxScaler()\n",
    "\n",
    "# doc = minmax.fit_transform(doc.values)\n",
    "\n",
    "\n",
    "# doc.iloc[:, :] = minmax.fit_transform(doc.values)\n",
    "\n",
    "# doc = pd.DataFrame(doc) \n",
    "# doc.sample(5)"
   ]
  },
  {
   "cell_type": "code",
   "execution_count": 111,
   "id": "c38bc0ac-8050-48ff-aa0c-e0ccc49600e3",
   "metadata": {},
   "outputs": [],
   "source": [
    "import pickle\n",
    "\n",
    "pickle.dump(minmax,open('scaling.pkl','wb'))"
   ]
  },
  {
   "cell_type": "code",
   "execution_count": 112,
   "id": "1a545669-d520-431e-8aa9-44571edc8e1e",
   "metadata": {},
   "outputs": [],
   "source": [
    "import pandas as pd\n",
    "\n",
    "doc = pd.DataFrame(doc) \n",
    "\n",
    "X = doc.drop(columns = \"Churn Value\", axis= \"columns\")\n",
    "y= doc[\"Churn Value\"]"
   ]
  },
  {
   "cell_type": "code",
   "execution_count": 113,
   "id": "e81df6f0-92ad-4252-acc1-8723887f938e",
   "metadata": {},
   "outputs": [
    {
     "data": {
      "text/html": [
       "<style>#sk-container-id-1 {color: black;}#sk-container-id-1 pre{padding: 0;}#sk-container-id-1 div.sk-toggleable {background-color: white;}#sk-container-id-1 label.sk-toggleable__label {cursor: pointer;display: block;width: 100%;margin-bottom: 0;padding: 0.3em;box-sizing: border-box;text-align: center;}#sk-container-id-1 label.sk-toggleable__label-arrow:before {content: \"▸\";float: left;margin-right: 0.25em;color: #696969;}#sk-container-id-1 label.sk-toggleable__label-arrow:hover:before {color: black;}#sk-container-id-1 div.sk-estimator:hover label.sk-toggleable__label-arrow:before {color: black;}#sk-container-id-1 div.sk-toggleable__content {max-height: 0;max-width: 0;overflow: hidden;text-align: left;background-color: #f0f8ff;}#sk-container-id-1 div.sk-toggleable__content pre {margin: 0.2em;color: black;border-radius: 0.25em;background-color: #f0f8ff;}#sk-container-id-1 input.sk-toggleable__control:checked~div.sk-toggleable__content {max-height: 200px;max-width: 100%;overflow: auto;}#sk-container-id-1 input.sk-toggleable__control:checked~label.sk-toggleable__label-arrow:before {content: \"▾\";}#sk-container-id-1 div.sk-estimator input.sk-toggleable__control:checked~label.sk-toggleable__label {background-color: #d4ebff;}#sk-container-id-1 div.sk-label input.sk-toggleable__control:checked~label.sk-toggleable__label {background-color: #d4ebff;}#sk-container-id-1 input.sk-hidden--visually {border: 0;clip: rect(1px 1px 1px 1px);clip: rect(1px, 1px, 1px, 1px);height: 1px;margin: -1px;overflow: hidden;padding: 0;position: absolute;width: 1px;}#sk-container-id-1 div.sk-estimator {font-family: monospace;background-color: #f0f8ff;border: 1px dotted black;border-radius: 0.25em;box-sizing: border-box;margin-bottom: 0.5em;}#sk-container-id-1 div.sk-estimator:hover {background-color: #d4ebff;}#sk-container-id-1 div.sk-parallel-item::after {content: \"\";width: 100%;border-bottom: 1px solid gray;flex-grow: 1;}#sk-container-id-1 div.sk-label:hover label.sk-toggleable__label {background-color: #d4ebff;}#sk-container-id-1 div.sk-serial::before {content: \"\";position: absolute;border-left: 1px solid gray;box-sizing: border-box;top: 0;bottom: 0;left: 50%;z-index: 0;}#sk-container-id-1 div.sk-serial {display: flex;flex-direction: column;align-items: center;background-color: white;padding-right: 0.2em;padding-left: 0.2em;position: relative;}#sk-container-id-1 div.sk-item {position: relative;z-index: 1;}#sk-container-id-1 div.sk-parallel {display: flex;align-items: stretch;justify-content: center;background-color: white;position: relative;}#sk-container-id-1 div.sk-item::before, #sk-container-id-1 div.sk-parallel-item::before {content: \"\";position: absolute;border-left: 1px solid gray;box-sizing: border-box;top: 0;bottom: 0;left: 50%;z-index: -1;}#sk-container-id-1 div.sk-parallel-item {display: flex;flex-direction: column;z-index: 1;position: relative;background-color: white;}#sk-container-id-1 div.sk-parallel-item:first-child::after {align-self: flex-end;width: 50%;}#sk-container-id-1 div.sk-parallel-item:last-child::after {align-self: flex-start;width: 50%;}#sk-container-id-1 div.sk-parallel-item:only-child::after {width: 0;}#sk-container-id-1 div.sk-dashed-wrapped {border: 1px dashed gray;margin: 0 0.4em 0.5em 0.4em;box-sizing: border-box;padding-bottom: 0.4em;background-color: white;}#sk-container-id-1 div.sk-label label {font-family: monospace;font-weight: bold;display: inline-block;line-height: 1.2em;}#sk-container-id-1 div.sk-label-container {text-align: center;}#sk-container-id-1 div.sk-container {/* jupyter's `normalize.less` sets `[hidden] { display: none; }` but bootstrap.min.css set `[hidden] { display: none !important; }` so we also need the `!important` here to be able to override the default hidden behavior on the sphinx rendered scikit-learn.org. See: https://github.com/scikit-learn/scikit-learn/issues/21755 */display: inline-block !important;position: relative;}#sk-container-id-1 div.sk-text-repr-fallback {display: none;}</style><div id=\"sk-container-id-1\" class=\"sk-top-container\"><div class=\"sk-text-repr-fallback\"><pre>MinMaxScaler()</pre><b>In a Jupyter environment, please rerun this cell to show the HTML representation or trust the notebook. <br />On GitHub, the HTML representation is unable to render, please try loading this page with nbviewer.org.</b></div><div class=\"sk-container\" hidden><div class=\"sk-item\"><div class=\"sk-estimator sk-toggleable\"><input class=\"sk-toggleable__control sk-hidden--visually\" id=\"sk-estimator-id-1\" type=\"checkbox\" checked><label for=\"sk-estimator-id-1\" class=\"sk-toggleable__label sk-toggleable__label-arrow\">MinMaxScaler</label><div class=\"sk-toggleable__content\"><pre>MinMaxScaler()</pre></div></div></div></div></div>"
      ],
      "text/plain": [
       "MinMaxScaler()"
      ]
     },
     "execution_count": 113,
     "metadata": {},
     "output_type": "execute_result"
    }
   ],
   "source": [
    "minmax.fit(X)\n"
   ]
  },
  {
   "cell_type": "code",
   "execution_count": 114,
   "id": "03a35580-1dae-4557-a0ce-e63fddfdebf3",
   "metadata": {},
   "outputs": [],
   "source": [
    "X = minmax.transform(X)"
   ]
  },
  {
   "cell_type": "code",
   "execution_count": 115,
   "id": "6ed344b9-7c9c-4317-b4ad-4522093b435f",
   "metadata": {},
   "outputs": [
    {
     "data": {
      "text/plain": [
       "(7032, 26)"
      ]
     },
     "execution_count": 115,
     "metadata": {},
     "output_type": "execute_result"
    }
   ],
   "source": [
    "X.shape"
   ]
  },
  {
   "cell_type": "code",
   "execution_count": 116,
   "id": "e4cb5485-69fa-4cfc-a88f-7161f101ff25",
   "metadata": {},
   "outputs": [
    {
     "data": {
      "text/plain": [
       "(4922, 26)"
      ]
     },
     "execution_count": 116,
     "metadata": {},
     "output_type": "execute_result"
    }
   ],
   "source": [
    "from sklearn.model_selection import train_test_split\n",
    "\n",
    "X_train, X_rem, y_train, y_rem = train_test_split(X, y, train_size= 0.70, random_state=None)\n",
    "X_valid, X_test, y_valid, y_test = train_test_split(X_rem, y_rem, test_size=0.5)\n",
    "\n",
    "X_train.shape"
   ]
  },
  {
   "cell_type": "code",
   "execution_count": 117,
   "id": "484eb9ef-c7af-4e52-a1df-08f33064f1b4",
   "metadata": {},
   "outputs": [],
   "source": [
    "import tensorflow"
   ]
  },
  {
   "cell_type": "code",
   "execution_count": 118,
   "id": "fb530a58-0610-4493-8926-b11fcf67e0ee",
   "metadata": {
    "scrolled": true
   },
   "outputs": [
    {
     "name": "stdout",
     "output_type": "stream",
     "text": [
      "Epoch 1/100\n",
      "154/154 [==============================] - 2s 3ms/step - loss: 0.5844 - accuracy: 0.6802\n",
      "Epoch 2/100\n",
      "154/154 [==============================] - 0s 3ms/step - loss: 0.4592 - accuracy: 0.7733\n",
      "Epoch 3/100\n",
      "154/154 [==============================] - 0s 3ms/step - loss: 0.4288 - accuracy: 0.7928\n",
      "Epoch 4/100\n",
      "154/154 [==============================] - 0s 3ms/step - loss: 0.4190 - accuracy: 0.7968\n",
      "Epoch 5/100\n",
      "154/154 [==============================] - 1s 3ms/step - loss: 0.4147 - accuracy: 0.8003\n",
      "Epoch 6/100\n",
      "154/154 [==============================] - 0s 3ms/step - loss: 0.4114 - accuracy: 0.8043\n",
      "Epoch 7/100\n",
      "154/154 [==============================] - 1s 3ms/step - loss: 0.4110 - accuracy: 0.8046\n",
      "Epoch 8/100\n",
      "154/154 [==============================] - 0s 3ms/step - loss: 0.4100 - accuracy: 0.8041\n",
      "Epoch 9/100\n",
      "154/154 [==============================] - 0s 3ms/step - loss: 0.4074 - accuracy: 0.8104\n",
      "Epoch 10/100\n",
      "154/154 [==============================] - 0s 3ms/step - loss: 0.4059 - accuracy: 0.8084\n",
      "Epoch 11/100\n",
      "154/154 [==============================] - 0s 3ms/step - loss: 0.4045 - accuracy: 0.8106\n",
      "Epoch 12/100\n",
      "154/154 [==============================] - 1s 3ms/step - loss: 0.4030 - accuracy: 0.8090\n",
      "Epoch 13/100\n",
      "154/154 [==============================] - 1s 4ms/step - loss: 0.4016 - accuracy: 0.8113\n",
      "Epoch 14/100\n",
      "154/154 [==============================] - 1s 4ms/step - loss: 0.4012 - accuracy: 0.8133\n",
      "Epoch 15/100\n",
      "154/154 [==============================] - 1s 3ms/step - loss: 0.3996 - accuracy: 0.8115\n",
      "Epoch 16/100\n",
      "154/154 [==============================] - 1s 3ms/step - loss: 0.4000 - accuracy: 0.8133\n",
      "Epoch 17/100\n",
      "154/154 [==============================] - 1s 3ms/step - loss: 0.3978 - accuracy: 0.8143\n",
      "Epoch 18/100\n",
      "154/154 [==============================] - 0s 3ms/step - loss: 0.3956 - accuracy: 0.8141\n",
      "Epoch 19/100\n",
      "154/154 [==============================] - 0s 3ms/step - loss: 0.3945 - accuracy: 0.8127\n",
      "Epoch 20/100\n",
      "154/154 [==============================] - 0s 3ms/step - loss: 0.3941 - accuracy: 0.8106\n",
      "Epoch 21/100\n",
      "154/154 [==============================] - 0s 3ms/step - loss: 0.3928 - accuracy: 0.8106\n",
      "Epoch 22/100\n",
      "154/154 [==============================] - 0s 3ms/step - loss: 0.3916 - accuracy: 0.8171\n",
      "Epoch 23/100\n",
      "154/154 [==============================] - 0s 3ms/step - loss: 0.3932 - accuracy: 0.8159\n",
      "Epoch 24/100\n",
      "154/154 [==============================] - 0s 3ms/step - loss: 0.3910 - accuracy: 0.8143\n",
      "Epoch 25/100\n",
      "154/154 [==============================] - 0s 3ms/step - loss: 0.3901 - accuracy: 0.8149\n",
      "Epoch 26/100\n",
      "154/154 [==============================] - 0s 3ms/step - loss: 0.3892 - accuracy: 0.8178\n",
      "Epoch 27/100\n",
      "154/154 [==============================] - 0s 3ms/step - loss: 0.3879 - accuracy: 0.8171\n",
      "Epoch 28/100\n",
      "154/154 [==============================] - 0s 3ms/step - loss: 0.3879 - accuracy: 0.8155\n",
      "Epoch 29/100\n",
      "154/154 [==============================] - 0s 3ms/step - loss: 0.3865 - accuracy: 0.8131\n",
      "Epoch 30/100\n",
      "154/154 [==============================] - 0s 3ms/step - loss: 0.3873 - accuracy: 0.8143\n",
      "Epoch 31/100\n",
      "154/154 [==============================] - 0s 3ms/step - loss: 0.3864 - accuracy: 0.8184\n",
      "Epoch 32/100\n",
      "154/154 [==============================] - 0s 3ms/step - loss: 0.3850 - accuracy: 0.8184\n",
      "Epoch 33/100\n",
      "154/154 [==============================] - 0s 3ms/step - loss: 0.3843 - accuracy: 0.8178\n",
      "Epoch 34/100\n",
      "154/154 [==============================] - 0s 3ms/step - loss: 0.3842 - accuracy: 0.8163\n",
      "Epoch 35/100\n",
      "154/154 [==============================] - 1s 3ms/step - loss: 0.3828 - accuracy: 0.8147\n",
      "Epoch 36/100\n",
      "154/154 [==============================] - 0s 3ms/step - loss: 0.3821 - accuracy: 0.8216\n",
      "Epoch 37/100\n",
      "154/154 [==============================] - 0s 3ms/step - loss: 0.3818 - accuracy: 0.8194\n",
      "Epoch 38/100\n",
      "154/154 [==============================] - 0s 3ms/step - loss: 0.3817 - accuracy: 0.8180\n",
      "Epoch 39/100\n",
      "154/154 [==============================] - 0s 3ms/step - loss: 0.3810 - accuracy: 0.8196\n",
      "Epoch 40/100\n",
      "154/154 [==============================] - 0s 3ms/step - loss: 0.3805 - accuracy: 0.8204\n",
      "Epoch 41/100\n",
      "154/154 [==============================] - 1s 3ms/step - loss: 0.3801 - accuracy: 0.8196\n",
      "Epoch 42/100\n",
      "154/154 [==============================] - 0s 3ms/step - loss: 0.3791 - accuracy: 0.8210\n",
      "Epoch 43/100\n",
      "154/154 [==============================] - 0s 3ms/step - loss: 0.3795 - accuracy: 0.8224\n",
      "Epoch 44/100\n",
      "154/154 [==============================] - 0s 3ms/step - loss: 0.3796 - accuracy: 0.8206\n",
      "Epoch 45/100\n",
      "154/154 [==============================] - 0s 3ms/step - loss: 0.3800 - accuracy: 0.8216\n",
      "Epoch 46/100\n",
      "154/154 [==============================] - 0s 3ms/step - loss: 0.3784 - accuracy: 0.8196\n",
      "Epoch 47/100\n",
      "154/154 [==============================] - 0s 3ms/step - loss: 0.3768 - accuracy: 0.8212\n",
      "Epoch 48/100\n",
      "154/154 [==============================] - 1s 3ms/step - loss: 0.3764 - accuracy: 0.8241\n",
      "Epoch 49/100\n",
      "154/154 [==============================] - 0s 3ms/step - loss: 0.3770 - accuracy: 0.8243\n",
      "Epoch 50/100\n",
      "154/154 [==============================] - 0s 3ms/step - loss: 0.3761 - accuracy: 0.8249\n",
      "Epoch 51/100\n",
      "154/154 [==============================] - 0s 3ms/step - loss: 0.3755 - accuracy: 0.8210\n",
      "Epoch 52/100\n",
      "154/154 [==============================] - 0s 3ms/step - loss: 0.3751 - accuracy: 0.8216\n",
      "Epoch 53/100\n",
      "154/154 [==============================] - 0s 3ms/step - loss: 0.3750 - accuracy: 0.8234\n",
      "Epoch 54/100\n",
      "154/154 [==============================] - 0s 3ms/step - loss: 0.3748 - accuracy: 0.8214\n",
      "Epoch 55/100\n",
      "154/154 [==============================] - 0s 3ms/step - loss: 0.3746 - accuracy: 0.8214\n",
      "Epoch 56/100\n",
      "154/154 [==============================] - 0s 3ms/step - loss: 0.3741 - accuracy: 0.8210\n",
      "Epoch 57/100\n",
      "154/154 [==============================] - 0s 3ms/step - loss: 0.3738 - accuracy: 0.8247\n",
      "Epoch 58/100\n",
      "154/154 [==============================] - 0s 3ms/step - loss: 0.3727 - accuracy: 0.8212\n",
      "Epoch 59/100\n",
      "154/154 [==============================] - 1s 3ms/step - loss: 0.3738 - accuracy: 0.8255\n",
      "Epoch 60/100\n",
      "154/154 [==============================] - 0s 3ms/step - loss: 0.3736 - accuracy: 0.8198\n",
      "Epoch 61/100\n",
      "154/154 [==============================] - 0s 3ms/step - loss: 0.3727 - accuracy: 0.8269\n",
      "Epoch 62/100\n",
      "154/154 [==============================] - 0s 3ms/step - loss: 0.3712 - accuracy: 0.8230\n",
      "Epoch 63/100\n",
      "154/154 [==============================] - 0s 3ms/step - loss: 0.3712 - accuracy: 0.8255\n",
      "Epoch 64/100\n",
      "154/154 [==============================] - 0s 3ms/step - loss: 0.3727 - accuracy: 0.8234\n",
      "Epoch 65/100\n",
      "154/154 [==============================] - 0s 3ms/step - loss: 0.3710 - accuracy: 0.8271\n",
      "Epoch 66/100\n",
      "154/154 [==============================] - 1s 3ms/step - loss: 0.3700 - accuracy: 0.8283\n",
      "Epoch 67/100\n",
      "154/154 [==============================] - 0s 3ms/step - loss: 0.3704 - accuracy: 0.8218\n",
      "Epoch 68/100\n",
      "154/154 [==============================] - 0s 3ms/step - loss: 0.3701 - accuracy: 0.8232\n",
      "Epoch 69/100\n",
      "154/154 [==============================] - 1s 3ms/step - loss: 0.3691 - accuracy: 0.8265\n",
      "Epoch 70/100\n",
      "154/154 [==============================] - 1s 3ms/step - loss: 0.3687 - accuracy: 0.8255\n",
      "Epoch 71/100\n",
      "154/154 [==============================] - 0s 3ms/step - loss: 0.3708 - accuracy: 0.8251\n",
      "Epoch 72/100\n",
      "154/154 [==============================] - 0s 3ms/step - loss: 0.3701 - accuracy: 0.8243\n",
      "Epoch 73/100\n",
      "154/154 [==============================] - 0s 3ms/step - loss: 0.3683 - accuracy: 0.8247\n",
      "Epoch 74/100\n",
      "154/154 [==============================] - 0s 3ms/step - loss: 0.3691 - accuracy: 0.8251\n",
      "Epoch 75/100\n",
      "154/154 [==============================] - 0s 3ms/step - loss: 0.3686 - accuracy: 0.8259\n",
      "Epoch 76/100\n",
      "154/154 [==============================] - 0s 3ms/step - loss: 0.3687 - accuracy: 0.8267\n",
      "Epoch 77/100\n",
      "154/154 [==============================] - 0s 3ms/step - loss: 0.3675 - accuracy: 0.8234\n",
      "Epoch 78/100\n",
      "154/154 [==============================] - 0s 3ms/step - loss: 0.3674 - accuracy: 0.8269\n",
      "Epoch 79/100\n",
      "154/154 [==============================] - 0s 3ms/step - loss: 0.3671 - accuracy: 0.8273\n",
      "Epoch 80/100\n",
      "154/154 [==============================] - 0s 3ms/step - loss: 0.3671 - accuracy: 0.8302\n",
      "Epoch 81/100\n",
      "154/154 [==============================] - 0s 3ms/step - loss: 0.3672 - accuracy: 0.8277\n",
      "Epoch 82/100\n",
      "154/154 [==============================] - 0s 3ms/step - loss: 0.3669 - accuracy: 0.8283\n",
      "Epoch 83/100\n",
      "154/154 [==============================] - 0s 3ms/step - loss: 0.3669 - accuracy: 0.8291\n",
      "Epoch 84/100\n",
      "154/154 [==============================] - 0s 3ms/step - loss: 0.3661 - accuracy: 0.8283\n",
      "Epoch 85/100\n",
      "154/154 [==============================] - 1s 3ms/step - loss: 0.3653 - accuracy: 0.8283\n",
      "Epoch 86/100\n",
      "154/154 [==============================] - 0s 3ms/step - loss: 0.3657 - accuracy: 0.8269\n",
      "Epoch 87/100\n",
      "154/154 [==============================] - 0s 3ms/step - loss: 0.3651 - accuracy: 0.8297\n",
      "Epoch 88/100\n",
      "154/154 [==============================] - 0s 3ms/step - loss: 0.3664 - accuracy: 0.8279\n",
      "Epoch 89/100\n",
      "154/154 [==============================] - 0s 3ms/step - loss: 0.3652 - accuracy: 0.8271\n",
      "Epoch 90/100\n",
      "154/154 [==============================] - 1s 3ms/step - loss: 0.3645 - accuracy: 0.8310\n",
      "Epoch 91/100\n",
      "154/154 [==============================] - 1s 3ms/step - loss: 0.3641 - accuracy: 0.8297\n",
      "Epoch 92/100\n",
      "154/154 [==============================] - 0s 3ms/step - loss: 0.3646 - accuracy: 0.8291\n",
      "Epoch 93/100\n",
      "154/154 [==============================] - 0s 3ms/step - loss: 0.3642 - accuracy: 0.8299\n",
      "Epoch 94/100\n",
      "154/154 [==============================] - 0s 3ms/step - loss: 0.3643 - accuracy: 0.8297\n",
      "Epoch 95/100\n",
      "154/154 [==============================] - 0s 3ms/step - loss: 0.3643 - accuracy: 0.8275\n",
      "Epoch 96/100\n",
      "154/154 [==============================] - 0s 3ms/step - loss: 0.3627 - accuracy: 0.8312\n",
      "Epoch 97/100\n",
      "154/154 [==============================] - 1s 3ms/step - loss: 0.3644 - accuracy: 0.8277\n",
      "Epoch 98/100\n",
      "154/154 [==============================] - 0s 2ms/step - loss: 0.3630 - accuracy: 0.8281\n",
      "Epoch 99/100\n",
      "154/154 [==============================] - 0s 3ms/step - loss: 0.3626 - accuracy: 0.8316\n",
      "Epoch 100/100\n",
      "154/154 [==============================] - 0s 3ms/step - loss: 0.3631 - accuracy: 0.8291\n"
     ]
    },
    {
     "data": {
      "text/plain": [
       "<keras.src.callbacks.History at 0x1b73eeff390>"
      ]
     },
     "execution_count": 118,
     "metadata": {},
     "output_type": "execute_result"
    }
   ],
   "source": [
    "import tensorflow\n",
    "from tensorflow import keras\n",
    "\n",
    "model = keras.Sequential([\n",
    "    keras.layers.Dense(26, input_shape = (26,), activation = \"relu\"),\n",
    "    keras.layers.Dense(1, activation = \"sigmoid\")\n",
    "])\n",
    "\n",
    "model.compile(optimizer = \"adam\", loss = \"binary_crossentropy\", metrics = [\"accuracy\"])\n",
    "\n",
    "model.fit(X_train, y_train, epochs = 100)"
   ]
  },
  {
   "cell_type": "code",
   "execution_count": 119,
   "id": "1fb812e2-1b7c-4b25-8495-f2936b844ede",
   "metadata": {},
   "outputs": [
    {
     "name": "stdout",
     "output_type": "stream",
     "text": [
      "33/33 [==============================] - 0s 2ms/step\n"
     ]
    }
   ],
   "source": [
    "y_pred = model.predict(X_test)"
   ]
  },
  {
   "cell_type": "code",
   "execution_count": 120,
   "id": "8d2ae98f-7b52-492f-8f7d-10b68680b6d9",
   "metadata": {},
   "outputs": [
    {
     "name": "stdout",
     "output_type": "stream",
     "text": [
      "33/33 [==============================] - 0s 3ms/step - loss: 0.4091 - accuracy: 0.7972\n"
     ]
    },
    {
     "data": {
      "text/plain": [
       "[0.4091457426548004, 0.7971563935279846]"
      ]
     },
     "execution_count": 120,
     "metadata": {},
     "output_type": "execute_result"
    }
   ],
   "source": [
    "model.evaluate(X_test, y_test)"
   ]
  },
  {
   "cell_type": "code",
   "execution_count": 121,
   "id": "79feaa2a-f606-4f11-8021-ea5f05e6b578",
   "metadata": {},
   "outputs": [
    {
     "data": {
      "text/plain": [
       "array([[0.0076448 ],\n",
       "       [0.09155203],\n",
       "       [0.00189352],\n",
       "       [0.83848774],\n",
       "       [0.32469034]], dtype=float32)"
      ]
     },
     "execution_count": 121,
     "metadata": {},
     "output_type": "execute_result"
    }
   ],
   "source": [
    "y_pred[:5]"
   ]
  },
  {
   "cell_type": "code",
   "execution_count": 122,
   "id": "bfa0435b-f434-413c-aa90-30b9282480fe",
   "metadata": {},
   "outputs": [],
   "source": [
    "y_pred_final = []\n",
    "for i in y_pred:\n",
    "    if i > 0.5:\n",
    "        y_pred_final.append(1)\n",
    "    else:\n",
    "        y_pred_final.append(0)"
   ]
  },
  {
   "cell_type": "code",
   "execution_count": 123,
   "id": "da64811c-e54d-4fdb-a7df-205b24813d97",
   "metadata": {},
   "outputs": [
    {
     "data": {
      "text/plain": [
       "[0, 0, 0, 1, 0, 0, 0, 0, 0, 0, 0, 0]"
      ]
     },
     "execution_count": 123,
     "metadata": {},
     "output_type": "execute_result"
    }
   ],
   "source": [
    "y_pred_final[:12]"
   ]
  },
  {
   "cell_type": "code",
   "execution_count": 124,
   "id": "9f908441-fe13-4839-96e5-8f41cff43629",
   "metadata": {},
   "outputs": [
    {
     "name": "stdout",
     "output_type": "stream",
     "text": [
      "              precision    recall  f1-score   support\n",
      "\n",
      "           0       0.85      0.88      0.87       777\n",
      "           1       0.63      0.55      0.59       278\n",
      "\n",
      "    accuracy                           0.80      1055\n",
      "   macro avg       0.74      0.72      0.73      1055\n",
      "weighted avg       0.79      0.80      0.79      1055\n",
      "\n"
     ]
    }
   ],
   "source": [
    "from sklearn.metrics import confusion_matrix, classification_report\n",
    "\n",
    "print(classification_report(y_test, y_pred_final))"
   ]
  },
  {
   "cell_type": "code",
   "execution_count": 125,
   "id": "2e0ccb31-bc7a-418e-b140-52f4c33e4e3b",
   "metadata": {},
   "outputs": [
    {
     "data": {
      "text/plain": [
       "Text(70.72222222222221, 0.5, 'Real')"
      ]
     },
     "execution_count": 125,
     "metadata": {},
     "output_type": "execute_result"
    },
    {
     "data": {
      "image/png": "[encoded data removed]",
      "text/plain": [
       "<Figure size 800x500 with 2 Axes>"
      ]
     },
     "metadata": {},
     "output_type": "display_data"
    }
   ],
   "source": [
    "import seaborn as sns\n",
    "import matplotlib.pyplot as plt\n",
    "\n",
    "cM =  tensorflow.math.confusion_matrix(labels = y_test, predictions= y_pred_final)\n",
    "\n",
    "plt.figure(figsize = (8,5))\n",
    "sns.heatmap(cM, annot =True, fmt =\"d\")\n",
    "plt.xlabel('Predicted')\n",
    "plt.ylabel('Real')"
   ]
  },
  {
   "cell_type": "code",
   "execution_count": 126,
   "id": "302d9c50-079f-4ccc-ba55-557922c2c92f",
   "metadata": {},
   "outputs": [],
   "source": [
    "###Pickle the file for deployment"
   ]
  },
  {
   "cell_type": "code",
   "execution_count": 127,
   "id": "c0919703-1c22-460b-b208-11460c646d83",
   "metadata": {},
   "outputs": [],
   "source": [
    "import pickle"
   ]
  },
  {
   "cell_type": "code",
   "execution_count": 128,
   "id": "fa7106a6-5cc5-4b7f-bb03-c57dcdc05731",
   "metadata": {},
   "outputs": [],
   "source": [
    "pickle.dump(model,open('churn_model.pkl','wb'))"
   ]
  },
  {
   "cell_type": "code",
   "execution_count": 129,
   "id": "f0c743a6-0fb1-4575-b48f-eddc00bb699b",
   "metadata": {},
   "outputs": [],
   "source": [
    "pickled_model = pickle.load(open('churn_model.pkl','rb'))"
   ]
  }
 ],
 "metadata": {
  "kernelspec": {
   "display_name": "Python 3 (ipykernel)",
   "language": "python",
   "name": "python3"
  },
  "language_info": {
   "codemirror_mode": {
    "name": "ipython",
    "version": 3
   },
   "file_extension": ".py",
   "mimetype": "text/x-python",
   "name": "python",
   "nbconvert_exporter": "python",
   "pygments_lexer": "ipython3",
   "version": "3.11.4"
  }
 },
 "nbformat": 4,
 "nbformat_minor": 5
}
