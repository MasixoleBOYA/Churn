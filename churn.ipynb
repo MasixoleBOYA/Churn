{
 "cells": [
  {
   "cell_type": "code",
   "execution_count": 1,
   "id": "ced692a0-3cee-4ed9-9d3a-b237de16445d",
   "metadata": {},
   "outputs": [],
   "source": [
    "import pandas as pd\n",
    "import numpy as np\n",
    "import matplotlib as plt"
   ]
  },
  {
   "cell_type": "code",
   "execution_count": 2,
   "id": "055d38fa-28fd-468f-b490-1ba548d5df7b",
   "metadata": {},
   "outputs": [
    {
     "data": {
      "text/html": [
       "<div>\n",
       "<style scoped>\n",
       "    .dataframe tbody tr th:only-of-type {\n",
       "        vertical-align: middle;\n",
       "    }\n",
       "\n",
       "    .dataframe tbody tr th {\n",
       "        vertical-align: top;\n",
       "    }\n",
       "\n",
       "    .dataframe thead th {\n",
       "        text-align: right;\n",
       "    }\n",
       "</style>\n",
       "<table border=\"1\" class=\"dataframe\">\n",
       "  <thead>\n",
       "    <tr style=\"text-align: right;\">\n",
       "      <th></th>\n",
       "      <th>CustomerID</th>\n",
       "      <th>Count</th>\n",
       "      <th>Country</th>\n",
       "      <th>State</th>\n",
       "      <th>City</th>\n",
       "      <th>Zip Code</th>\n",
       "      <th>Lat Long</th>\n",
       "      <th>Latitude</th>\n",
       "      <th>Longitude</th>\n",
       "      <th>Gender</th>\n",
       "      <th>...</th>\n",
       "      <th>Contract</th>\n",
       "      <th>Paperless Billing</th>\n",
       "      <th>Payment Method</th>\n",
       "      <th>Monthly Charges</th>\n",
       "      <th>Total Charges</th>\n",
       "      <th>Churn Label</th>\n",
       "      <th>Churn Value</th>\n",
       "      <th>Churn Score</th>\n",
       "      <th>CLTV</th>\n",
       "      <th>Churn Reason</th>\n",
       "    </tr>\n",
       "  </thead>\n",
       "  <tbody>\n",
       "    <tr>\n",
       "      <th>6043</th>\n",
       "      <td>3566-CAAYU</td>\n",
       "      <td>1</td>\n",
       "      <td>United States</td>\n",
       "      <td>California</td>\n",
       "      <td>Cayucos</td>\n",
       "      <td>93430</td>\n",
       "      <td>35.511833, -120.918713</td>\n",
       "      <td>35.511833</td>\n",
       "      <td>-120.918713</td>\n",
       "      <td>Female</td>\n",
       "      <td>...</td>\n",
       "      <td>Two year</td>\n",
       "      <td>No</td>\n",
       "      <td>Electronic check</td>\n",
       "      <td>49.85</td>\n",
       "      <td>3210.35</td>\n",
       "      <td>No</td>\n",
       "      <td>0</td>\n",
       "      <td>56</td>\n",
       "      <td>5644</td>\n",
       "      <td>NaN</td>\n",
       "    </tr>\n",
       "    <tr>\n",
       "      <th>560</th>\n",
       "      <td>3106-ULWFW</td>\n",
       "      <td>1</td>\n",
       "      <td>United States</td>\n",
       "      <td>California</td>\n",
       "      <td>Fontana</td>\n",
       "      <td>92337</td>\n",
       "      <td>34.049671, -117.468896</td>\n",
       "      <td>34.049671</td>\n",
       "      <td>-117.468896</td>\n",
       "      <td>Female</td>\n",
       "      <td>...</td>\n",
       "      <td>Month-to-month</td>\n",
       "      <td>Yes</td>\n",
       "      <td>Credit card (automatic)</td>\n",
       "      <td>85.20</td>\n",
       "      <td>627.4</td>\n",
       "      <td>Yes</td>\n",
       "      <td>1</td>\n",
       "      <td>95</td>\n",
       "      <td>2887</td>\n",
       "      <td>Attitude of service provider</td>\n",
       "    </tr>\n",
       "    <tr>\n",
       "      <th>6581</th>\n",
       "      <td>5298-GSTLM</td>\n",
       "      <td>1</td>\n",
       "      <td>United States</td>\n",
       "      <td>California</td>\n",
       "      <td>Sacramento</td>\n",
       "      <td>95817</td>\n",
       "      <td>38.550722, -121.457314</td>\n",
       "      <td>38.550722</td>\n",
       "      <td>-121.457314</td>\n",
       "      <td>Female</td>\n",
       "      <td>...</td>\n",
       "      <td>One year</td>\n",
       "      <td>Yes</td>\n",
       "      <td>Bank transfer (automatic)</td>\n",
       "      <td>101.40</td>\n",
       "      <td>6176.6</td>\n",
       "      <td>No</td>\n",
       "      <td>0</td>\n",
       "      <td>66</td>\n",
       "      <td>4483</td>\n",
       "      <td>NaN</td>\n",
       "    </tr>\n",
       "    <tr>\n",
       "      <th>1896</th>\n",
       "      <td>9489-DEDVP</td>\n",
       "      <td>1</td>\n",
       "      <td>United States</td>\n",
       "      <td>California</td>\n",
       "      <td>Los Angeles</td>\n",
       "      <td>90044</td>\n",
       "      <td>33.952714, -118.292061</td>\n",
       "      <td>33.952714</td>\n",
       "      <td>-118.292061</td>\n",
       "      <td>Female</td>\n",
       "      <td>...</td>\n",
       "      <td>Two year</td>\n",
       "      <td>Yes</td>\n",
       "      <td>Credit card (automatic)</td>\n",
       "      <td>69.20</td>\n",
       "      <td>4872.35</td>\n",
       "      <td>No</td>\n",
       "      <td>0</td>\n",
       "      <td>25</td>\n",
       "      <td>4715</td>\n",
       "      <td>NaN</td>\n",
       "    </tr>\n",
       "    <tr>\n",
       "      <th>4390</th>\n",
       "      <td>0603-OLQDC</td>\n",
       "      <td>1</td>\n",
       "      <td>United States</td>\n",
       "      <td>California</td>\n",
       "      <td>Whittier</td>\n",
       "      <td>90601</td>\n",
       "      <td>34.007353, -118.033683</td>\n",
       "      <td>34.007353</td>\n",
       "      <td>-118.033683</td>\n",
       "      <td>Male</td>\n",
       "      <td>...</td>\n",
       "      <td>Month-to-month</td>\n",
       "      <td>Yes</td>\n",
       "      <td>Mailed check</td>\n",
       "      <td>69.85</td>\n",
       "      <td>837.5</td>\n",
       "      <td>No</td>\n",
       "      <td>0</td>\n",
       "      <td>36</td>\n",
       "      <td>5796</td>\n",
       "      <td>NaN</td>\n",
       "    </tr>\n",
       "  </tbody>\n",
       "</table>\n",
       "<p>5 rows × 33 columns</p>\n",
       "</div>"
      ],
      "text/plain": [
       "      CustomerID  Count        Country       State         City  Zip Code  \\\n",
       "6043  3566-CAAYU      1  United States  California      Cayucos     93430   \n",
       "560   3106-ULWFW      1  United States  California      Fontana     92337   \n",
       "6581  5298-GSTLM      1  United States  California   Sacramento     95817   \n",
       "1896  9489-DEDVP      1  United States  California  Los Angeles     90044   \n",
       "4390  0603-OLQDC      1  United States  California     Whittier     90601   \n",
       "\n",
       "                    Lat Long   Latitude   Longitude  Gender  ...  \\\n",
       "6043  35.511833, -120.918713  35.511833 -120.918713  Female  ...   \n",
       "560   34.049671, -117.468896  34.049671 -117.468896  Female  ...   \n",
       "6581  38.550722, -121.457314  38.550722 -121.457314  Female  ...   \n",
       "1896  33.952714, -118.292061  33.952714 -118.292061  Female  ...   \n",
       "4390  34.007353, -118.033683  34.007353 -118.033683    Male  ...   \n",
       "\n",
       "            Contract Paperless Billing             Payment Method  \\\n",
       "6043        Two year                No           Electronic check   \n",
       "560   Month-to-month               Yes    Credit card (automatic)   \n",
       "6581        One year               Yes  Bank transfer (automatic)   \n",
       "1896        Two year               Yes    Credit card (automatic)   \n",
       "4390  Month-to-month               Yes               Mailed check   \n",
       "\n",
       "      Monthly Charges Total Charges Churn Label Churn Value Churn Score  CLTV  \\\n",
       "6043            49.85       3210.35          No           0          56  5644   \n",
       "560             85.20         627.4         Yes           1          95  2887   \n",
       "6581           101.40        6176.6          No           0          66  4483   \n",
       "1896            69.20       4872.35          No           0          25  4715   \n",
       "4390            69.85         837.5          No           0          36  5796   \n",
       "\n",
       "                      Churn Reason  \n",
       "6043                           NaN  \n",
       "560   Attitude of service provider  \n",
       "6581                           NaN  \n",
       "1896                           NaN  \n",
       "4390                           NaN  \n",
       "\n",
       "[5 rows x 33 columns]"
      ]
     },
     "execution_count": 2,
     "metadata": {},
     "output_type": "execute_result"
    }
   ],
   "source": [
    "doc = pd.read_excel(\"C:/Users/STAFF/Desktop/Git_Repos/Telco_customer_churn.xlsx\")\n",
    "doc.sample(5)"
   ]
  },
  {
   "cell_type": "code",
   "execution_count": 3,
   "id": "02426e7e-82c7-4220-a35c-975ec88d94e0",
   "metadata": {},
   "outputs": [],
   "source": [
    "doc.drop(columns =[\"CustomerID\",\"Count\",\"Churn Reason\",\"Churn Label\",\"Churn Score\",\"Lat Long\"], inplace = True)"
   ]
  },
  {
   "cell_type": "code",
   "execution_count": 4,
   "id": "50f968c8-0e93-4812-b5f9-0006415efd84",
   "metadata": {},
   "outputs": [
    {
     "data": {
      "text/plain": [
       "(7043, 27)"
      ]
     },
     "execution_count": 4,
     "metadata": {},
     "output_type": "execute_result"
    }
   ],
   "source": [
    "doc.shape"
   ]
  },
  {
   "cell_type": "code",
   "execution_count": 5,
   "id": "ea959d46-4e42-411d-a46d-5d267949d224",
   "metadata": {},
   "outputs": [
    {
     "data": {
      "text/plain": [
       "(7043, 27)"
      ]
     },
     "execution_count": 5,
     "metadata": {},
     "output_type": "execute_result"
    }
   ],
   "source": [
    "doc = doc.dropna()\n",
    "doc.shape"
   ]
  },
  {
   "cell_type": "code",
   "execution_count": 6,
   "id": "3b7ddabf-d523-49e2-a1e8-19e92f2ad29e",
   "metadata": {},
   "outputs": [
    {
     "data": {
      "text/plain": [
       "(7032, 27)"
      ]
     },
     "execution_count": 6,
     "metadata": {},
     "output_type": "execute_result"
    }
   ],
   "source": [
    "doc = doc[doc[\"Total Charges\"] != \" \"]\n",
    "doc.shape"
   ]
  },
  {
   "cell_type": "code",
   "execution_count": 7,
   "id": "a64acf13-5d17-4fd0-bdee-79e4e15e4e86",
   "metadata": {},
   "outputs": [],
   "source": [
    "doc[\"Total Charges\"] = pd.to_numeric(doc[\"Total Charges\"])\n"
   ]
  },
  {
   "cell_type": "code",
   "execution_count": 8,
   "id": "a3c6381e-4c28-4364-97e6-b7e9299e0c89",
   "metadata": {
    "scrolled": true
   },
   "outputs": [
    {
     "data": {
      "text/plain": [
       "Country               object\n",
       "State                 object\n",
       "City                  object\n",
       "Zip Code               int64\n",
       "Latitude             float64\n",
       "Longitude            float64\n",
       "Gender                object\n",
       "Senior Citizen        object\n",
       "Partner               object\n",
       "Dependents            object\n",
       "Tenure Months          int64\n",
       "Phone Service         object\n",
       "Multiple Lines        object\n",
       "Internet Service      object\n",
       "Online Security       object\n",
       "Online Backup         object\n",
       "Device Protection     object\n",
       "Tech Support          object\n",
       "Streaming TV          object\n",
       "Streaming Movies      object\n",
       "Contract              object\n",
       "Paperless Billing     object\n",
       "Payment Method        object\n",
       "Monthly Charges      float64\n",
       "Total Charges        float64\n",
       "Churn Value            int64\n",
       "CLTV                   int64\n",
       "dtype: object"
      ]
     },
     "execution_count": 8,
     "metadata": {},
     "output_type": "execute_result"
    }
   ],
   "source": [
    "doc.dtypes"
   ]
  },
  {
   "cell_type": "code",
   "execution_count": 9,
   "id": "f72e35d6-6ca9-4e41-8107-23105e1bce7c",
   "metadata": {},
   "outputs": [],
   "source": [
    "def values_in_each_col(dataframe):\n",
    "    for i in dataframe:\n",
    "        if dataframe[i].dtypes == \"object\":\n",
    "            print(f\"{i} : {dataframe[i].unique()}\")"
   ]
  },
  {
   "cell_type": "code",
   "execution_count": 10,
   "id": "dc640c2e-569b-413c-93cf-5434c21c6f46",
   "metadata": {},
   "outputs": [
    {
     "name": "stdout",
     "output_type": "stream",
     "text": [
      "Country : ['United States']\n",
      "State : ['California']\n",
      "City : ['Los Angeles' 'Beverly Hills' 'Huntington Park' ... 'Tulelake'\n",
      " 'Olympic Valley' 'Redcrest']\n",
      "Gender : ['Male' 'Female']\n",
      "Senior Citizen : ['No' 'Yes']\n",
      "Partner : ['No' 'Yes']\n",
      "Dependents : ['No' 'Yes']\n",
      "Phone Service : ['Yes' 'No']\n",
      "Multiple Lines : ['No' 'Yes' 'No phone service']\n",
      "Internet Service : ['DSL' 'Fiber optic' 'No']\n",
      "Online Security : ['Yes' 'No' 'No internet service']\n",
      "Online Backup : ['Yes' 'No' 'No internet service']\n",
      "Device Protection : ['No' 'Yes' 'No internet service']\n",
      "Tech Support : ['No' 'Yes' 'No internet service']\n",
      "Streaming TV : ['No' 'Yes' 'No internet service']\n",
      "Streaming Movies : ['No' 'Yes' 'No internet service']\n",
      "Contract : ['Month-to-month' 'Two year' 'One year']\n",
      "Paperless Billing : ['Yes' 'No']\n",
      "Payment Method : ['Mailed check' 'Electronic check' 'Bank transfer (automatic)'\n",
      " 'Credit card (automatic)']\n"
     ]
    }
   ],
   "source": [
    "values_in_each_col(doc)"
   ]
  },
  {
   "cell_type": "code",
   "execution_count": 11,
   "id": "3fb400de-2b26-43a3-be16-32e4bce2331f",
   "metadata": {},
   "outputs": [],
   "source": [
    "doc.replace(\"No internet service\" , \"No\", inplace = True)\n",
    "doc.replace(\"No phone service\" , \"No\", inplace = True)\n"
   ]
  },
  {
   "cell_type": "code",
   "execution_count": 12,
   "id": "ef020e17-7eb1-4bd6-81a2-3efe8880f3fa",
   "metadata": {},
   "outputs": [
    {
     "name": "stdout",
     "output_type": "stream",
     "text": [
      "Country : ['United States']\n",
      "State : ['California']\n",
      "City : ['Los Angeles' 'Beverly Hills' 'Huntington Park' ... 'Tulelake'\n",
      " 'Olympic Valley' 'Redcrest']\n",
      "Gender : ['Male' 'Female']\n",
      "Senior Citizen : ['No' 'Yes']\n",
      "Partner : ['No' 'Yes']\n",
      "Dependents : ['No' 'Yes']\n",
      "Phone Service : ['Yes' 'No']\n",
      "Multiple Lines : ['No' 'Yes']\n",
      "Internet Service : ['DSL' 'Fiber optic' 'No']\n",
      "Online Security : ['Yes' 'No']\n",
      "Online Backup : ['Yes' 'No']\n",
      "Device Protection : ['No' 'Yes']\n",
      "Tech Support : ['No' 'Yes']\n",
      "Streaming TV : ['No' 'Yes']\n",
      "Streaming Movies : ['No' 'Yes']\n",
      "Contract : ['Month-to-month' 'Two year' 'One year']\n",
      "Paperless Billing : ['Yes' 'No']\n",
      "Payment Method : ['Mailed check' 'Electronic check' 'Bank transfer (automatic)'\n",
      " 'Credit card (automatic)']\n"
     ]
    }
   ],
   "source": [
    "values_in_each_col(doc)"
   ]
  },
  {
   "cell_type": "code",
   "execution_count": 13,
   "id": "76599dad-42a3-4c94-8f3b-caa1d7fa363d",
   "metadata": {},
   "outputs": [
    {
     "data": {
      "text/html": [
       "<div>\n",
       "<style scoped>\n",
       "    .dataframe tbody tr th:only-of-type {\n",
       "        vertical-align: middle;\n",
       "    }\n",
       "\n",
       "    .dataframe tbody tr th {\n",
       "        vertical-align: top;\n",
       "    }\n",
       "\n",
       "    .dataframe thead th {\n",
       "        text-align: right;\n",
       "    }\n",
       "</style>\n",
       "<table border=\"1\" class=\"dataframe\">\n",
       "  <thead>\n",
       "    <tr style=\"text-align: right;\">\n",
       "      <th></th>\n",
       "      <th>Country</th>\n",
       "      <th>State</th>\n",
       "      <th>City</th>\n",
       "      <th>Zip Code</th>\n",
       "      <th>Latitude</th>\n",
       "      <th>Longitude</th>\n",
       "      <th>Gender</th>\n",
       "      <th>Senior Citizen</th>\n",
       "      <th>Partner</th>\n",
       "      <th>Dependents</th>\n",
       "      <th>...</th>\n",
       "      <th>Tech Support</th>\n",
       "      <th>Streaming TV</th>\n",
       "      <th>Streaming Movies</th>\n",
       "      <th>Contract</th>\n",
       "      <th>Paperless Billing</th>\n",
       "      <th>Payment Method</th>\n",
       "      <th>Monthly Charges</th>\n",
       "      <th>Total Charges</th>\n",
       "      <th>Churn Value</th>\n",
       "      <th>CLTV</th>\n",
       "    </tr>\n",
       "  </thead>\n",
       "  <tbody>\n",
       "    <tr>\n",
       "      <th>2742</th>\n",
       "      <td>0</td>\n",
       "      <td>0</td>\n",
       "      <td>180</td>\n",
       "      <td>95307</td>\n",
       "      <td>37.553469</td>\n",
       "      <td>-120.952825</td>\n",
       "      <td>1</td>\n",
       "      <td>0</td>\n",
       "      <td>0</td>\n",
       "      <td>0</td>\n",
       "      <td>...</td>\n",
       "      <td>1</td>\n",
       "      <td>0</td>\n",
       "      <td>0</td>\n",
       "      <td>2</td>\n",
       "      <td>1</td>\n",
       "      <td>0</td>\n",
       "      <td>49.80</td>\n",
       "      <td>1971.15</td>\n",
       "      <td>0</td>\n",
       "      <td>2202</td>\n",
       "    </tr>\n",
       "    <tr>\n",
       "      <th>6561</th>\n",
       "      <td>0</td>\n",
       "      <td>0</td>\n",
       "      <td>1115</td>\n",
       "      <td>95695</td>\n",
       "      <td>38.719670</td>\n",
       "      <td>-121.862416</td>\n",
       "      <td>1</td>\n",
       "      <td>1</td>\n",
       "      <td>1</td>\n",
       "      <td>0</td>\n",
       "      <td>...</td>\n",
       "      <td>0</td>\n",
       "      <td>1</td>\n",
       "      <td>1</td>\n",
       "      <td>0</td>\n",
       "      <td>1</td>\n",
       "      <td>2</td>\n",
       "      <td>104.35</td>\n",
       "      <td>6578.55</td>\n",
       "      <td>0</td>\n",
       "      <td>4073</td>\n",
       "    </tr>\n",
       "    <tr>\n",
       "      <th>615</th>\n",
       "      <td>0</td>\n",
       "      <td>0</td>\n",
       "      <td>1007</td>\n",
       "      <td>93270</td>\n",
       "      <td>35.939068</td>\n",
       "      <td>-119.043666</td>\n",
       "      <td>0</td>\n",
       "      <td>1</td>\n",
       "      <td>0</td>\n",
       "      <td>0</td>\n",
       "      <td>...</td>\n",
       "      <td>0</td>\n",
       "      <td>1</td>\n",
       "      <td>1</td>\n",
       "      <td>1</td>\n",
       "      <td>1</td>\n",
       "      <td>0</td>\n",
       "      <td>104.75</td>\n",
       "      <td>5510.65</td>\n",
       "      <td>1</td>\n",
       "      <td>5605</td>\n",
       "    </tr>\n",
       "    <tr>\n",
       "      <th>5227</th>\n",
       "      <td>0</td>\n",
       "      <td>0</td>\n",
       "      <td>201</td>\n",
       "      <td>95425</td>\n",
       "      <td>38.801936</td>\n",
       "      <td>-122.938935</td>\n",
       "      <td>1</td>\n",
       "      <td>0</td>\n",
       "      <td>0</td>\n",
       "      <td>0</td>\n",
       "      <td>...</td>\n",
       "      <td>1</td>\n",
       "      <td>1</td>\n",
       "      <td>1</td>\n",
       "      <td>1</td>\n",
       "      <td>0</td>\n",
       "      <td>1</td>\n",
       "      <td>54.90</td>\n",
       "      <td>3045.75</td>\n",
       "      <td>0</td>\n",
       "      <td>5677</td>\n",
       "    </tr>\n",
       "    <tr>\n",
       "      <th>1915</th>\n",
       "      <td>0</td>\n",
       "      <td>0</td>\n",
       "      <td>77</td>\n",
       "      <td>90212</td>\n",
       "      <td>34.062095</td>\n",
       "      <td>-118.401508</td>\n",
       "      <td>0</td>\n",
       "      <td>0</td>\n",
       "      <td>0</td>\n",
       "      <td>0</td>\n",
       "      <td>...</td>\n",
       "      <td>1</td>\n",
       "      <td>1</td>\n",
       "      <td>1</td>\n",
       "      <td>0</td>\n",
       "      <td>1</td>\n",
       "      <td>2</td>\n",
       "      <td>75.30</td>\n",
       "      <td>244.10</td>\n",
       "      <td>0</td>\n",
       "      <td>5387</td>\n",
       "    </tr>\n",
       "  </tbody>\n",
       "</table>\n",
       "<p>5 rows × 27 columns</p>\n",
       "</div>"
      ],
      "text/plain": [
       "      Country  State  City  Zip Code   Latitude   Longitude  Gender  \\\n",
       "2742        0      0   180     95307  37.553469 -120.952825       1   \n",
       "6561        0      0  1115     95695  38.719670 -121.862416       1   \n",
       "615         0      0  1007     93270  35.939068 -119.043666       0   \n",
       "5227        0      0   201     95425  38.801936 -122.938935       1   \n",
       "1915        0      0    77     90212  34.062095 -118.401508       0   \n",
       "\n",
       "      Senior Citizen  Partner  Dependents  ...  Tech Support  Streaming TV  \\\n",
       "2742               0        0           0  ...             1             0   \n",
       "6561               1        1           0  ...             0             1   \n",
       "615                1        0           0  ...             0             1   \n",
       "5227               0        0           0  ...             1             1   \n",
       "1915               0        0           0  ...             1             1   \n",
       "\n",
       "      Streaming Movies  Contract  Paperless Billing  Payment Method  \\\n",
       "2742                 0         2                  1               0   \n",
       "6561                 1         0                  1               2   \n",
       "615                  1         1                  1               0   \n",
       "5227                 1         1                  0               1   \n",
       "1915                 1         0                  1               2   \n",
       "\n",
       "      Monthly Charges  Total Charges  Churn Value  CLTV  \n",
       "2742            49.80        1971.15            0  2202  \n",
       "6561           104.35        6578.55            0  4073  \n",
       "615            104.75        5510.65            1  5605  \n",
       "5227            54.90        3045.75            0  5677  \n",
       "1915            75.30         244.10            0  5387  \n",
       "\n",
       "[5 rows x 27 columns]"
      ]
     },
     "execution_count": 13,
     "metadata": {},
     "output_type": "execute_result"
    }
   ],
   "source": [
    "from sklearn.preprocessing import LabelEncoder\n",
    "encoder = LabelEncoder()\n",
    "\n",
    "for i in doc.columns:\n",
    "    if doc[i].dtypes == \"object\":\n",
    "         doc[i] = encoder.fit_transform(doc[i])\n",
    "\n",
    "doc.sample(5)"
   ]
  },
  {
   "cell_type": "code",
   "execution_count": 14,
   "id": "16c2719d-98d4-4ae1-b02a-c38926ff5fc6",
   "metadata": {},
   "outputs": [
    {
     "data": {
      "text/html": [
       "<div>\n",
       "<style scoped>\n",
       "    .dataframe tbody tr th:only-of-type {\n",
       "        vertical-align: middle;\n",
       "    }\n",
       "\n",
       "    .dataframe tbody tr th {\n",
       "        vertical-align: top;\n",
       "    }\n",
       "\n",
       "    .dataframe thead th {\n",
       "        text-align: right;\n",
       "    }\n",
       "</style>\n",
       "<table border=\"1\" class=\"dataframe\">\n",
       "  <thead>\n",
       "    <tr style=\"text-align: right;\">\n",
       "      <th></th>\n",
       "      <th>Country</th>\n",
       "      <th>State</th>\n",
       "      <th>City</th>\n",
       "      <th>Zip Code</th>\n",
       "      <th>Latitude</th>\n",
       "      <th>Longitude</th>\n",
       "      <th>Gender</th>\n",
       "      <th>Senior Citizen</th>\n",
       "      <th>Partner</th>\n",
       "      <th>Dependents</th>\n",
       "      <th>...</th>\n",
       "      <th>Tech Support</th>\n",
       "      <th>Streaming TV</th>\n",
       "      <th>Streaming Movies</th>\n",
       "      <th>Contract</th>\n",
       "      <th>Paperless Billing</th>\n",
       "      <th>Payment Method</th>\n",
       "      <th>Monthly Charges</th>\n",
       "      <th>Total Charges</th>\n",
       "      <th>Churn Value</th>\n",
       "      <th>CLTV</th>\n",
       "    </tr>\n",
       "  </thead>\n",
       "  <tbody>\n",
       "    <tr>\n",
       "      <th>2524</th>\n",
       "      <td>0</td>\n",
       "      <td>0</td>\n",
       "      <td>0.358156</td>\n",
       "      <td>0.652273</td>\n",
       "      <td>0.520911</td>\n",
       "      <td>0.187306</td>\n",
       "      <td>0</td>\n",
       "      <td>0</td>\n",
       "      <td>0</td>\n",
       "      <td>0</td>\n",
       "      <td>...</td>\n",
       "      <td>1</td>\n",
       "      <td>0</td>\n",
       "      <td>0</td>\n",
       "      <td>0.5</td>\n",
       "      <td>0</td>\n",
       "      <td>0.666667</td>\n",
       "      <td>0.462687</td>\n",
       "      <td>0.463963</td>\n",
       "      <td>0</td>\n",
       "      <td>0.979542</td>\n",
       "    </tr>\n",
       "    <tr>\n",
       "      <th>6046</th>\n",
       "      <td>0</td>\n",
       "      <td>0</td>\n",
       "      <td>0.351950</td>\n",
       "      <td>0.557305</td>\n",
       "      <td>0.253040</td>\n",
       "      <td>0.366694</td>\n",
       "      <td>1</td>\n",
       "      <td>0</td>\n",
       "      <td>1</td>\n",
       "      <td>0</td>\n",
       "      <td>...</td>\n",
       "      <td>0</td>\n",
       "      <td>0</td>\n",
       "      <td>0</td>\n",
       "      <td>0.5</td>\n",
       "      <td>0</td>\n",
       "      <td>0.666667</td>\n",
       "      <td>0.622388</td>\n",
       "      <td>0.359330</td>\n",
       "      <td>0</td>\n",
       "      <td>0.307761</td>\n",
       "    </tr>\n",
       "    <tr>\n",
       "      <th>3631</th>\n",
       "      <td>0</td>\n",
       "      <td>0</td>\n",
       "      <td>0.788121</td>\n",
       "      <td>0.560065</td>\n",
       "      <td>0.354118</td>\n",
       "      <td>0.365309</td>\n",
       "      <td>1</td>\n",
       "      <td>1</td>\n",
       "      <td>1</td>\n",
       "      <td>0</td>\n",
       "      <td>...</td>\n",
       "      <td>0</td>\n",
       "      <td>0</td>\n",
       "      <td>1</td>\n",
       "      <td>0.0</td>\n",
       "      <td>1</td>\n",
       "      <td>0.333333</td>\n",
       "      <td>0.724378</td>\n",
       "      <td>0.502187</td>\n",
       "      <td>0</td>\n",
       "      <td>0.353791</td>\n",
       "    </tr>\n",
       "    <tr>\n",
       "      <th>2392</th>\n",
       "      <td>0</td>\n",
       "      <td>0</td>\n",
       "      <td>0.049645</td>\n",
       "      <td>0.536201</td>\n",
       "      <td>0.295968</td>\n",
       "      <td>0.522119</td>\n",
       "      <td>1</td>\n",
       "      <td>0</td>\n",
       "      <td>1</td>\n",
       "      <td>0</td>\n",
       "      <td>...</td>\n",
       "      <td>1</td>\n",
       "      <td>0</td>\n",
       "      <td>0</td>\n",
       "      <td>1.0</td>\n",
       "      <td>1</td>\n",
       "      <td>0.333333</td>\n",
       "      <td>0.480100</td>\n",
       "      <td>0.553058</td>\n",
       "      <td>0</td>\n",
       "      <td>0.532355</td>\n",
       "    </tr>\n",
       "    <tr>\n",
       "      <th>3000</th>\n",
       "      <td>0</td>\n",
       "      <td>0</td>\n",
       "      <td>0.948582</td>\n",
       "      <td>0.971591</td>\n",
       "      <td>0.721373</td>\n",
       "      <td>0.347679</td>\n",
       "      <td>0</td>\n",
       "      <td>0</td>\n",
       "      <td>1</td>\n",
       "      <td>1</td>\n",
       "      <td>...</td>\n",
       "      <td>0</td>\n",
       "      <td>0</td>\n",
       "      <td>0</td>\n",
       "      <td>1.0</td>\n",
       "      <td>0</td>\n",
       "      <td>0.333333</td>\n",
       "      <td>0.015423</td>\n",
       "      <td>0.163645</td>\n",
       "      <td>0</td>\n",
       "      <td>0.760507</td>\n",
       "    </tr>\n",
       "  </tbody>\n",
       "</table>\n",
       "<p>5 rows × 27 columns</p>\n",
       "</div>"
      ],
      "text/plain": [
       "      Country  State      City  Zip Code  Latitude  Longitude  Gender  \\\n",
       "2524        0      0  0.358156  0.652273  0.520911   0.187306       0   \n",
       "6046        0      0  0.351950  0.557305  0.253040   0.366694       1   \n",
       "3631        0      0  0.788121  0.560065  0.354118   0.365309       1   \n",
       "2392        0      0  0.049645  0.536201  0.295968   0.522119       1   \n",
       "3000        0      0  0.948582  0.971591  0.721373   0.347679       0   \n",
       "\n",
       "      Senior Citizen  Partner  Dependents  ...  Tech Support  Streaming TV  \\\n",
       "2524               0        0           0  ...             1             0   \n",
       "6046               0        1           0  ...             0             0   \n",
       "3631               1        1           0  ...             0             0   \n",
       "2392               0        1           0  ...             1             0   \n",
       "3000               0        1           1  ...             0             0   \n",
       "\n",
       "      Streaming Movies  Contract  Paperless Billing  Payment Method  \\\n",
       "2524                 0       0.5                  0        0.666667   \n",
       "6046                 0       0.5                  0        0.666667   \n",
       "3631                 1       0.0                  1        0.333333   \n",
       "2392                 0       1.0                  1        0.333333   \n",
       "3000                 0       1.0                  0        0.333333   \n",
       "\n",
       "      Monthly Charges  Total Charges  Churn Value      CLTV  \n",
       "2524         0.462687       0.463963            0  0.979542  \n",
       "6046         0.622388       0.359330            0  0.307761  \n",
       "3631         0.724378       0.502187            0  0.353791  \n",
       "2392         0.480100       0.553058            0  0.532355  \n",
       "3000         0.015423       0.163645            0  0.760507  \n",
       "\n",
       "[5 rows x 27 columns]"
      ]
     },
     "execution_count": 14,
     "metadata": {},
     "output_type": "execute_result"
    }
   ],
   "source": [
    "import pandas as pd\n",
    "from sklearn.preprocessing import MinMaxScaler\n",
    "minmax = MinMaxScaler()\n",
    "\n",
    "# doc = minmax.fit_transform(doc.values)\n",
    "\n",
    "\n",
    "doc.iloc[:, :] = minmax.fit_transform(doc.values)\n",
    "\n",
    "doc = pd.DataFrame(doc) \n",
    "doc.sample(5)"
   ]
  },
  {
   "cell_type": "code",
   "execution_count": 15,
   "id": "c38bc0ac-8050-48ff-aa0c-e0ccc49600e3",
   "metadata": {},
   "outputs": [],
   "source": [
    "import pickle\n",
    "\n",
    "pickle.dump(minmax,open('scaling.pkl','wb'))"
   ]
  },
  {
   "cell_type": "code",
   "execution_count": 16,
   "id": "1a545669-d520-431e-8aa9-44571edc8e1e",
   "metadata": {},
   "outputs": [],
   "source": [
    "import pandas as pd\n",
    "\n",
    "doc = pd.DataFrame(doc) \n",
    "\n",
    "X = doc.drop(columns = \"Churn Value\", axis= \"columns\")\n",
    "y= doc[\"Churn Value\"]"
   ]
  },
  {
   "cell_type": "code",
   "execution_count": 17,
   "id": "6ed344b9-7c9c-4317-b4ad-4522093b435f",
   "metadata": {},
   "outputs": [
    {
     "data": {
      "text/plain": [
       "(7032, 26)"
      ]
     },
     "execution_count": 17,
     "metadata": {},
     "output_type": "execute_result"
    }
   ],
   "source": [
    "X.shape"
   ]
  },
  {
   "cell_type": "code",
   "execution_count": 18,
   "id": "e4cb5485-69fa-4cfc-a88f-7161f101ff25",
   "metadata": {},
   "outputs": [
    {
     "data": {
      "text/plain": [
       "(4922, 26)"
      ]
     },
     "execution_count": 18,
     "metadata": {},
     "output_type": "execute_result"
    }
   ],
   "source": [
    "from sklearn.model_selection import train_test_split\n",
    "\n",
    "X_train, X_rem, y_train, y_rem = train_test_split(X, y, train_size= 0.70, random_state=None)\n",
    "X_valid, X_test, y_valid, y_test = train_test_split(X_rem, y_rem, test_size=0.5)\n",
    "\n",
    "X_train.shape"
   ]
  },
  {
   "cell_type": "code",
   "execution_count": 19,
   "id": "484eb9ef-c7af-4e52-a1df-08f33064f1b4",
   "metadata": {},
   "outputs": [],
   "source": [
    "import tensorflow"
   ]
  },
  {
   "cell_type": "code",
   "execution_count": 20,
   "id": "fb530a58-0610-4493-8926-b11fcf67e0ee",
   "metadata": {
    "scrolled": true
   },
   "outputs": [
    {
     "name": "stdout",
     "output_type": "stream",
     "text": [
      "Epoch 1/100\n",
      "154/154 [==============================] - 3s 1ms/step - loss: 0.5667 - accuracy: 0.7015\n",
      "Epoch 2/100\n",
      "154/154 [==============================] - 0s 1ms/step - loss: 0.4591 - accuracy: 0.7716\n",
      "Epoch 3/100\n",
      "154/154 [==============================] - 0s 1ms/step - loss: 0.4279 - accuracy: 0.7964\n",
      "Epoch 4/100\n",
      "154/154 [==============================] - 0s 1ms/step - loss: 0.4174 - accuracy: 0.7993\n",
      "Epoch 5/100\n",
      "154/154 [==============================] - 0s 1ms/step - loss: 0.4134 - accuracy: 0.8068\n",
      "Epoch 6/100\n",
      "154/154 [==============================] - 0s 1ms/step - loss: 0.4110 - accuracy: 0.8052\n",
      "Epoch 7/100\n",
      "154/154 [==============================] - 0s 1ms/step - loss: 0.4096 - accuracy: 0.8086\n",
      "Epoch 8/100\n",
      "154/154 [==============================] - 0s 1ms/step - loss: 0.4078 - accuracy: 0.8100\n",
      "Epoch 9/100\n",
      "154/154 [==============================] - 0s 1ms/step - loss: 0.4079 - accuracy: 0.8052\n",
      "Epoch 10/100\n",
      "154/154 [==============================] - 0s 1ms/step - loss: 0.4051 - accuracy: 0.8080\n",
      "Epoch 11/100\n",
      "154/154 [==============================] - 0s 1ms/step - loss: 0.4037 - accuracy: 0.8096\n",
      "Epoch 12/100\n",
      "154/154 [==============================] - 0s 1ms/step - loss: 0.4024 - accuracy: 0.8117\n",
      "Epoch 13/100\n",
      "154/154 [==============================] - 0s 1ms/step - loss: 0.4010 - accuracy: 0.8117\n",
      "Epoch 14/100\n",
      "154/154 [==============================] - 0s 1ms/step - loss: 0.3997 - accuracy: 0.8108\n",
      "Epoch 15/100\n",
      "154/154 [==============================] - 0s 1ms/step - loss: 0.4001 - accuracy: 0.8135\n",
      "Epoch 16/100\n",
      "154/154 [==============================] - 0s 1ms/step - loss: 0.3985 - accuracy: 0.8133\n",
      "Epoch 17/100\n",
      "154/154 [==============================] - 0s 1ms/step - loss: 0.3975 - accuracy: 0.8131\n",
      "Epoch 18/100\n",
      "154/154 [==============================] - 0s 1ms/step - loss: 0.3960 - accuracy: 0.8129\n",
      "Epoch 19/100\n",
      "154/154 [==============================] - 0s 1ms/step - loss: 0.3950 - accuracy: 0.8161\n",
      "Epoch 20/100\n",
      "154/154 [==============================] - 0s 1ms/step - loss: 0.3950 - accuracy: 0.8129\n",
      "Epoch 21/100\n",
      "154/154 [==============================] - 0s 1ms/step - loss: 0.3938 - accuracy: 0.8141\n",
      "Epoch 22/100\n",
      "154/154 [==============================] - 0s 1ms/step - loss: 0.3929 - accuracy: 0.8153\n",
      "Epoch 23/100\n",
      "154/154 [==============================] - 0s 1ms/step - loss: 0.3932 - accuracy: 0.8133\n",
      "Epoch 24/100\n",
      "154/154 [==============================] - 0s 1ms/step - loss: 0.3909 - accuracy: 0.8165\n",
      "Epoch 25/100\n",
      "154/154 [==============================] - 0s 1ms/step - loss: 0.3898 - accuracy: 0.8153\n",
      "Epoch 26/100\n",
      "154/154 [==============================] - 0s 1ms/step - loss: 0.3900 - accuracy: 0.8163\n",
      "Epoch 27/100\n",
      "154/154 [==============================] - 0s 1ms/step - loss: 0.3896 - accuracy: 0.8149\n",
      "Epoch 28/100\n",
      "154/154 [==============================] - 0s 1ms/step - loss: 0.3890 - accuracy: 0.8167\n",
      "Epoch 29/100\n",
      "154/154 [==============================] - 0s 1ms/step - loss: 0.3872 - accuracy: 0.8174\n",
      "Epoch 30/100\n",
      "154/154 [==============================] - 0s 1ms/step - loss: 0.3872 - accuracy: 0.8163\n",
      "Epoch 31/100\n",
      "154/154 [==============================] - 0s 1ms/step - loss: 0.3867 - accuracy: 0.8161\n",
      "Epoch 32/100\n",
      "154/154 [==============================] - 0s 1ms/step - loss: 0.3858 - accuracy: 0.8171\n",
      "Epoch 33/100\n",
      "154/154 [==============================] - 0s 1ms/step - loss: 0.3852 - accuracy: 0.8182\n",
      "Epoch 34/100\n",
      "154/154 [==============================] - 0s 1ms/step - loss: 0.3838 - accuracy: 0.8200\n",
      "Epoch 35/100\n",
      "154/154 [==============================] - 0s 1ms/step - loss: 0.3841 - accuracy: 0.8178\n",
      "Epoch 36/100\n",
      "154/154 [==============================] - 0s 1ms/step - loss: 0.3829 - accuracy: 0.8178\n",
      "Epoch 37/100\n",
      "154/154 [==============================] - 0s 1ms/step - loss: 0.3839 - accuracy: 0.8171\n",
      "Epoch 38/100\n",
      "154/154 [==============================] - 0s 1ms/step - loss: 0.3825 - accuracy: 0.8171\n",
      "Epoch 39/100\n",
      "154/154 [==============================] - 0s 1ms/step - loss: 0.3822 - accuracy: 0.8202\n",
      "Epoch 40/100\n",
      "154/154 [==============================] - 0s 1ms/step - loss: 0.3823 - accuracy: 0.8188\n",
      "Epoch 41/100\n",
      "154/154 [==============================] - 0s 1ms/step - loss: 0.3819 - accuracy: 0.8155\n",
      "Epoch 42/100\n",
      "154/154 [==============================] - 0s 1ms/step - loss: 0.3814 - accuracy: 0.8163\n",
      "Epoch 43/100\n",
      "154/154 [==============================] - 0s 1ms/step - loss: 0.3812 - accuracy: 0.8161\n",
      "Epoch 44/100\n",
      "154/154 [==============================] - 0s 1ms/step - loss: 0.3797 - accuracy: 0.8208\n",
      "Epoch 45/100\n",
      "154/154 [==============================] - 0s 1ms/step - loss: 0.3810 - accuracy: 0.8178\n",
      "Epoch 46/100\n",
      "154/154 [==============================] - 0s 1ms/step - loss: 0.3797 - accuracy: 0.8188\n",
      "Epoch 47/100\n",
      "154/154 [==============================] - 0s 1ms/step - loss: 0.3786 - accuracy: 0.8210\n",
      "Epoch 48/100\n",
      "154/154 [==============================] - 0s 1ms/step - loss: 0.3784 - accuracy: 0.8174\n",
      "Epoch 49/100\n",
      "154/154 [==============================] - 0s 1ms/step - loss: 0.3772 - accuracy: 0.8206\n",
      "Epoch 50/100\n",
      "154/154 [==============================] - 0s 1ms/step - loss: 0.3779 - accuracy: 0.8228\n",
      "Epoch 51/100\n",
      "154/154 [==============================] - 0s 1ms/step - loss: 0.3784 - accuracy: 0.8226\n",
      "Epoch 52/100\n",
      "154/154 [==============================] - 0s 1ms/step - loss: 0.3760 - accuracy: 0.8210\n",
      "Epoch 53/100\n",
      "154/154 [==============================] - 0s 1ms/step - loss: 0.3773 - accuracy: 0.8234\n",
      "Epoch 54/100\n",
      "154/154 [==============================] - 0s 1ms/step - loss: 0.3767 - accuracy: 0.8192\n",
      "Epoch 55/100\n",
      "154/154 [==============================] - 0s 1ms/step - loss: 0.3768 - accuracy: 0.8243\n",
      "Epoch 56/100\n",
      "154/154 [==============================] - 0s 1ms/step - loss: 0.3751 - accuracy: 0.8259\n",
      "Epoch 57/100\n",
      "154/154 [==============================] - 0s 1ms/step - loss: 0.3758 - accuracy: 0.8232\n",
      "Epoch 58/100\n",
      "154/154 [==============================] - 0s 1ms/step - loss: 0.3746 - accuracy: 0.8239\n",
      "Epoch 59/100\n",
      "154/154 [==============================] - 0s 1ms/step - loss: 0.3748 - accuracy: 0.8257\n",
      "Epoch 60/100\n",
      "154/154 [==============================] - 0s 1ms/step - loss: 0.3745 - accuracy: 0.8236\n",
      "Epoch 61/100\n",
      "154/154 [==============================] - 0s 1ms/step - loss: 0.3745 - accuracy: 0.8259\n",
      "Epoch 62/100\n",
      "154/154 [==============================] - 0s 1ms/step - loss: 0.3740 - accuracy: 0.8247\n",
      "Epoch 63/100\n",
      "154/154 [==============================] - 0s 1ms/step - loss: 0.3733 - accuracy: 0.8249\n",
      "Epoch 64/100\n",
      "154/154 [==============================] - 0s 1ms/step - loss: 0.3736 - accuracy: 0.8241\n",
      "Epoch 65/100\n",
      "154/154 [==============================] - 0s 1ms/step - loss: 0.3735 - accuracy: 0.8236\n",
      "Epoch 66/100\n",
      "154/154 [==============================] - 0s 1ms/step - loss: 0.3716 - accuracy: 0.8245\n",
      "Epoch 67/100\n",
      "154/154 [==============================] - 0s 1ms/step - loss: 0.3714 - accuracy: 0.8261\n",
      "Epoch 68/100\n",
      "154/154 [==============================] - 0s 1ms/step - loss: 0.3733 - accuracy: 0.8261\n",
      "Epoch 69/100\n",
      "154/154 [==============================] - 0s 1ms/step - loss: 0.3720 - accuracy: 0.8269\n",
      "Epoch 70/100\n",
      "154/154 [==============================] - 0s 1ms/step - loss: 0.3712 - accuracy: 0.8259\n",
      "Epoch 71/100\n",
      "154/154 [==============================] - 0s 1ms/step - loss: 0.3723 - accuracy: 0.8265\n",
      "Epoch 72/100\n",
      "154/154 [==============================] - 0s 1ms/step - loss: 0.3706 - accuracy: 0.8275\n",
      "Epoch 73/100\n",
      "154/154 [==============================] - 0s 2ms/step - loss: 0.3710 - accuracy: 0.8295\n",
      "Epoch 74/100\n",
      "154/154 [==============================] - 0s 1ms/step - loss: 0.3707 - accuracy: 0.8293\n",
      "Epoch 75/100\n",
      "154/154 [==============================] - 0s 1ms/step - loss: 0.3704 - accuracy: 0.8283\n",
      "Epoch 76/100\n",
      "154/154 [==============================] - 0s 1ms/step - loss: 0.3706 - accuracy: 0.8306\n",
      "Epoch 77/100\n",
      "154/154 [==============================] - 0s 1ms/step - loss: 0.3697 - accuracy: 0.8275\n",
      "Epoch 78/100\n",
      "154/154 [==============================] - 0s 1ms/step - loss: 0.3690 - accuracy: 0.8283\n",
      "Epoch 79/100\n",
      "154/154 [==============================] - 0s 1ms/step - loss: 0.3701 - accuracy: 0.8263\n",
      "Epoch 80/100\n",
      "154/154 [==============================] - 0s 1ms/step - loss: 0.3687 - accuracy: 0.8287\n",
      "Epoch 81/100\n",
      "154/154 [==============================] - 0s 1ms/step - loss: 0.3684 - accuracy: 0.8285\n",
      "Epoch 82/100\n",
      "154/154 [==============================] - 0s 1ms/step - loss: 0.3679 - accuracy: 0.8289\n",
      "Epoch 83/100\n",
      "154/154 [==============================] - 0s 1ms/step - loss: 0.3690 - accuracy: 0.8281\n",
      "Epoch 84/100\n",
      "154/154 [==============================] - 0s 1ms/step - loss: 0.3686 - accuracy: 0.8293\n",
      "Epoch 85/100\n",
      "154/154 [==============================] - 0s 1ms/step - loss: 0.3681 - accuracy: 0.8269\n",
      "Epoch 86/100\n",
      "154/154 [==============================] - 0s 1ms/step - loss: 0.3678 - accuracy: 0.8308\n",
      "Epoch 87/100\n",
      "154/154 [==============================] - 0s 1ms/step - loss: 0.3672 - accuracy: 0.8285\n",
      "Epoch 88/100\n",
      "154/154 [==============================] - 0s 1ms/step - loss: 0.3668 - accuracy: 0.8322\n",
      "Epoch 89/100\n",
      "154/154 [==============================] - 0s 1ms/step - loss: 0.3668 - accuracy: 0.8283\n",
      "Epoch 90/100\n",
      "154/154 [==============================] - 0s 1ms/step - loss: 0.3667 - accuracy: 0.8289\n",
      "Epoch 91/100\n",
      "154/154 [==============================] - 0s 1ms/step - loss: 0.3664 - accuracy: 0.8302\n",
      "Epoch 92/100\n",
      "154/154 [==============================] - 0s 1ms/step - loss: 0.3653 - accuracy: 0.8322\n",
      "Epoch 93/100\n",
      "154/154 [==============================] - 0s 1ms/step - loss: 0.3663 - accuracy: 0.8312\n",
      "Epoch 94/100\n",
      "154/154 [==============================] - 0s 1ms/step - loss: 0.3659 - accuracy: 0.8306\n",
      "Epoch 95/100\n",
      "154/154 [==============================] - 0s 1ms/step - loss: 0.3649 - accuracy: 0.8299\n",
      "Epoch 96/100\n",
      "154/154 [==============================] - 0s 1ms/step - loss: 0.3649 - accuracy: 0.8297\n",
      "Epoch 97/100\n",
      "154/154 [==============================] - 0s 1ms/step - loss: 0.3648 - accuracy: 0.8293\n",
      "Epoch 98/100\n",
      "154/154 [==============================] - 0s 1ms/step - loss: 0.3651 - accuracy: 0.8306\n",
      "Epoch 99/100\n",
      "154/154 [==============================] - 0s 1ms/step - loss: 0.3636 - accuracy: 0.8299\n",
      "Epoch 100/100\n",
      "154/154 [==============================] - 0s 1ms/step - loss: 0.3646 - accuracy: 0.8316\n"
     ]
    },
    {
     "data": {
      "text/plain": [
       "<keras.src.callbacks.History at 0x1b738fe4c90>"
      ]
     },
     "execution_count": 20,
     "metadata": {},
     "output_type": "execute_result"
    }
   ],
   "source": [
    "import tensorflow\n",
    "from tensorflow import keras\n",
    "\n",
    "model = keras.Sequential([\n",
    "    keras.layers.Dense(26, input_shape = (26,), activation = \"relu\"),\n",
    "    keras.layers.Dense(1, activation = \"sigmoid\")\n",
    "])\n",
    "\n",
    "model.compile(optimizer = \"adam\", loss = \"binary_crossentropy\", metrics = [\"accuracy\"])\n",
    "\n",
    "model.fit(X_train, y_train, epochs = 100)"
   ]
  },
  {
   "cell_type": "code",
   "execution_count": 21,
   "id": "1fb812e2-1b7c-4b25-8495-f2936b844ede",
   "metadata": {},
   "outputs": [
    {
     "name": "stdout",
     "output_type": "stream",
     "text": [
      "33/33 [==============================] - 0s 948us/step\n"
     ]
    }
   ],
   "source": [
    "y_pred = model.predict(X_test)"
   ]
  },
  {
   "cell_type": "code",
   "execution_count": 22,
   "id": "8d2ae98f-7b52-492f-8f7d-10b68680b6d9",
   "metadata": {},
   "outputs": [
    {
     "name": "stdout",
     "output_type": "stream",
     "text": [
      "33/33 [==============================] - 0s 1ms/step - loss: 0.3895 - accuracy: 0.8199\n"
     ]
    },
    {
     "data": {
      "text/plain": [
       "[0.38954976201057434, 0.8199052214622498]"
      ]
     },
     "execution_count": 22,
     "metadata": {},
     "output_type": "execute_result"
    }
   ],
   "source": [
    "model.evaluate(X_test, y_test)"
   ]
  },
  {
   "cell_type": "code",
   "execution_count": 23,
   "id": "79feaa2a-f606-4f11-8021-ea5f05e6b578",
   "metadata": {},
   "outputs": [
    {
     "data": {
      "text/plain": [
       "array([[0.05005484],\n",
       "       [0.84215844],\n",
       "       [0.23563911],\n",
       "       [0.35728464],\n",
       "       [0.2468267 ]], dtype=float32)"
      ]
     },
     "execution_count": 23,
     "metadata": {},
     "output_type": "execute_result"
    }
   ],
   "source": [
    "y_pred[:5]"
   ]
  },
  {
   "cell_type": "code",
   "execution_count": 24,
   "id": "bfa0435b-f434-413c-aa90-30b9282480fe",
   "metadata": {},
   "outputs": [],
   "source": [
    "y_pred_final = []\n",
    "for i in y_pred:\n",
    "    if i > 0.5:\n",
    "        y_pred_final.append(1)\n",
    "    else:\n",
    "        y_pred_final.append(0)"
   ]
  },
  {
   "cell_type": "code",
   "execution_count": 25,
   "id": "da64811c-e54d-4fdb-a7df-205b24813d97",
   "metadata": {},
   "outputs": [
    {
     "data": {
      "text/plain": [
       "[0, 1, 0, 0, 0, 0, 0, 0, 1, 0, 1, 1]"
      ]
     },
     "execution_count": 25,
     "metadata": {},
     "output_type": "execute_result"
    }
   ],
   "source": [
    "y_pred_final[:12]"
   ]
  },
  {
   "cell_type": "code",
   "execution_count": 26,
   "id": "9f908441-fe13-4839-96e5-8f41cff43629",
   "metadata": {},
   "outputs": [
    {
     "name": "stdout",
     "output_type": "stream",
     "text": [
      "              precision    recall  f1-score   support\n",
      "\n",
      "           0       0.86      0.90      0.88       786\n",
      "           1       0.67      0.58      0.62       269\n",
      "\n",
      "    accuracy                           0.82      1055\n",
      "   macro avg       0.77      0.74      0.75      1055\n",
      "weighted avg       0.81      0.82      0.82      1055\n",
      "\n"
     ]
    }
   ],
   "source": [
    "from sklearn.metrics import confusion_matrix, classification_report\n",
    "\n",
    "print(classification_report(y_test, y_pred_final))"
   ]
  },
  {
   "cell_type": "code",
   "execution_count": 27,
   "id": "2e0ccb31-bc7a-418e-b140-52f4c33e4e3b",
   "metadata": {},
   "outputs": [
    {
     "data": {
      "text/plain": [
       "Text(70.72222222222221, 0.5, 'Real')"
      ]
     },
     "execution_count": 27,
     "metadata": {},
     "output_type": "execute_result"
    },
    {
     "data": {
      "image/png": "[encoded data removed]",
      "text/plain": [
       "<Figure size 800x500 with 2 Axes>"
      ]
     },
     "metadata": {},
     "output_type": "display_data"
    }
   ],
   "source": [
    "import seaborn as sns\n",
    "import matplotlib.pyplot as plt\n",
    "\n",
    "cM =  tensorflow.math.confusion_matrix(labels = y_test, predictions= y_pred_final)\n",
    "\n",
    "plt.figure(figsize = (8,5))\n",
    "sns.heatmap(cM, annot =True, fmt =\"d\")\n",
    "plt.xlabel('Predicted')\n",
    "plt.ylabel('Real')"
   ]
  },
  {
   "cell_type": "code",
   "execution_count": 28,
   "id": "302d9c50-079f-4ccc-ba55-557922c2c92f",
   "metadata": {},
   "outputs": [],
   "source": [
    "###Pickle the file for deployment"
   ]
  },
  {
   "cell_type": "code",
   "execution_count": 29,
   "id": "c0919703-1c22-460b-b208-11460c646d83",
   "metadata": {},
   "outputs": [],
   "source": [
    "import pickle"
   ]
  },
  {
   "cell_type": "code",
   "execution_count": 30,
   "id": "fa7106a6-5cc5-4b7f-bb03-c57dcdc05731",
   "metadata": {},
   "outputs": [],
   "source": [
    "pickle.dump(model,open('churn_model.pkl','wb'))"
   ]
  },
  {
   "cell_type": "code",
   "execution_count": 31,
   "id": "f0c743a6-0fb1-4575-b48f-eddc00bb699b",
   "metadata": {},
   "outputs": [],
   "source": [
    "pickled_model = pickle.load(open('churn_model.pkl','rb'))"
   ]
  }
 ],
 "metadata": {
  "kernelspec": {
   "display_name": "Python 3 (ipykernel)",
   "language": "python",
   "name": "python3"
  },
  "language_info": {
   "codemirror_mode": {
    "name": "ipython",
    "version": 3
   },
   "file_extension": ".py",
   "mimetype": "text/x-python",
   "name": "python",
   "nbconvert_exporter": "python",
   "pygments_lexer": "ipython3",
   "version": "3.11.4"
  }
 },
 "nbformat": 4,
 "nbformat_minor": 5
}
