{
 "cells": [
  {
   "cell_type": "code",
   "execution_count": 2,
   "id": "ced692a0-3cee-4ed9-9d3a-b237de16445d",
   "metadata": {},
   "outputs": [],
   "source": [
    "import pandas as pd\n",
    "import numpy as np\n",
    "import matplotlib as plt"
   ]
  },
  {
   "cell_type": "code",
   "execution_count": 3,
   "id": "055d38fa-28fd-468f-b490-1ba548d5df7b",
   "metadata": {},
   "outputs": [
    {
     "data": {
      "text/html": [
       "<div>\n",
       "<style scoped>\n",
       "    .dataframe tbody tr th:only-of-type {\n",
       "        vertical-align: middle;\n",
       "    }\n",
       "\n",
       "    .dataframe tbody tr th {\n",
       "        vertical-align: top;\n",
       "    }\n",
       "\n",
       "    .dataframe thead th {\n",
       "        text-align: right;\n",
       "    }\n",
       "</style>\n",
       "<table border=\"1\" class=\"dataframe\">\n",
       "  <thead>\n",
       "    <tr style=\"text-align: right;\">\n",
       "      <th></th>\n",
       "      <th>CustomerID</th>\n",
       "      <th>Count</th>\n",
       "      <th>Country</th>\n",
       "      <th>State</th>\n",
       "      <th>City</th>\n",
       "      <th>Zip Code</th>\n",
       "      <th>Lat Long</th>\n",
       "      <th>Latitude</th>\n",
       "      <th>Longitude</th>\n",
       "      <th>Gender</th>\n",
       "      <th>...</th>\n",
       "      <th>Contract</th>\n",
       "      <th>Paperless Billing</th>\n",
       "      <th>Payment Method</th>\n",
       "      <th>Monthly Charges</th>\n",
       "      <th>Total Charges</th>\n",
       "      <th>Churn Label</th>\n",
       "      <th>Churn Value</th>\n",
       "      <th>Churn Score</th>\n",
       "      <th>CLTV</th>\n",
       "      <th>Churn Reason</th>\n",
       "    </tr>\n",
       "  </thead>\n",
       "  <tbody>\n",
       "    <tr>\n",
       "      <th>4420</th>\n",
       "      <td>6773-LQTVT</td>\n",
       "      <td>1</td>\n",
       "      <td>United States</td>\n",
       "      <td>California</td>\n",
       "      <td>Long Beach</td>\n",
       "      <td>90803</td>\n",
       "      <td>33.760458, -118.129725</td>\n",
       "      <td>33.760458</td>\n",
       "      <td>-118.129725</td>\n",
       "      <td>Female</td>\n",
       "      <td>...</td>\n",
       "      <td>Month-to-month</td>\n",
       "      <td>Yes</td>\n",
       "      <td>Mailed check</td>\n",
       "      <td>35.65</td>\n",
       "      <td>1025.15</td>\n",
       "      <td>No</td>\n",
       "      <td>0</td>\n",
       "      <td>46</td>\n",
       "      <td>4107</td>\n",
       "      <td>NaN</td>\n",
       "    </tr>\n",
       "    <tr>\n",
       "      <th>2223</th>\n",
       "      <td>4933-IKULF</td>\n",
       "      <td>1</td>\n",
       "      <td>United States</td>\n",
       "      <td>California</td>\n",
       "      <td>Pinon Hills</td>\n",
       "      <td>92372</td>\n",
       "      <td>34.459322, -117.629729</td>\n",
       "      <td>34.459322</td>\n",
       "      <td>-117.629729</td>\n",
       "      <td>Female</td>\n",
       "      <td>...</td>\n",
       "      <td>One year</td>\n",
       "      <td>No</td>\n",
       "      <td>Mailed check</td>\n",
       "      <td>20.65</td>\n",
       "      <td>330.6</td>\n",
       "      <td>No</td>\n",
       "      <td>0</td>\n",
       "      <td>40</td>\n",
       "      <td>4086</td>\n",
       "      <td>NaN</td>\n",
       "    </tr>\n",
       "    <tr>\n",
       "      <th>3895</th>\n",
       "      <td>3948-KXDUF</td>\n",
       "      <td>1</td>\n",
       "      <td>United States</td>\n",
       "      <td>California</td>\n",
       "      <td>Los Gatos</td>\n",
       "      <td>95033</td>\n",
       "      <td>37.160194, -121.945611</td>\n",
       "      <td>37.160194</td>\n",
       "      <td>-121.945611</td>\n",
       "      <td>Male</td>\n",
       "      <td>...</td>\n",
       "      <td>Two year</td>\n",
       "      <td>No</td>\n",
       "      <td>Bank transfer (automatic)</td>\n",
       "      <td>68.75</td>\n",
       "      <td>4447.55</td>\n",
       "      <td>No</td>\n",
       "      <td>0</td>\n",
       "      <td>60</td>\n",
       "      <td>5454</td>\n",
       "      <td>NaN</td>\n",
       "    </tr>\n",
       "    <tr>\n",
       "      <th>5122</th>\n",
       "      <td>3714-XPXBW</td>\n",
       "      <td>1</td>\n",
       "      <td>United States</td>\n",
       "      <td>California</td>\n",
       "      <td>Santa Cruz</td>\n",
       "      <td>95062</td>\n",
       "      <td>36.974575, -121.991149</td>\n",
       "      <td>36.974575</td>\n",
       "      <td>-121.991149</td>\n",
       "      <td>Female</td>\n",
       "      <td>...</td>\n",
       "      <td>Month-to-month</td>\n",
       "      <td>Yes</td>\n",
       "      <td>Credit card (automatic)</td>\n",
       "      <td>78.90</td>\n",
       "      <td>2976.95</td>\n",
       "      <td>No</td>\n",
       "      <td>0</td>\n",
       "      <td>64</td>\n",
       "      <td>3801</td>\n",
       "      <td>NaN</td>\n",
       "    </tr>\n",
       "    <tr>\n",
       "      <th>993</th>\n",
       "      <td>1866-RZZQS</td>\n",
       "      <td>1</td>\n",
       "      <td>United States</td>\n",
       "      <td>California</td>\n",
       "      <td>Redlands</td>\n",
       "      <td>92373</td>\n",
       "      <td>34.003243, -117.138286</td>\n",
       "      <td>34.003243</td>\n",
       "      <td>-117.138286</td>\n",
       "      <td>Male</td>\n",
       "      <td>...</td>\n",
       "      <td>Month-to-month</td>\n",
       "      <td>Yes</td>\n",
       "      <td>Electronic check</td>\n",
       "      <td>98.40</td>\n",
       "      <td>4187.75</td>\n",
       "      <td>Yes</td>\n",
       "      <td>1</td>\n",
       "      <td>100</td>\n",
       "      <td>2169</td>\n",
       "      <td>Competitor had better devices</td>\n",
       "    </tr>\n",
       "  </tbody>\n",
       "</table>\n",
       "<p>5 rows × 33 columns</p>\n",
       "</div>"
      ],
      "text/plain": [
       "      CustomerID  Count        Country       State         City  Zip Code  \\\n",
       "4420  6773-LQTVT      1  United States  California   Long Beach     90803   \n",
       "2223  4933-IKULF      1  United States  California  Pinon Hills     92372   \n",
       "3895  3948-KXDUF      1  United States  California    Los Gatos     95033   \n",
       "5122  3714-XPXBW      1  United States  California   Santa Cruz     95062   \n",
       "993   1866-RZZQS      1  United States  California     Redlands     92373   \n",
       "\n",
       "                    Lat Long   Latitude   Longitude  Gender  ...  \\\n",
       "4420  33.760458, -118.129725  33.760458 -118.129725  Female  ...   \n",
       "2223  34.459322, -117.629729  34.459322 -117.629729  Female  ...   \n",
       "3895  37.160194, -121.945611  37.160194 -121.945611    Male  ...   \n",
       "5122  36.974575, -121.991149  36.974575 -121.991149  Female  ...   \n",
       "993   34.003243, -117.138286  34.003243 -117.138286    Male  ...   \n",
       "\n",
       "            Contract Paperless Billing             Payment Method  \\\n",
       "4420  Month-to-month               Yes               Mailed check   \n",
       "2223        One year                No               Mailed check   \n",
       "3895        Two year                No  Bank transfer (automatic)   \n",
       "5122  Month-to-month               Yes    Credit card (automatic)   \n",
       "993   Month-to-month               Yes           Electronic check   \n",
       "\n",
       "      Monthly Charges Total Charges Churn Label Churn Value Churn Score  CLTV  \\\n",
       "4420            35.65       1025.15          No           0          46  4107   \n",
       "2223            20.65         330.6          No           0          40  4086   \n",
       "3895            68.75       4447.55          No           0          60  5454   \n",
       "5122            78.90       2976.95          No           0          64  3801   \n",
       "993             98.40       4187.75         Yes           1         100  2169   \n",
       "\n",
       "                       Churn Reason  \n",
       "4420                            NaN  \n",
       "2223                            NaN  \n",
       "3895                            NaN  \n",
       "5122                            NaN  \n",
       "993   Competitor had better devices  \n",
       "\n",
       "[5 rows x 33 columns]"
      ]
     },
     "execution_count": 3,
     "metadata": {},
     "output_type": "execute_result"
    }
   ],
   "source": [
    "doc = pd.read_excel(\"C:/Users/STAFF/Desktop/Git_Repos/Telco_customer_churn.xlsx\")\n",
    "doc.sample(5)"
   ]
  },
  {
   "cell_type": "code",
   "execution_count": 4,
   "id": "02426e7e-82c7-4220-a35c-975ec88d94e0",
   "metadata": {},
   "outputs": [],
   "source": [
    "doc.drop(columns =[\"CustomerID\",\"Count\",\"Churn Reason\",\"Churn Label\",\"Churn Score\",\"Lat Long\"], inplace = True)"
   ]
  },
  {
   "cell_type": "code",
   "execution_count": 5,
   "id": "50f968c8-0e93-4812-b5f9-0006415efd84",
   "metadata": {},
   "outputs": [
    {
     "data": {
      "text/plain": [
       "(7043, 27)"
      ]
     },
     "execution_count": 5,
     "metadata": {},
     "output_type": "execute_result"
    }
   ],
   "source": [
    "doc.shape"
   ]
  },
  {
   "cell_type": "code",
   "execution_count": 6,
   "id": "ea959d46-4e42-411d-a46d-5d267949d224",
   "metadata": {},
   "outputs": [
    {
     "data": {
      "text/plain": [
       "(7043, 27)"
      ]
     },
     "execution_count": 6,
     "metadata": {},
     "output_type": "execute_result"
    }
   ],
   "source": [
    "doc = doc.dropna()\n",
    "doc.shape"
   ]
  },
  {
   "cell_type": "code",
   "execution_count": 7,
   "id": "3b7ddabf-d523-49e2-a1e8-19e92f2ad29e",
   "metadata": {},
   "outputs": [
    {
     "data": {
      "text/plain": [
       "(7032, 27)"
      ]
     },
     "execution_count": 7,
     "metadata": {},
     "output_type": "execute_result"
    }
   ],
   "source": [
    "doc = doc[doc[\"Total Charges\"] != \" \"]\n",
    "doc.shape"
   ]
  },
  {
   "cell_type": "code",
   "execution_count": 8,
   "id": "a64acf13-5d17-4fd0-bdee-79e4e15e4e86",
   "metadata": {},
   "outputs": [],
   "source": [
    "doc[\"Total Charges\"] = pd.to_numeric(doc[\"Total Charges\"])\n"
   ]
  },
  {
   "cell_type": "code",
   "execution_count": 9,
   "id": "a3c6381e-4c28-4364-97e6-b7e9299e0c89",
   "metadata": {
    "scrolled": true
   },
   "outputs": [
    {
     "data": {
      "text/plain": [
       "Country               object\n",
       "State                 object\n",
       "City                  object\n",
       "Zip Code               int64\n",
       "Latitude             float64\n",
       "Longitude            float64\n",
       "Gender                object\n",
       "Senior Citizen        object\n",
       "Partner               object\n",
       "Dependents            object\n",
       "Tenure Months          int64\n",
       "Phone Service         object\n",
       "Multiple Lines        object\n",
       "Internet Service      object\n",
       "Online Security       object\n",
       "Online Backup         object\n",
       "Device Protection     object\n",
       "Tech Support          object\n",
       "Streaming TV          object\n",
       "Streaming Movies      object\n",
       "Contract              object\n",
       "Paperless Billing     object\n",
       "Payment Method        object\n",
       "Monthly Charges      float64\n",
       "Total Charges        float64\n",
       "Churn Value            int64\n",
       "CLTV                   int64\n",
       "dtype: object"
      ]
     },
     "execution_count": 9,
     "metadata": {},
     "output_type": "execute_result"
    }
   ],
   "source": [
    "doc.dtypes"
   ]
  },
  {
   "cell_type": "code",
   "execution_count": 10,
   "id": "f72e35d6-6ca9-4e41-8107-23105e1bce7c",
   "metadata": {},
   "outputs": [],
   "source": [
    "def values_in_each_col(dataframe):\n",
    "    for i in dataframe:\n",
    "        if dataframe[i].dtypes == \"object\":\n",
    "            print(f\"{i} : {dataframe[i].unique()}\")"
   ]
  },
  {
   "cell_type": "code",
   "execution_count": 11,
   "id": "dc640c2e-569b-413c-93cf-5434c21c6f46",
   "metadata": {},
   "outputs": [
    {
     "name": "stdout",
     "output_type": "stream",
     "text": [
      "Country : ['United States']\n",
      "State : ['California']\n",
      "City : ['Los Angeles' 'Beverly Hills' 'Huntington Park' ... 'Tulelake'\n",
      " 'Olympic Valley' 'Redcrest']\n",
      "Gender : ['Male' 'Female']\n",
      "Senior Citizen : ['No' 'Yes']\n",
      "Partner : ['No' 'Yes']\n",
      "Dependents : ['No' 'Yes']\n",
      "Phone Service : ['Yes' 'No']\n",
      "Multiple Lines : ['No' 'Yes' 'No phone service']\n",
      "Internet Service : ['DSL' 'Fiber optic' 'No']\n",
      "Online Security : ['Yes' 'No' 'No internet service']\n",
      "Online Backup : ['Yes' 'No' 'No internet service']\n",
      "Device Protection : ['No' 'Yes' 'No internet service']\n",
      "Tech Support : ['No' 'Yes' 'No internet service']\n",
      "Streaming TV : ['No' 'Yes' 'No internet service']\n",
      "Streaming Movies : ['No' 'Yes' 'No internet service']\n",
      "Contract : ['Month-to-month' 'Two year' 'One year']\n",
      "Paperless Billing : ['Yes' 'No']\n",
      "Payment Method : ['Mailed check' 'Electronic check' 'Bank transfer (automatic)'\n",
      " 'Credit card (automatic)']\n"
     ]
    }
   ],
   "source": [
    "values_in_each_col(doc)"
   ]
  },
  {
   "cell_type": "code",
   "execution_count": 12,
   "id": "3fb400de-2b26-43a3-be16-32e4bce2331f",
   "metadata": {},
   "outputs": [],
   "source": [
    "doc.replace(\"No internet service\" , \"No\", inplace = True)\n",
    "doc.replace(\"No phone service\" , \"No\", inplace = True)\n"
   ]
  },
  {
   "cell_type": "code",
   "execution_count": 13,
   "id": "ef020e17-7eb1-4bd6-81a2-3efe8880f3fa",
   "metadata": {},
   "outputs": [
    {
     "name": "stdout",
     "output_type": "stream",
     "text": [
      "Country : ['United States']\n",
      "State : ['California']\n",
      "City : ['Los Angeles' 'Beverly Hills' 'Huntington Park' ... 'Tulelake'\n",
      " 'Olympic Valley' 'Redcrest']\n",
      "Gender : ['Male' 'Female']\n",
      "Senior Citizen : ['No' 'Yes']\n",
      "Partner : ['No' 'Yes']\n",
      "Dependents : ['No' 'Yes']\n",
      "Phone Service : ['Yes' 'No']\n",
      "Multiple Lines : ['No' 'Yes']\n",
      "Internet Service : ['DSL' 'Fiber optic' 'No']\n",
      "Online Security : ['Yes' 'No']\n",
      "Online Backup : ['Yes' 'No']\n",
      "Device Protection : ['No' 'Yes']\n",
      "Tech Support : ['No' 'Yes']\n",
      "Streaming TV : ['No' 'Yes']\n",
      "Streaming Movies : ['No' 'Yes']\n",
      "Contract : ['Month-to-month' 'Two year' 'One year']\n",
      "Paperless Billing : ['Yes' 'No']\n",
      "Payment Method : ['Mailed check' 'Electronic check' 'Bank transfer (automatic)'\n",
      " 'Credit card (automatic)']\n"
     ]
    }
   ],
   "source": [
    "values_in_each_col(doc)"
   ]
  },
  {
   "cell_type": "code",
   "execution_count": 14,
   "id": "76599dad-42a3-4c94-8f3b-caa1d7fa363d",
   "metadata": {},
   "outputs": [
    {
     "data": {
      "text/html": [
       "<div>\n",
       "<style scoped>\n",
       "    .dataframe tbody tr th:only-of-type {\n",
       "        vertical-align: middle;\n",
       "    }\n",
       "\n",
       "    .dataframe tbody tr th {\n",
       "        vertical-align: top;\n",
       "    }\n",
       "\n",
       "    .dataframe thead th {\n",
       "        text-align: right;\n",
       "    }\n",
       "</style>\n",
       "<table border=\"1\" class=\"dataframe\">\n",
       "  <thead>\n",
       "    <tr style=\"text-align: right;\">\n",
       "      <th></th>\n",
       "      <th>Country</th>\n",
       "      <th>State</th>\n",
       "      <th>City</th>\n",
       "      <th>Zip Code</th>\n",
       "      <th>Latitude</th>\n",
       "      <th>Longitude</th>\n",
       "      <th>Gender</th>\n",
       "      <th>Senior Citizen</th>\n",
       "      <th>Partner</th>\n",
       "      <th>Dependents</th>\n",
       "      <th>...</th>\n",
       "      <th>Tech Support</th>\n",
       "      <th>Streaming TV</th>\n",
       "      <th>Streaming Movies</th>\n",
       "      <th>Contract</th>\n",
       "      <th>Paperless Billing</th>\n",
       "      <th>Payment Method</th>\n",
       "      <th>Monthly Charges</th>\n",
       "      <th>Total Charges</th>\n",
       "      <th>Churn Value</th>\n",
       "      <th>CLTV</th>\n",
       "    </tr>\n",
       "  </thead>\n",
       "  <tbody>\n",
       "    <tr>\n",
       "      <th>2458</th>\n",
       "      <td>0</td>\n",
       "      <td>0</td>\n",
       "      <td>83</td>\n",
       "      <td>93605</td>\n",
       "      <td>37.172770</td>\n",
       "      <td>-119.299700</td>\n",
       "      <td>1</td>\n",
       "      <td>0</td>\n",
       "      <td>0</td>\n",
       "      <td>0</td>\n",
       "      <td>...</td>\n",
       "      <td>1</td>\n",
       "      <td>0</td>\n",
       "      <td>0</td>\n",
       "      <td>1</td>\n",
       "      <td>1</td>\n",
       "      <td>0</td>\n",
       "      <td>40.60</td>\n",
       "      <td>2588.95</td>\n",
       "      <td>0</td>\n",
       "      <td>6406</td>\n",
       "    </tr>\n",
       "    <tr>\n",
       "      <th>1220</th>\n",
       "      <td>0</td>\n",
       "      <td>0</td>\n",
       "      <td>247</td>\n",
       "      <td>95618</td>\n",
       "      <td>38.544002</td>\n",
       "      <td>-121.685559</td>\n",
       "      <td>0</td>\n",
       "      <td>0</td>\n",
       "      <td>0</td>\n",
       "      <td>0</td>\n",
       "      <td>...</td>\n",
       "      <td>0</td>\n",
       "      <td>0</td>\n",
       "      <td>0</td>\n",
       "      <td>0</td>\n",
       "      <td>0</td>\n",
       "      <td>1</td>\n",
       "      <td>74.90</td>\n",
       "      <td>147.15</td>\n",
       "      <td>1</td>\n",
       "      <td>2078</td>\n",
       "    </tr>\n",
       "    <tr>\n",
       "      <th>4630</th>\n",
       "      <td>0</td>\n",
       "      <td>0</td>\n",
       "      <td>381</td>\n",
       "      <td>92313</td>\n",
       "      <td>34.029175</td>\n",
       "      <td>-117.307211</td>\n",
       "      <td>0</td>\n",
       "      <td>0</td>\n",
       "      <td>0</td>\n",
       "      <td>0</td>\n",
       "      <td>...</td>\n",
       "      <td>1</td>\n",
       "      <td>1</td>\n",
       "      <td>0</td>\n",
       "      <td>0</td>\n",
       "      <td>1</td>\n",
       "      <td>2</td>\n",
       "      <td>106.50</td>\n",
       "      <td>4282.40</td>\n",
       "      <td>0</td>\n",
       "      <td>4434</td>\n",
       "    </tr>\n",
       "    <tr>\n",
       "      <th>6760</th>\n",
       "      <td>0</td>\n",
       "      <td>0</td>\n",
       "      <td>562</td>\n",
       "      <td>90056</td>\n",
       "      <td>33.987945</td>\n",
       "      <td>-118.370442</td>\n",
       "      <td>0</td>\n",
       "      <td>0</td>\n",
       "      <td>0</td>\n",
       "      <td>0</td>\n",
       "      <td>...</td>\n",
       "      <td>0</td>\n",
       "      <td>0</td>\n",
       "      <td>0</td>\n",
       "      <td>2</td>\n",
       "      <td>0</td>\n",
       "      <td>3</td>\n",
       "      <td>24.20</td>\n",
       "      <td>1618.20</td>\n",
       "      <td>0</td>\n",
       "      <td>4948</td>\n",
       "    </tr>\n",
       "    <tr>\n",
       "      <th>3693</th>\n",
       "      <td>0</td>\n",
       "      <td>0</td>\n",
       "      <td>717</td>\n",
       "      <td>93646</td>\n",
       "      <td>36.633498</td>\n",
       "      <td>-119.298895</td>\n",
       "      <td>1</td>\n",
       "      <td>0</td>\n",
       "      <td>1</td>\n",
       "      <td>1</td>\n",
       "      <td>...</td>\n",
       "      <td>1</td>\n",
       "      <td>1</td>\n",
       "      <td>1</td>\n",
       "      <td>1</td>\n",
       "      <td>1</td>\n",
       "      <td>2</td>\n",
       "      <td>97.95</td>\n",
       "      <td>4917.90</td>\n",
       "      <td>0</td>\n",
       "      <td>4301</td>\n",
       "    </tr>\n",
       "  </tbody>\n",
       "</table>\n",
       "<p>5 rows × 27 columns</p>\n",
       "</div>"
      ],
      "text/plain": [
       "      Country  State  City  Zip Code   Latitude   Longitude  Gender  \\\n",
       "2458        0      0    83     93605  37.172770 -119.299700       1   \n",
       "1220        0      0   247     95618  38.544002 -121.685559       0   \n",
       "4630        0      0   381     92313  34.029175 -117.307211       0   \n",
       "6760        0      0   562     90056  33.987945 -118.370442       0   \n",
       "3693        0      0   717     93646  36.633498 -119.298895       1   \n",
       "\n",
       "      Senior Citizen  Partner  Dependents  ...  Tech Support  Streaming TV  \\\n",
       "2458               0        0           0  ...             1             0   \n",
       "1220               0        0           0  ...             0             0   \n",
       "4630               0        0           0  ...             1             1   \n",
       "6760               0        0           0  ...             0             0   \n",
       "3693               0        1           1  ...             1             1   \n",
       "\n",
       "      Streaming Movies  Contract  Paperless Billing  Payment Method  \\\n",
       "2458                 0         1                  1               0   \n",
       "1220                 0         0                  0               1   \n",
       "4630                 0         0                  1               2   \n",
       "6760                 0         2                  0               3   \n",
       "3693                 1         1                  1               2   \n",
       "\n",
       "      Monthly Charges  Total Charges  Churn Value  CLTV  \n",
       "2458            40.60        2588.95            0  6406  \n",
       "1220            74.90         147.15            1  2078  \n",
       "4630           106.50        4282.40            0  4434  \n",
       "6760            24.20        1618.20            0  4948  \n",
       "3693            97.95        4917.90            0  4301  \n",
       "\n",
       "[5 rows x 27 columns]"
      ]
     },
     "execution_count": 14,
     "metadata": {},
     "output_type": "execute_result"
    }
   ],
   "source": [
    "from sklearn.preprocessing import LabelEncoder\n",
    "encoder = LabelEncoder()\n",
    "\n",
    "for i in doc.columns:\n",
    "    if doc[i].dtypes == \"object\":\n",
    "         doc[i] = encoder.fit_transform(doc[i])\n",
    "\n",
    "doc.sample(5)"
   ]
  },
  {
   "cell_type": "code",
   "execution_count": 15,
   "id": "16c2719d-98d4-4ae1-b02a-c38926ff5fc6",
   "metadata": {},
   "outputs": [],
   "source": [
    "import pandas as pd\n",
    "from sklearn.preprocessing import StandardScaler\n",
    "scaler = StandardScaler()\n",
    "\n",
    "# doc = minmax.fit_transform(doc.values)\n",
    "\n",
    "\n",
    "# doc.iloc[:, :] = minmax.fit_transform(doc.values)\n",
    "\n",
    "# doc = pd.DataFrame(doc) \n",
    "# doc.sample(5)"
   ]
  },
  {
   "cell_type": "code",
   "execution_count": 16,
   "id": "c38bc0ac-8050-48ff-aa0c-e0ccc49600e3",
   "metadata": {},
   "outputs": [],
   "source": [
    "import pickle\n",
    "\n",
    "pickle.dump(scaler,open('scaling.pkl','wb'))"
   ]
  },
  {
   "cell_type": "code",
   "execution_count": 17,
   "id": "1a545669-d520-431e-8aa9-44571edc8e1e",
   "metadata": {},
   "outputs": [],
   "source": [
    "import pandas as pd\n",
    "\n",
    "doc = pd.DataFrame(doc) \n",
    "\n",
    "X = doc.drop(columns = \"Churn Value\", axis= \"columns\")\n",
    "y= doc[\"Churn Value\"]"
   ]
  },
  {
   "cell_type": "code",
   "execution_count": 18,
   "id": "6ed344b9-7c9c-4317-b4ad-4522093b435f",
   "metadata": {},
   "outputs": [
    {
     "data": {
      "text/plain": [
       "(7032, 26)"
      ]
     },
     "execution_count": 18,
     "metadata": {},
     "output_type": "execute_result"
    }
   ],
   "source": [
    "X.shape"
   ]
  },
  {
   "cell_type": "code",
   "execution_count": 19,
   "id": "e4cb5485-69fa-4cfc-a88f-7161f101ff25",
   "metadata": {},
   "outputs": [
    {
     "data": {
      "text/plain": [
       "(4922, 26)"
      ]
     },
     "execution_count": 19,
     "metadata": {},
     "output_type": "execute_result"
    }
   ],
   "source": [
    "from sklearn.model_selection import train_test_split\n",
    "\n",
    "X_train, X_rem, y_train, y_rem = train_test_split(X, y, train_size= 0.70, random_state=None)\n",
    "X_valid, X_test, y_valid, y_test = train_test_split(X_rem, y_rem, test_size=0.5)\n",
    "\n",
    "X_train.shape"
   ]
  },
  {
   "cell_type": "code",
   "execution_count": 20,
   "id": "e81df6f0-92ad-4252-acc1-8723887f938e",
   "metadata": {},
   "outputs": [
    {
     "data": {
      "text/html": [
       "<style>#sk-container-id-1 {color: black;}#sk-container-id-1 pre{padding: 0;}#sk-container-id-1 div.sk-toggleable {background-color: white;}#sk-container-id-1 label.sk-toggleable__label {cursor: pointer;display: block;width: 100%;margin-bottom: 0;padding: 0.3em;box-sizing: border-box;text-align: center;}#sk-container-id-1 label.sk-toggleable__label-arrow:before {content: \"▸\";float: left;margin-right: 0.25em;color: #696969;}#sk-container-id-1 label.sk-toggleable__label-arrow:hover:before {color: black;}#sk-container-id-1 div.sk-estimator:hover label.sk-toggleable__label-arrow:before {color: black;}#sk-container-id-1 div.sk-toggleable__content {max-height: 0;max-width: 0;overflow: hidden;text-align: left;background-color: #f0f8ff;}#sk-container-id-1 div.sk-toggleable__content pre {margin: 0.2em;color: black;border-radius: 0.25em;background-color: #f0f8ff;}#sk-container-id-1 input.sk-toggleable__control:checked~div.sk-toggleable__content {max-height: 200px;max-width: 100%;overflow: auto;}#sk-container-id-1 input.sk-toggleable__control:checked~label.sk-toggleable__label-arrow:before {content: \"▾\";}#sk-container-id-1 div.sk-estimator input.sk-toggleable__control:checked~label.sk-toggleable__label {background-color: #d4ebff;}#sk-container-id-1 div.sk-label input.sk-toggleable__control:checked~label.sk-toggleable__label {background-color: #d4ebff;}#sk-container-id-1 input.sk-hidden--visually {border: 0;clip: rect(1px 1px 1px 1px);clip: rect(1px, 1px, 1px, 1px);height: 1px;margin: -1px;overflow: hidden;padding: 0;position: absolute;width: 1px;}#sk-container-id-1 div.sk-estimator {font-family: monospace;background-color: #f0f8ff;border: 1px dotted black;border-radius: 0.25em;box-sizing: border-box;margin-bottom: 0.5em;}#sk-container-id-1 div.sk-estimator:hover {background-color: #d4ebff;}#sk-container-id-1 div.sk-parallel-item::after {content: \"\";width: 100%;border-bottom: 1px solid gray;flex-grow: 1;}#sk-container-id-1 div.sk-label:hover label.sk-toggleable__label {background-color: #d4ebff;}#sk-container-id-1 div.sk-serial::before {content: \"\";position: absolute;border-left: 1px solid gray;box-sizing: border-box;top: 0;bottom: 0;left: 50%;z-index: 0;}#sk-container-id-1 div.sk-serial {display: flex;flex-direction: column;align-items: center;background-color: white;padding-right: 0.2em;padding-left: 0.2em;position: relative;}#sk-container-id-1 div.sk-item {position: relative;z-index: 1;}#sk-container-id-1 div.sk-parallel {display: flex;align-items: stretch;justify-content: center;background-color: white;position: relative;}#sk-container-id-1 div.sk-item::before, #sk-container-id-1 div.sk-parallel-item::before {content: \"\";position: absolute;border-left: 1px solid gray;box-sizing: border-box;top: 0;bottom: 0;left: 50%;z-index: -1;}#sk-container-id-1 div.sk-parallel-item {display: flex;flex-direction: column;z-index: 1;position: relative;background-color: white;}#sk-container-id-1 div.sk-parallel-item:first-child::after {align-self: flex-end;width: 50%;}#sk-container-id-1 div.sk-parallel-item:last-child::after {align-self: flex-start;width: 50%;}#sk-container-id-1 div.sk-parallel-item:only-child::after {width: 0;}#sk-container-id-1 div.sk-dashed-wrapped {border: 1px dashed gray;margin: 0 0.4em 0.5em 0.4em;box-sizing: border-box;padding-bottom: 0.4em;background-color: white;}#sk-container-id-1 div.sk-label label {font-family: monospace;font-weight: bold;display: inline-block;line-height: 1.2em;}#sk-container-id-1 div.sk-label-container {text-align: center;}#sk-container-id-1 div.sk-container {/* jupyter's `normalize.less` sets `[hidden] { display: none; }` but bootstrap.min.css set `[hidden] { display: none !important; }` so we also need the `!important` here to be able to override the default hidden behavior on the sphinx rendered scikit-learn.org. See: https://github.com/scikit-learn/scikit-learn/issues/21755 */display: inline-block !important;position: relative;}#sk-container-id-1 div.sk-text-repr-fallback {display: none;}</style><div id=\"sk-container-id-1\" class=\"sk-top-container\"><div class=\"sk-text-repr-fallback\"><pre>StandardScaler()</pre><b>In a Jupyter environment, please rerun this cell to show the HTML representation or trust the notebook. <br />On GitHub, the HTML representation is unable to render, please try loading this page with nbviewer.org.</b></div><div class=\"sk-container\" hidden><div class=\"sk-item\"><div class=\"sk-estimator sk-toggleable\"><input class=\"sk-toggleable__control sk-hidden--visually\" id=\"sk-estimator-id-1\" type=\"checkbox\" checked><label for=\"sk-estimator-id-1\" class=\"sk-toggleable__label sk-toggleable__label-arrow\">StandardScaler</label><div class=\"sk-toggleable__content\"><pre>StandardScaler()</pre></div></div></div></div></div>"
      ],
      "text/plain": [
       "StandardScaler()"
      ]
     },
     "execution_count": 20,
     "metadata": {},
     "output_type": "execute_result"
    }
   ],
   "source": [
    "scaler.fit(X_train)\n"
   ]
  },
  {
   "cell_type": "code",
   "execution_count": 21,
   "id": "03a35580-1dae-4557-a0ce-e63fddfdebf3",
   "metadata": {},
   "outputs": [],
   "source": [
    "X_test = scaler.transform(X_test)"
   ]
  },
  {
   "cell_type": "code",
   "execution_count": 22,
   "id": "484eb9ef-c7af-4e52-a1df-08f33064f1b4",
   "metadata": {},
   "outputs": [],
   "source": [
    "import tensorflow"
   ]
  },
  {
   "cell_type": "code",
   "execution_count": 23,
   "id": "fb530a58-0610-4493-8926-b11fcf67e0ee",
   "metadata": {
    "scrolled": true
   },
   "outputs": [
    {
     "name": "stdout",
     "output_type": "stream",
     "text": [
      "Epoch 1/100\n",
      "154/154 [==============================] - 1s 2ms/step - loss: 937.4182 - accuracy: 0.6119\n",
      "Epoch 2/100\n",
      "154/154 [==============================] - 0s 2ms/step - loss: 30.8454 - accuracy: 0.6341\n",
      "Epoch 3/100\n",
      "154/154 [==============================] - 0s 3ms/step - loss: 18.5109 - accuracy: 0.6420\n",
      "Epoch 4/100\n",
      "154/154 [==============================] - 0s 3ms/step - loss: 33.0386 - accuracy: 0.6361\n",
      "Epoch 5/100\n",
      "154/154 [==============================] - 0s 2ms/step - loss: 14.8843 - accuracy: 0.6613\n",
      "Epoch 6/100\n",
      "154/154 [==============================] - 0s 3ms/step - loss: 18.4495 - accuracy: 0.6621\n",
      "Epoch 7/100\n",
      "154/154 [==============================] - 0s 2ms/step - loss: 22.4022 - accuracy: 0.6536\n",
      "Epoch 8/100\n",
      "154/154 [==============================] - 0s 3ms/step - loss: 13.0111 - accuracy: 0.6786\n",
      "Epoch 9/100\n",
      "154/154 [==============================] - 0s 3ms/step - loss: 12.8770 - accuracy: 0.6786\n",
      "Epoch 10/100\n",
      "154/154 [==============================] - 0s 2ms/step - loss: 7.3013 - accuracy: 0.7017\n",
      "Epoch 11/100\n",
      "154/154 [==============================] - 0s 2ms/step - loss: 8.3919 - accuracy: 0.6948\n",
      "Epoch 12/100\n",
      "154/154 [==============================] - 0s 3ms/step - loss: 11.9385 - accuracy: 0.6896\n",
      "Epoch 13/100\n",
      "154/154 [==============================] - 0s 3ms/step - loss: 11.0687 - accuracy: 0.6912\n",
      "Epoch 14/100\n",
      "154/154 [==============================] - 0s 3ms/step - loss: 8.2284 - accuracy: 0.7115\n",
      "Epoch 15/100\n",
      "154/154 [==============================] - 0s 2ms/step - loss: 9.1400 - accuracy: 0.7040\n",
      "Epoch 16/100\n",
      "154/154 [==============================] - 0s 2ms/step - loss: 7.0806 - accuracy: 0.7119\n",
      "Epoch 17/100\n",
      "154/154 [==============================] - 0s 3ms/step - loss: 13.3337 - accuracy: 0.6757\n",
      "Epoch 18/100\n",
      "154/154 [==============================] - 0s 3ms/step - loss: 12.5339 - accuracy: 0.6865\n",
      "Epoch 19/100\n",
      "154/154 [==============================] - 0s 3ms/step - loss: 14.0892 - accuracy: 0.6839\n",
      "Epoch 20/100\n",
      "154/154 [==============================] - 0s 2ms/step - loss: 11.0526 - accuracy: 0.6981\n",
      "Epoch 21/100\n",
      "154/154 [==============================] - 0s 2ms/step - loss: 13.8804 - accuracy: 0.6900\n",
      "Epoch 22/100\n",
      "154/154 [==============================] - 0s 2ms/step - loss: 11.9143 - accuracy: 0.6820\n",
      "Epoch 23/100\n",
      "154/154 [==============================] - 0s 2ms/step - loss: 7.1286 - accuracy: 0.7192\n",
      "Epoch 24/100\n",
      "154/154 [==============================] - 0s 3ms/step - loss: 8.9186 - accuracy: 0.7139\n",
      "Epoch 25/100\n",
      "154/154 [==============================] - 0s 3ms/step - loss: 10.3093 - accuracy: 0.7052\n",
      "Epoch 26/100\n",
      "154/154 [==============================] - 0s 3ms/step - loss: 10.9441 - accuracy: 0.7050\n",
      "Epoch 27/100\n",
      "154/154 [==============================] - 1s 4ms/step - loss: 8.4868 - accuracy: 0.7152\n",
      "Epoch 28/100\n",
      "154/154 [==============================] - 1s 4ms/step - loss: 16.9700 - accuracy: 0.6916\n",
      "Epoch 29/100\n",
      "154/154 [==============================] - 0s 3ms/step - loss: 14.7490 - accuracy: 0.6950\n",
      "Epoch 30/100\n",
      "154/154 [==============================] - 0s 3ms/step - loss: 12.9327 - accuracy: 0.6977\n",
      "Epoch 31/100\n",
      "154/154 [==============================] - 0s 3ms/step - loss: 8.0335 - accuracy: 0.7180\n",
      "Epoch 32/100\n",
      "154/154 [==============================] - 0s 3ms/step - loss: 10.6940 - accuracy: 0.7052\n",
      "Epoch 33/100\n",
      "154/154 [==============================] - 0s 2ms/step - loss: 16.0743 - accuracy: 0.6859\n",
      "Epoch 34/100\n",
      "154/154 [==============================] - 0s 2ms/step - loss: 7.5290 - accuracy: 0.7217\n",
      "Epoch 35/100\n",
      "154/154 [==============================] - 0s 2ms/step - loss: 10.4481 - accuracy: 0.7154\n",
      "Epoch 36/100\n",
      "154/154 [==============================] - 0s 3ms/step - loss: 10.6683 - accuracy: 0.6973\n",
      "Epoch 37/100\n",
      "154/154 [==============================] - 0s 3ms/step - loss: 9.0778 - accuracy: 0.7042\n",
      "Epoch 38/100\n",
      "154/154 [==============================] - 0s 3ms/step - loss: 15.9234 - accuracy: 0.7040\n",
      "Epoch 39/100\n",
      "154/154 [==============================] - 0s 3ms/step - loss: 8.7039 - accuracy: 0.7225\n",
      "Epoch 40/100\n",
      "154/154 [==============================] - 0s 2ms/step - loss: 9.0834 - accuracy: 0.7168\n",
      "Epoch 41/100\n",
      "154/154 [==============================] - 0s 2ms/step - loss: 11.7264 - accuracy: 0.7020\n",
      "Epoch 42/100\n",
      "154/154 [==============================] - 1s 3ms/step - loss: 8.5506 - accuracy: 0.7148\n",
      "Epoch 43/100\n",
      "154/154 [==============================] - 0s 3ms/step - loss: 8.1240 - accuracy: 0.7198\n",
      "Epoch 44/100\n",
      "154/154 [==============================] - 0s 2ms/step - loss: 10.2426 - accuracy: 0.7091\n",
      "Epoch 45/100\n",
      "154/154 [==============================] - 0s 2ms/step - loss: 9.9746 - accuracy: 0.7235\n",
      "Epoch 46/100\n",
      "154/154 [==============================] - 0s 2ms/step - loss: 6.6324 - accuracy: 0.7363\n",
      "Epoch 47/100\n",
      "154/154 [==============================] - 0s 3ms/step - loss: 10.2519 - accuracy: 0.7072\n",
      "Epoch 48/100\n",
      "154/154 [==============================] - 0s 3ms/step - loss: 8.4013 - accuracy: 0.7237\n",
      "Epoch 49/100\n",
      "154/154 [==============================] - 0s 2ms/step - loss: 8.3749 - accuracy: 0.7117\n",
      "Epoch 50/100\n",
      "154/154 [==============================] - 0s 2ms/step - loss: 16.0490 - accuracy: 0.6826\n",
      "Epoch 51/100\n",
      "154/154 [==============================] - 0s 3ms/step - loss: 10.8755 - accuracy: 0.6997\n",
      "Epoch 52/100\n",
      "154/154 [==============================] - 0s 3ms/step - loss: 14.2184 - accuracy: 0.7062\n",
      "Epoch 53/100\n",
      "154/154 [==============================] - 0s 3ms/step - loss: 13.1584 - accuracy: 0.6948\n",
      "Epoch 54/100\n",
      "154/154 [==============================] - 0s 3ms/step - loss: 11.6508 - accuracy: 0.7095\n",
      "Epoch 55/100\n",
      "154/154 [==============================] - 0s 2ms/step - loss: 14.9179 - accuracy: 0.6898\n",
      "Epoch 56/100\n",
      "154/154 [==============================] - 0s 2ms/step - loss: 9.4174 - accuracy: 0.7164\n",
      "Epoch 57/100\n",
      "154/154 [==============================] - 0s 3ms/step - loss: 8.6389 - accuracy: 0.7243\n",
      "Epoch 58/100\n",
      "154/154 [==============================] - 0s 3ms/step - loss: 12.6336 - accuracy: 0.7068\n",
      "Epoch 59/100\n",
      "154/154 [==============================] - 0s 3ms/step - loss: 15.6487 - accuracy: 0.6932\n",
      "Epoch 60/100\n",
      "154/154 [==============================] - 0s 3ms/step - loss: 8.9446 - accuracy: 0.7229\n",
      "Epoch 61/100\n",
      "154/154 [==============================] - 0s 3ms/step - loss: 8.6162 - accuracy: 0.7204\n",
      "Epoch 62/100\n",
      "154/154 [==============================] - 0s 3ms/step - loss: 7.4725 - accuracy: 0.7326\n",
      "Epoch 63/100\n",
      "154/154 [==============================] - 0s 3ms/step - loss: 6.7689 - accuracy: 0.7440\n",
      "Epoch 64/100\n",
      "154/154 [==============================] - 0s 2ms/step - loss: 11.8110 - accuracy: 0.6999\n",
      "Epoch 65/100\n",
      "154/154 [==============================] - 0s 2ms/step - loss: 9.6825 - accuracy: 0.7217\n",
      "Epoch 66/100\n",
      "154/154 [==============================] - 0s 3ms/step - loss: 7.6002 - accuracy: 0.7375\n",
      "Epoch 67/100\n",
      "154/154 [==============================] - 0s 3ms/step - loss: 9.1089 - accuracy: 0.7292\n",
      "Epoch 68/100\n",
      "154/154 [==============================] - 0s 3ms/step - loss: 12.2786 - accuracy: 0.6981\n",
      "Epoch 69/100\n",
      "154/154 [==============================] - 0s 2ms/step - loss: 7.3068 - accuracy: 0.7261\n",
      "Epoch 70/100\n",
      "154/154 [==============================] - 0s 2ms/step - loss: 10.1899 - accuracy: 0.7111\n",
      "Epoch 71/100\n",
      "154/154 [==============================] - 0s 3ms/step - loss: 9.5634 - accuracy: 0.7208\n",
      "Epoch 72/100\n",
      "154/154 [==============================] - 0s 3ms/step - loss: 10.6007 - accuracy: 0.6997\n",
      "Epoch 73/100\n",
      "154/154 [==============================] - 1s 3ms/step - loss: 10.9276 - accuracy: 0.7273\n",
      "Epoch 74/100\n",
      "154/154 [==============================] - 0s 3ms/step - loss: 8.2665 - accuracy: 0.7304\n",
      "Epoch 75/100\n",
      "154/154 [==============================] - 0s 2ms/step - loss: 13.3760 - accuracy: 0.7072\n",
      "Epoch 76/100\n",
      "154/154 [==============================] - 0s 2ms/step - loss: 13.9001 - accuracy: 0.6977\n",
      "Epoch 77/100\n",
      "154/154 [==============================] - 0s 3ms/step - loss: 6.1695 - accuracy: 0.7393\n",
      "Epoch 78/100\n",
      "154/154 [==============================] - 0s 2ms/step - loss: 11.0174 - accuracy: 0.7078\n",
      "Epoch 79/100\n",
      "154/154 [==============================] - 0s 3ms/step - loss: 20.9423 - accuracy: 0.6737\n",
      "Epoch 80/100\n",
      "154/154 [==============================] - 0s 3ms/step - loss: 8.3979 - accuracy: 0.7259\n",
      "Epoch 81/100\n",
      "154/154 [==============================] - 0s 2ms/step - loss: 10.8071 - accuracy: 0.7164\n",
      "Epoch 82/100\n",
      "154/154 [==============================] - 0s 3ms/step - loss: 7.8838 - accuracy: 0.7255\n",
      "Epoch 83/100\n",
      "154/154 [==============================] - 0s 2ms/step - loss: 11.5979 - accuracy: 0.7148\n",
      "Epoch 84/100\n",
      "154/154 [==============================] - 0s 3ms/step - loss: 13.6537 - accuracy: 0.6985\n",
      "Epoch 85/100\n",
      "154/154 [==============================] - 0s 3ms/step - loss: 6.8207 - accuracy: 0.7389\n",
      "Epoch 86/100\n",
      "154/154 [==============================] - 0s 2ms/step - loss: 10.3635 - accuracy: 0.7206\n",
      "Epoch 87/100\n",
      "154/154 [==============================] - 0s 3ms/step - loss: 8.1062 - accuracy: 0.7357\n",
      "Epoch 88/100\n",
      "154/154 [==============================] - 0s 3ms/step - loss: 8.7208 - accuracy: 0.7257\n",
      "Epoch 89/100\n",
      "154/154 [==============================] - 0s 2ms/step - loss: 11.2559 - accuracy: 0.7137\n",
      "Epoch 90/100\n",
      "154/154 [==============================] - 0s 3ms/step - loss: 9.2422 - accuracy: 0.7255\n",
      "Epoch 91/100\n",
      "154/154 [==============================] - 0s 3ms/step - loss: 11.0263 - accuracy: 0.7210\n",
      "Epoch 92/100\n",
      "154/154 [==============================] - 0s 3ms/step - loss: 6.9898 - accuracy: 0.7343\n",
      "Epoch 93/100\n",
      "154/154 [==============================] - 0s 2ms/step - loss: 6.6334 - accuracy: 0.7389\n",
      "Epoch 94/100\n",
      "154/154 [==============================] - 0s 2ms/step - loss: 10.0592 - accuracy: 0.7178\n",
      "Epoch 95/100\n",
      "154/154 [==============================] - 0s 3ms/step - loss: 10.9232 - accuracy: 0.7074\n",
      "Epoch 96/100\n",
      "154/154 [==============================] - 1s 3ms/step - loss: 9.4489 - accuracy: 0.7241\n",
      "Epoch 97/100\n",
      "154/154 [==============================] - 0s 3ms/step - loss: 10.1302 - accuracy: 0.7198\n",
      "Epoch 98/100\n",
      "154/154 [==============================] - 0s 3ms/step - loss: 11.1011 - accuracy: 0.7054\n",
      "Epoch 99/100\n",
      "154/154 [==============================] - 0s 3ms/step - loss: 10.3212 - accuracy: 0.7194\n",
      "Epoch 100/100\n",
      "154/154 [==============================] - 0s 2ms/step - loss: 13.3867 - accuracy: 0.6971\n"
     ]
    },
    {
     "data": {
      "text/plain": [
       "<keras.src.callbacks.History at 0x2903001e210>"
      ]
     },
     "execution_count": 23,
     "metadata": {},
     "output_type": "execute_result"
    }
   ],
   "source": [
    "import tensorflow\n",
    "from tensorflow import keras\n",
    "\n",
    "model = keras.Sequential([\n",
    "    keras.layers.Dense(26, input_shape = (26,), activation = \"relu\"),\n",
    "    keras.layers.Dense(1, activation = \"sigmoid\")\n",
    "])\n",
    "\n",
    "model.compile(optimizer = \"adam\", loss = \"binary_crossentropy\", metrics = [\"accuracy\"])\n",
    "\n",
    "model.fit(X_train, y_train, epochs = 100)"
   ]
  },
  {
   "cell_type": "code",
   "execution_count": 24,
   "id": "1fb812e2-1b7c-4b25-8495-f2936b844ede",
   "metadata": {},
   "outputs": [
    {
     "name": "stdout",
     "output_type": "stream",
     "text": [
      "33/33 [==============================] - 0s 2ms/step\n"
     ]
    }
   ],
   "source": [
    "y_pred = model.predict(X_test)"
   ]
  },
  {
   "cell_type": "code",
   "execution_count": 25,
   "id": "8d2ae98f-7b52-492f-8f7d-10b68680b6d9",
   "metadata": {},
   "outputs": [
    {
     "name": "stdout",
     "output_type": "stream",
     "text": [
      "33/33 [==============================] - 0s 2ms/step - loss: 2.4153 - accuracy: 0.6521\n"
     ]
    },
    {
     "data": {
      "text/plain": [
       "[2.415297269821167, 0.6521326899528503]"
      ]
     },
     "execution_count": 25,
     "metadata": {},
     "output_type": "execute_result"
    }
   ],
   "source": [
    "model.evaluate(X_test, y_test)"
   ]
  },
  {
   "cell_type": "code",
   "execution_count": 26,
   "id": "79feaa2a-f606-4f11-8021-ea5f05e6b578",
   "metadata": {},
   "outputs": [
    {
     "data": {
      "text/plain": [
       "array([[9.9963391e-01],\n",
       "       [9.9999976e-01],\n",
       "       [1.0000000e+00],\n",
       "       [9.9992353e-01],\n",
       "       [1.4509463e-10]], dtype=float32)"
      ]
     },
     "execution_count": 26,
     "metadata": {},
     "output_type": "execute_result"
    }
   ],
   "source": [
    "y_pred[:5]"
   ]
  },
  {
   "cell_type": "code",
   "execution_count": 27,
   "id": "bfa0435b-f434-413c-aa90-30b9282480fe",
   "metadata": {},
   "outputs": [],
   "source": [
    "y_pred_final = []\n",
    "for i in y_pred:\n",
    "    if i > 0.5:\n",
    "        y_pred_final.append(1)\n",
    "    else:\n",
    "        y_pred_final.append(0)"
   ]
  },
  {
   "cell_type": "code",
   "execution_count": 28,
   "id": "da64811c-e54d-4fdb-a7df-205b24813d97",
   "metadata": {},
   "outputs": [
    {
     "data": {
      "text/plain": [
       "[1, 1, 1, 1, 0, 0, 1, 1, 1, 1, 1, 1]"
      ]
     },
     "execution_count": 28,
     "metadata": {},
     "output_type": "execute_result"
    }
   ],
   "source": [
    "y_pred_final[:12]"
   ]
  },
  {
   "cell_type": "code",
   "execution_count": 29,
   "id": "9f908441-fe13-4839-96e5-8f41cff43629",
   "metadata": {},
   "outputs": [
    {
     "name": "stdout",
     "output_type": "stream",
     "text": [
      "              precision    recall  f1-score   support\n",
      "\n",
      "           0       0.91      0.57      0.70       762\n",
      "           1       0.44      0.86      0.58       293\n",
      "\n",
      "    accuracy                           0.65      1055\n",
      "   macro avg       0.67      0.72      0.64      1055\n",
      "weighted avg       0.78      0.65      0.67      1055\n",
      "\n"
     ]
    }
   ],
   "source": [
    "from sklearn.metrics import confusion_matrix, classification_report\n",
    "\n",
    "print(classification_report(y_test, y_pred_final))"
   ]
  },
  {
   "cell_type": "code",
   "execution_count": 30,
   "id": "2e0ccb31-bc7a-418e-b140-52f4c33e4e3b",
   "metadata": {},
   "outputs": [
    {
     "data": {
      "text/plain": [
       "Text(70.72222222222221, 0.5, 'Real')"
      ]
     },
     "execution_count": 30,
     "metadata": {},
     "output_type": "execute_result"
    },
    {
     "data": {
      "image/png": "[encoded data removed]",
      "text/plain": [
       "<Figure size 800x500 with 2 Axes>"
      ]
     },
     "metadata": {},
     "output_type": "display_data"
    }
   ],
   "source": [
    "import seaborn as sns\n",
    "import matplotlib.pyplot as plt\n",
    "\n",
    "cM =  tensorflow.math.confusion_matrix(labels = y_test, predictions= y_pred_final)\n",
    "\n",
    "plt.figure(figsize = (8,5))\n",
    "sns.heatmap(cM, annot =True, fmt =\"d\")\n",
    "plt.xlabel('Predicted')\n",
    "plt.ylabel('Real')"
   ]
  },
  {
   "cell_type": "code",
   "execution_count": 31,
   "id": "302d9c50-079f-4ccc-ba55-557922c2c92f",
   "metadata": {},
   "outputs": [],
   "source": [
    "###Pickle the file for deployment"
   ]
  },
  {
   "cell_type": "code",
   "execution_count": 32,
   "id": "214069a6",
   "metadata": {},
   "outputs": [
    {
     "name": "stderr",
     "output_type": "stream",
     "text": [
      "c:\\Users\\STAFF\\AppData\\Local\\Programs\\Python\\Python311\\Lib\\site-packages\\keras\\src\\engine\\training.py:3000: UserWarning: You are saving your model as an HDF5 file via `model.save()`. This file format is considered legacy. We recommend using instead the native Keras format, e.g. `model.save('my_model.keras')`.\n",
      "  saving_api.save_model(\n"
     ]
    }
   ],
   "source": [
    "\n",
    "model.save('churn_model.h5')\n"
   ]
  },
  {
   "cell_type": "code",
   "execution_count": null,
   "id": "6a7c92d8",
   "metadata": {},
   "outputs": [],
   "source": []
  },
  {
   "cell_type": "code",
   "execution_count": 33,
   "id": "c0919703-1c22-460b-b208-11460c646d83",
   "metadata": {},
   "outputs": [],
   "source": [
    "import pickle"
   ]
  },
  {
   "cell_type": "code",
   "execution_count": 34,
   "id": "fa7106a6-5cc5-4b7f-bb03-c57dcdc05731",
   "metadata": {},
   "outputs": [],
   "source": [
    "pickle.dump(model,open('churn_model.pkl','wb'))"
   ]
  },
  {
   "cell_type": "code",
   "execution_count": 35,
   "id": "f0c743a6-0fb1-4575-b48f-eddc00bb699b",
   "metadata": {},
   "outputs": [],
   "source": [
    "pickled_model = pickle.load(open('churn_model.pkl','rb'))"
   ]
  },
  {
   "cell_type": "code",
   "execution_count": null,
   "id": "dde5571b",
   "metadata": {},
   "outputs": [],
   "source": []
  },
  {
   "cell_type": "code",
   "execution_count": null,
   "id": "d7c03e25",
   "metadata": {},
   "outputs": [],
   "source": []
  }
 ],
 "metadata": {
  "kernelspec": {
   "display_name": "Python 3 (ipykernel)",
   "language": "python",
   "name": "python3"
  },
  "language_info": {
   "codemirror_mode": {
    "name": "ipython",
    "version": 3
   },
   "file_extension": ".py",
   "mimetype": "text/x-python",
   "name": "python",
   "nbconvert_exporter": "python",
   "pygments_lexer": "ipython3",
   "version": "3.11.4"
  }
 },
 "nbformat": 4,
 "nbformat_minor": 5
}
