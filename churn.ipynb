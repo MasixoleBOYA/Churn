{
 "cells": [
  {
   "cell_type": "code",
   "execution_count": 40,
   "id": "ced692a0-3cee-4ed9-9d3a-b237de16445d",
   "metadata": {},
   "outputs": [],
   "source": [
    "import pandas as pd\n",
    "import numpy as np\n",
    "import matplotlib as plt"
   ]
  },
  {
   "cell_type": "code",
   "execution_count": 41,
   "id": "055d38fa-28fd-468f-b490-1ba548d5df7b",
   "metadata": {},
   "outputs": [
    {
     "data": {
      "text/html": [
       "<div>\n",
       "<style scoped>\n",
       "    .dataframe tbody tr th:only-of-type {\n",
       "        vertical-align: middle;\n",
       "    }\n",
       "\n",
       "    .dataframe tbody tr th {\n",
       "        vertical-align: top;\n",
       "    }\n",
       "\n",
       "    .dataframe thead th {\n",
       "        text-align: right;\n",
       "    }\n",
       "</style>\n",
       "<table border=\"1\" class=\"dataframe\">\n",
       "  <thead>\n",
       "    <tr style=\"text-align: right;\">\n",
       "      <th></th>\n",
       "      <th>CustomerID</th>\n",
       "      <th>Count</th>\n",
       "      <th>Country</th>\n",
       "      <th>State</th>\n",
       "      <th>City</th>\n",
       "      <th>Zip Code</th>\n",
       "      <th>Lat Long</th>\n",
       "      <th>Latitude</th>\n",
       "      <th>Longitude</th>\n",
       "      <th>Gender</th>\n",
       "      <th>...</th>\n",
       "      <th>Contract</th>\n",
       "      <th>Paperless Billing</th>\n",
       "      <th>Payment Method</th>\n",
       "      <th>Monthly Charges</th>\n",
       "      <th>Total Charges</th>\n",
       "      <th>Churn Label</th>\n",
       "      <th>Churn Value</th>\n",
       "      <th>Churn Score</th>\n",
       "      <th>CLTV</th>\n",
       "      <th>Churn Reason</th>\n",
       "    </tr>\n",
       "  </thead>\n",
       "  <tbody>\n",
       "    <tr>\n",
       "      <th>4397</th>\n",
       "      <td>0369-ZGOVK</td>\n",
       "      <td>1</td>\n",
       "      <td>United States</td>\n",
       "      <td>California</td>\n",
       "      <td>Cypress</td>\n",
       "      <td>90630</td>\n",
       "      <td>33.818477, -118.038307</td>\n",
       "      <td>33.818477</td>\n",
       "      <td>-118.038307</td>\n",
       "      <td>Female</td>\n",
       "      <td>...</td>\n",
       "      <td>One year</td>\n",
       "      <td>Yes</td>\n",
       "      <td>Bank transfer (automatic)</td>\n",
       "      <td>70.40</td>\n",
       "      <td>1992.2</td>\n",
       "      <td>No</td>\n",
       "      <td>0</td>\n",
       "      <td>54</td>\n",
       "      <td>5195</td>\n",
       "      <td>NaN</td>\n",
       "    </tr>\n",
       "    <tr>\n",
       "      <th>4969</th>\n",
       "      <td>3146-JTQHR</td>\n",
       "      <td>1</td>\n",
       "      <td>United States</td>\n",
       "      <td>California</td>\n",
       "      <td>San Bruno</td>\n",
       "      <td>94066</td>\n",
       "      <td>37.624436, -122.430661</td>\n",
       "      <td>37.624436</td>\n",
       "      <td>-122.430661</td>\n",
       "      <td>Male</td>\n",
       "      <td>...</td>\n",
       "      <td>One year</td>\n",
       "      <td>No</td>\n",
       "      <td>Bank transfer (automatic)</td>\n",
       "      <td>19.60</td>\n",
       "      <td>189.45</td>\n",
       "      <td>No</td>\n",
       "      <td>0</td>\n",
       "      <td>57</td>\n",
       "      <td>3778</td>\n",
       "      <td>NaN</td>\n",
       "    </tr>\n",
       "    <tr>\n",
       "      <th>3158</th>\n",
       "      <td>8540-ZQGEA</td>\n",
       "      <td>1</td>\n",
       "      <td>United States</td>\n",
       "      <td>California</td>\n",
       "      <td>Playa Del Rey</td>\n",
       "      <td>90293</td>\n",
       "      <td>33.947305, -118.439841</td>\n",
       "      <td>33.947305</td>\n",
       "      <td>-118.439841</td>\n",
       "      <td>Female</td>\n",
       "      <td>...</td>\n",
       "      <td>Two year</td>\n",
       "      <td>No</td>\n",
       "      <td>Credit card (automatic)</td>\n",
       "      <td>20.05</td>\n",
       "      <td>1102.4</td>\n",
       "      <td>No</td>\n",
       "      <td>0</td>\n",
       "      <td>40</td>\n",
       "      <td>4212</td>\n",
       "      <td>NaN</td>\n",
       "    </tr>\n",
       "    <tr>\n",
       "      <th>5588</th>\n",
       "      <td>9927-DSWDF</td>\n",
       "      <td>1</td>\n",
       "      <td>United States</td>\n",
       "      <td>California</td>\n",
       "      <td>Palos Verdes Peninsula</td>\n",
       "      <td>90274</td>\n",
       "      <td>33.788208, -118.404955</td>\n",
       "      <td>33.788208</td>\n",
       "      <td>-118.404955</td>\n",
       "      <td>Male</td>\n",
       "      <td>...</td>\n",
       "      <td>Month-to-month</td>\n",
       "      <td>Yes</td>\n",
       "      <td>Electronic check</td>\n",
       "      <td>104.60</td>\n",
       "      <td>2180.55</td>\n",
       "      <td>No</td>\n",
       "      <td>0</td>\n",
       "      <td>68</td>\n",
       "      <td>2429</td>\n",
       "      <td>NaN</td>\n",
       "    </tr>\n",
       "    <tr>\n",
       "      <th>410</th>\n",
       "      <td>1157-BQCUW</td>\n",
       "      <td>1</td>\n",
       "      <td>United States</td>\n",
       "      <td>California</td>\n",
       "      <td>Fall River Mills</td>\n",
       "      <td>96028</td>\n",
       "      <td>41.017282, -121.468945</td>\n",
       "      <td>41.017282</td>\n",
       "      <td>-121.468945</td>\n",
       "      <td>Male</td>\n",
       "      <td>...</td>\n",
       "      <td>Month-to-month</td>\n",
       "      <td>Yes</td>\n",
       "      <td>Electronic check</td>\n",
       "      <td>74.95</td>\n",
       "      <td>74.95</td>\n",
       "      <td>Yes</td>\n",
       "      <td>1</td>\n",
       "      <td>82</td>\n",
       "      <td>2591</td>\n",
       "      <td>Attitude of service provider</td>\n",
       "    </tr>\n",
       "  </tbody>\n",
       "</table>\n",
       "<p>5 rows × 33 columns</p>\n",
       "</div>"
      ],
      "text/plain": [
       "      CustomerID  Count        Country       State                    City  \\\n",
       "4397  0369-ZGOVK      1  United States  California                 Cypress   \n",
       "4969  3146-JTQHR      1  United States  California               San Bruno   \n",
       "3158  8540-ZQGEA      1  United States  California           Playa Del Rey   \n",
       "5588  9927-DSWDF      1  United States  California  Palos Verdes Peninsula   \n",
       "410   1157-BQCUW      1  United States  California        Fall River Mills   \n",
       "\n",
       "      Zip Code                Lat Long   Latitude   Longitude  Gender  ...  \\\n",
       "4397     90630  33.818477, -118.038307  33.818477 -118.038307  Female  ...   \n",
       "4969     94066  37.624436, -122.430661  37.624436 -122.430661    Male  ...   \n",
       "3158     90293  33.947305, -118.439841  33.947305 -118.439841  Female  ...   \n",
       "5588     90274  33.788208, -118.404955  33.788208 -118.404955    Male  ...   \n",
       "410      96028  41.017282, -121.468945  41.017282 -121.468945    Male  ...   \n",
       "\n",
       "            Contract Paperless Billing             Payment Method  \\\n",
       "4397        One year               Yes  Bank transfer (automatic)   \n",
       "4969        One year                No  Bank transfer (automatic)   \n",
       "3158        Two year                No    Credit card (automatic)   \n",
       "5588  Month-to-month               Yes           Electronic check   \n",
       "410   Month-to-month               Yes           Electronic check   \n",
       "\n",
       "      Monthly Charges Total Charges Churn Label Churn Value Churn Score  CLTV  \\\n",
       "4397            70.40        1992.2          No           0          54  5195   \n",
       "4969            19.60        189.45          No           0          57  3778   \n",
       "3158            20.05        1102.4          No           0          40  4212   \n",
       "5588           104.60       2180.55          No           0          68  2429   \n",
       "410             74.95         74.95         Yes           1          82  2591   \n",
       "\n",
       "                      Churn Reason  \n",
       "4397                           NaN  \n",
       "4969                           NaN  \n",
       "3158                           NaN  \n",
       "5588                           NaN  \n",
       "410   Attitude of service provider  \n",
       "\n",
       "[5 rows x 33 columns]"
      ]
     },
     "execution_count": 41,
     "metadata": {},
     "output_type": "execute_result"
    }
   ],
   "source": [
    "doc = pd.read_excel(\"C:/Users/STAFF/Desktop/Git_Repos/Telco_customer_churn.xlsx\")\n",
    "doc.sample(5)"
   ]
  },
  {
   "cell_type": "code",
   "execution_count": 42,
   "id": "02426e7e-82c7-4220-a35c-975ec88d94e0",
   "metadata": {},
   "outputs": [],
   "source": [
    "doc.drop(columns =[\"CustomerID\",\"Count\",\"Churn Reason\",\"Churn Label\",\"Churn Score\",\"Lat Long\"], inplace = True)"
   ]
  },
  {
   "cell_type": "code",
   "execution_count": 43,
   "id": "50f968c8-0e93-4812-b5f9-0006415efd84",
   "metadata": {},
   "outputs": [
    {
     "data": {
      "text/plain": [
       "(7043, 27)"
      ]
     },
     "execution_count": 43,
     "metadata": {},
     "output_type": "execute_result"
    }
   ],
   "source": [
    "doc.shape"
   ]
  },
  {
   "cell_type": "code",
   "execution_count": 44,
   "id": "ea959d46-4e42-411d-a46d-5d267949d224",
   "metadata": {},
   "outputs": [
    {
     "data": {
      "text/plain": [
       "(7043, 27)"
      ]
     },
     "execution_count": 44,
     "metadata": {},
     "output_type": "execute_result"
    }
   ],
   "source": [
    "doc = doc.dropna()\n",
    "doc.shape"
   ]
  },
  {
   "cell_type": "code",
   "execution_count": 45,
   "id": "3b7ddabf-d523-49e2-a1e8-19e92f2ad29e",
   "metadata": {},
   "outputs": [
    {
     "data": {
      "text/plain": [
       "(7032, 27)"
      ]
     },
     "execution_count": 45,
     "metadata": {},
     "output_type": "execute_result"
    }
   ],
   "source": [
    "doc = doc[doc[\"Total Charges\"] != \" \"]\n",
    "doc.shape"
   ]
  },
  {
   "cell_type": "code",
   "execution_count": 46,
   "id": "a64acf13-5d17-4fd0-bdee-79e4e15e4e86",
   "metadata": {},
   "outputs": [],
   "source": [
    "doc[\"Total Charges\"] = pd.to_numeric(doc[\"Total Charges\"])\n"
   ]
  },
  {
   "cell_type": "code",
   "execution_count": 47,
   "id": "a3c6381e-4c28-4364-97e6-b7e9299e0c89",
   "metadata": {
    "scrolled": true
   },
   "outputs": [
    {
     "data": {
      "text/plain": [
       "Country               object\n",
       "State                 object\n",
       "City                  object\n",
       "Zip Code               int64\n",
       "Latitude             float64\n",
       "Longitude            float64\n",
       "Gender                object\n",
       "Senior Citizen        object\n",
       "Partner               object\n",
       "Dependents            object\n",
       "Tenure Months          int64\n",
       "Phone Service         object\n",
       "Multiple Lines        object\n",
       "Internet Service      object\n",
       "Online Security       object\n",
       "Online Backup         object\n",
       "Device Protection     object\n",
       "Tech Support          object\n",
       "Streaming TV          object\n",
       "Streaming Movies      object\n",
       "Contract              object\n",
       "Paperless Billing     object\n",
       "Payment Method        object\n",
       "Monthly Charges      float64\n",
       "Total Charges        float64\n",
       "Churn Value            int64\n",
       "CLTV                   int64\n",
       "dtype: object"
      ]
     },
     "execution_count": 47,
     "metadata": {},
     "output_type": "execute_result"
    }
   ],
   "source": [
    "doc.dtypes"
   ]
  },
  {
   "cell_type": "code",
   "execution_count": 48,
   "id": "f72e35d6-6ca9-4e41-8107-23105e1bce7c",
   "metadata": {},
   "outputs": [],
   "source": [
    "def values_in_each_col(dataframe):\n",
    "    for i in dataframe:\n",
    "        if dataframe[i].dtypes == \"object\":\n",
    "            print(f\"{i} : {dataframe[i].unique()}\")"
   ]
  },
  {
   "cell_type": "code",
   "execution_count": 49,
   "id": "dc640c2e-569b-413c-93cf-5434c21c6f46",
   "metadata": {},
   "outputs": [
    {
     "name": "stdout",
     "output_type": "stream",
     "text": [
      "Country : ['United States']\n",
      "State : ['California']\n",
      "City : ['Los Angeles' 'Beverly Hills' 'Huntington Park' ... 'Tulelake'\n",
      " 'Olympic Valley' 'Redcrest']\n",
      "Gender : ['Male' 'Female']\n",
      "Senior Citizen : ['No' 'Yes']\n",
      "Partner : ['No' 'Yes']\n",
      "Dependents : ['No' 'Yes']\n",
      "Phone Service : ['Yes' 'No']\n",
      "Multiple Lines : ['No' 'Yes' 'No phone service']\n",
      "Internet Service : ['DSL' 'Fiber optic' 'No']\n",
      "Online Security : ['Yes' 'No' 'No internet service']\n",
      "Online Backup : ['Yes' 'No' 'No internet service']\n",
      "Device Protection : ['No' 'Yes' 'No internet service']\n",
      "Tech Support : ['No' 'Yes' 'No internet service']\n",
      "Streaming TV : ['No' 'Yes' 'No internet service']\n",
      "Streaming Movies : ['No' 'Yes' 'No internet service']\n",
      "Contract : ['Month-to-month' 'Two year' 'One year']\n",
      "Paperless Billing : ['Yes' 'No']\n",
      "Payment Method : ['Mailed check' 'Electronic check' 'Bank transfer (automatic)'\n",
      " 'Credit card (automatic)']\n"
     ]
    }
   ],
   "source": [
    "values_in_each_col(doc)"
   ]
  },
  {
   "cell_type": "code",
   "execution_count": 50,
   "id": "3fb400de-2b26-43a3-be16-32e4bce2331f",
   "metadata": {},
   "outputs": [],
   "source": [
    "doc.replace(\"No internet service\" , \"No\", inplace = True)\n",
    "doc.replace(\"No phone service\" , \"No\", inplace = True)\n"
   ]
  },
  {
   "cell_type": "code",
   "execution_count": 51,
   "id": "ef020e17-7eb1-4bd6-81a2-3efe8880f3fa",
   "metadata": {},
   "outputs": [
    {
     "name": "stdout",
     "output_type": "stream",
     "text": [
      "Country : ['United States']\n",
      "State : ['California']\n",
      "City : ['Los Angeles' 'Beverly Hills' 'Huntington Park' ... 'Tulelake'\n",
      " 'Olympic Valley' 'Redcrest']\n",
      "Gender : ['Male' 'Female']\n",
      "Senior Citizen : ['No' 'Yes']\n",
      "Partner : ['No' 'Yes']\n",
      "Dependents : ['No' 'Yes']\n",
      "Phone Service : ['Yes' 'No']\n",
      "Multiple Lines : ['No' 'Yes']\n",
      "Internet Service : ['DSL' 'Fiber optic' 'No']\n",
      "Online Security : ['Yes' 'No']\n",
      "Online Backup : ['Yes' 'No']\n",
      "Device Protection : ['No' 'Yes']\n",
      "Tech Support : ['No' 'Yes']\n",
      "Streaming TV : ['No' 'Yes']\n",
      "Streaming Movies : ['No' 'Yes']\n",
      "Contract : ['Month-to-month' 'Two year' 'One year']\n",
      "Paperless Billing : ['Yes' 'No']\n",
      "Payment Method : ['Mailed check' 'Electronic check' 'Bank transfer (automatic)'\n",
      " 'Credit card (automatic)']\n"
     ]
    }
   ],
   "source": [
    "values_in_each_col(doc)"
   ]
  },
  {
   "cell_type": "code",
   "execution_count": 52,
   "id": "76599dad-42a3-4c94-8f3b-caa1d7fa363d",
   "metadata": {},
   "outputs": [
    {
     "data": {
      "text/html": [
       "<div>\n",
       "<style scoped>\n",
       "    .dataframe tbody tr th:only-of-type {\n",
       "        vertical-align: middle;\n",
       "    }\n",
       "\n",
       "    .dataframe tbody tr th {\n",
       "        vertical-align: top;\n",
       "    }\n",
       "\n",
       "    .dataframe thead th {\n",
       "        text-align: right;\n",
       "    }\n",
       "</style>\n",
       "<table border=\"1\" class=\"dataframe\">\n",
       "  <thead>\n",
       "    <tr style=\"text-align: right;\">\n",
       "      <th></th>\n",
       "      <th>Country</th>\n",
       "      <th>State</th>\n",
       "      <th>City</th>\n",
       "      <th>Zip Code</th>\n",
       "      <th>Latitude</th>\n",
       "      <th>Longitude</th>\n",
       "      <th>Gender</th>\n",
       "      <th>Senior Citizen</th>\n",
       "      <th>Partner</th>\n",
       "      <th>Dependents</th>\n",
       "      <th>...</th>\n",
       "      <th>Tech Support</th>\n",
       "      <th>Streaming TV</th>\n",
       "      <th>Streaming Movies</th>\n",
       "      <th>Contract</th>\n",
       "      <th>Paperless Billing</th>\n",
       "      <th>Payment Method</th>\n",
       "      <th>Monthly Charges</th>\n",
       "      <th>Total Charges</th>\n",
       "      <th>Churn Value</th>\n",
       "      <th>CLTV</th>\n",
       "    </tr>\n",
       "  </thead>\n",
       "  <tbody>\n",
       "    <tr>\n",
       "      <th>6499</th>\n",
       "      <td>0</td>\n",
       "      <td>0</td>\n",
       "      <td>914</td>\n",
       "      <td>95565</td>\n",
       "      <td>40.440636</td>\n",
       "      <td>-124.098739</td>\n",
       "      <td>1</td>\n",
       "      <td>0</td>\n",
       "      <td>0</td>\n",
       "      <td>1</td>\n",
       "      <td>...</td>\n",
       "      <td>0</td>\n",
       "      <td>0</td>\n",
       "      <td>0</td>\n",
       "      <td>2</td>\n",
       "      <td>0</td>\n",
       "      <td>3</td>\n",
       "      <td>19.60</td>\n",
       "      <td>397.00</td>\n",
       "      <td>0</td>\n",
       "      <td>2447</td>\n",
       "    </tr>\n",
       "    <tr>\n",
       "      <th>3312</th>\n",
       "      <td>0</td>\n",
       "      <td>0</td>\n",
       "      <td>449</td>\n",
       "      <td>91932</td>\n",
       "      <td>32.579134</td>\n",
       "      <td>-117.119009</td>\n",
       "      <td>0</td>\n",
       "      <td>0</td>\n",
       "      <td>1</td>\n",
       "      <td>1</td>\n",
       "      <td>...</td>\n",
       "      <td>1</td>\n",
       "      <td>0</td>\n",
       "      <td>1</td>\n",
       "      <td>0</td>\n",
       "      <td>1</td>\n",
       "      <td>0</td>\n",
       "      <td>95.50</td>\n",
       "      <td>1916.20</td>\n",
       "      <td>0</td>\n",
       "      <td>3186</td>\n",
       "    </tr>\n",
       "    <tr>\n",
       "      <th>972</th>\n",
       "      <td>0</td>\n",
       "      <td>0</td>\n",
       "      <td>258</td>\n",
       "      <td>92241</td>\n",
       "      <td>33.832799</td>\n",
       "      <td>-116.250973</td>\n",
       "      <td>0</td>\n",
       "      <td>1</td>\n",
       "      <td>0</td>\n",
       "      <td>0</td>\n",
       "      <td>...</td>\n",
       "      <td>0</td>\n",
       "      <td>0</td>\n",
       "      <td>0</td>\n",
       "      <td>0</td>\n",
       "      <td>1</td>\n",
       "      <td>2</td>\n",
       "      <td>79.15</td>\n",
       "      <td>1520.90</td>\n",
       "      <td>1</td>\n",
       "      <td>4997</td>\n",
       "    </tr>\n",
       "    <tr>\n",
       "      <th>2723</th>\n",
       "      <td>0</td>\n",
       "      <td>0</td>\n",
       "      <td>146</td>\n",
       "      <td>95226</td>\n",
       "      <td>38.233879</td>\n",
       "      <td>-120.861666</td>\n",
       "      <td>0</td>\n",
       "      <td>0</td>\n",
       "      <td>1</td>\n",
       "      <td>1</td>\n",
       "      <td>...</td>\n",
       "      <td>0</td>\n",
       "      <td>0</td>\n",
       "      <td>0</td>\n",
       "      <td>2</td>\n",
       "      <td>1</td>\n",
       "      <td>0</td>\n",
       "      <td>24.65</td>\n",
       "      <td>1138.80</td>\n",
       "      <td>0</td>\n",
       "      <td>3043</td>\n",
       "    </tr>\n",
       "    <tr>\n",
       "      <th>1851</th>\n",
       "      <td>0</td>\n",
       "      <td>0</td>\n",
       "      <td>869</td>\n",
       "      <td>92123</td>\n",
       "      <td>32.808814</td>\n",
       "      <td>-117.134694</td>\n",
       "      <td>1</td>\n",
       "      <td>1</td>\n",
       "      <td>0</td>\n",
       "      <td>0</td>\n",
       "      <td>...</td>\n",
       "      <td>0</td>\n",
       "      <td>1</td>\n",
       "      <td>0</td>\n",
       "      <td>0</td>\n",
       "      <td>1</td>\n",
       "      <td>3</td>\n",
       "      <td>39.00</td>\n",
       "      <td>679.85</td>\n",
       "      <td>1</td>\n",
       "      <td>5692</td>\n",
       "    </tr>\n",
       "  </tbody>\n",
       "</table>\n",
       "<p>5 rows × 27 columns</p>\n",
       "</div>"
      ],
      "text/plain": [
       "      Country  State  City  Zip Code   Latitude   Longitude  Gender  \\\n",
       "6499        0      0   914     95565  40.440636 -124.098739       1   \n",
       "3312        0      0   449     91932  32.579134 -117.119009       0   \n",
       "972         0      0   258     92241  33.832799 -116.250973       0   \n",
       "2723        0      0   146     95226  38.233879 -120.861666       0   \n",
       "1851        0      0   869     92123  32.808814 -117.134694       1   \n",
       "\n",
       "      Senior Citizen  Partner  Dependents  ...  Tech Support  Streaming TV  \\\n",
       "6499               0        0           1  ...             0             0   \n",
       "3312               0        1           1  ...             1             0   \n",
       "972                1        0           0  ...             0             0   \n",
       "2723               0        1           1  ...             0             0   \n",
       "1851               1        0           0  ...             0             1   \n",
       "\n",
       "      Streaming Movies  Contract  Paperless Billing  Payment Method  \\\n",
       "6499                 0         2                  0               3   \n",
       "3312                 1         0                  1               0   \n",
       "972                  0         0                  1               2   \n",
       "2723                 0         2                  1               0   \n",
       "1851                 0         0                  1               3   \n",
       "\n",
       "      Monthly Charges  Total Charges  Churn Value  CLTV  \n",
       "6499            19.60         397.00            0  2447  \n",
       "3312            95.50        1916.20            0  3186  \n",
       "972             79.15        1520.90            1  4997  \n",
       "2723            24.65        1138.80            0  3043  \n",
       "1851            39.00         679.85            1  5692  \n",
       "\n",
       "[5 rows x 27 columns]"
      ]
     },
     "execution_count": 52,
     "metadata": {},
     "output_type": "execute_result"
    }
   ],
   "source": [
    "from sklearn.preprocessing import LabelEncoder\n",
    "encoder = LabelEncoder()\n",
    "\n",
    "for i in doc.columns:\n",
    "    if doc[i].dtypes == \"object\":\n",
    "         doc[i] = encoder.fit_transform(doc[i])\n",
    "\n",
    "doc.sample(5)"
   ]
  },
  {
   "cell_type": "code",
   "execution_count": 53,
   "id": "16c2719d-98d4-4ae1-b02a-c38926ff5fc6",
   "metadata": {},
   "outputs": [],
   "source": [
    "import pandas as pd\n",
    "from sklearn.preprocessing import StandardScaler\n",
    "scaler = StandardScaler()\n",
    "\n",
    "# doc = minmax.fit_transform(doc.values)\n",
    "\n",
    "\n",
    "# doc.iloc[:, :] = minmax.fit_transform(doc.values)\n",
    "\n",
    "# doc = pd.DataFrame(doc) \n",
    "# doc.sample(5)"
   ]
  },
  {
   "cell_type": "code",
   "execution_count": 54,
   "id": "c38bc0ac-8050-48ff-aa0c-e0ccc49600e3",
   "metadata": {},
   "outputs": [],
   "source": [
    "import pickle\n",
    "\n",
    "pickle.dump(scaler,open('scaling.pkl','wb'))"
   ]
  },
  {
   "cell_type": "code",
   "execution_count": 55,
   "id": "1a545669-d520-431e-8aa9-44571edc8e1e",
   "metadata": {},
   "outputs": [],
   "source": [
    "import pandas as pd\n",
    "\n",
    "doc = pd.DataFrame(doc) \n",
    "\n",
    "X = doc.drop(columns = \"Churn Value\", axis= \"columns\")\n",
    "y= doc[\"Churn Value\"]"
   ]
  },
  {
   "cell_type": "code",
   "execution_count": 56,
   "id": "6ed344b9-7c9c-4317-b4ad-4522093b435f",
   "metadata": {},
   "outputs": [
    {
     "data": {
      "text/plain": [
       "(7032, 26)"
      ]
     },
     "execution_count": 56,
     "metadata": {},
     "output_type": "execute_result"
    }
   ],
   "source": [
    "X.shape"
   ]
  },
  {
   "cell_type": "code",
   "execution_count": 62,
   "id": "e4cb5485-69fa-4cfc-a88f-7161f101ff25",
   "metadata": {},
   "outputs": [
    {
     "data": {
      "text/plain": [
       "(4922, 26)"
      ]
     },
     "execution_count": 62,
     "metadata": {},
     "output_type": "execute_result"
    }
   ],
   "source": [
    "from sklearn.model_selection import train_test_split\n",
    "\n",
    "X_train, X_rem, y_train, y_rem = train_test_split(X, y, train_size= 0.70, random_state=None)\n",
    "X_valid, X_test, y_valid, y_test = train_test_split(X_rem, y_rem, test_size=0.5)\n",
    "\n",
    "X_train.shape"
   ]
  },
  {
   "cell_type": "code",
   "execution_count": 63,
   "id": "e81df6f0-92ad-4252-acc1-8723887f938e",
   "metadata": {},
   "outputs": [
    {
     "data": {
      "text/html": [
       "<style>#sk-container-id-5 {color: black;}#sk-container-id-5 pre{padding: 0;}#sk-container-id-5 div.sk-toggleable {background-color: white;}#sk-container-id-5 label.sk-toggleable__label {cursor: pointer;display: block;width: 100%;margin-bottom: 0;padding: 0.3em;box-sizing: border-box;text-align: center;}#sk-container-id-5 label.sk-toggleable__label-arrow:before {content: \"▸\";float: left;margin-right: 0.25em;color: #696969;}#sk-container-id-5 label.sk-toggleable__label-arrow:hover:before {color: black;}#sk-container-id-5 div.sk-estimator:hover label.sk-toggleable__label-arrow:before {color: black;}#sk-container-id-5 div.sk-toggleable__content {max-height: 0;max-width: 0;overflow: hidden;text-align: left;background-color: #f0f8ff;}#sk-container-id-5 div.sk-toggleable__content pre {margin: 0.2em;color: black;border-radius: 0.25em;background-color: #f0f8ff;}#sk-container-id-5 input.sk-toggleable__control:checked~div.sk-toggleable__content {max-height: 200px;max-width: 100%;overflow: auto;}#sk-container-id-5 input.sk-toggleable__control:checked~label.sk-toggleable__label-arrow:before {content: \"▾\";}#sk-container-id-5 div.sk-estimator input.sk-toggleable__control:checked~label.sk-toggleable__label {background-color: #d4ebff;}#sk-container-id-5 div.sk-label input.sk-toggleable__control:checked~label.sk-toggleable__label {background-color: #d4ebff;}#sk-container-id-5 input.sk-hidden--visually {border: 0;clip: rect(1px 1px 1px 1px);clip: rect(1px, 1px, 1px, 1px);height: 1px;margin: -1px;overflow: hidden;padding: 0;position: absolute;width: 1px;}#sk-container-id-5 div.sk-estimator {font-family: monospace;background-color: #f0f8ff;border: 1px dotted black;border-radius: 0.25em;box-sizing: border-box;margin-bottom: 0.5em;}#sk-container-id-5 div.sk-estimator:hover {background-color: #d4ebff;}#sk-container-id-5 div.sk-parallel-item::after {content: \"\";width: 100%;border-bottom: 1px solid gray;flex-grow: 1;}#sk-container-id-5 div.sk-label:hover label.sk-toggleable__label {background-color: #d4ebff;}#sk-container-id-5 div.sk-serial::before {content: \"\";position: absolute;border-left: 1px solid gray;box-sizing: border-box;top: 0;bottom: 0;left: 50%;z-index: 0;}#sk-container-id-5 div.sk-serial {display: flex;flex-direction: column;align-items: center;background-color: white;padding-right: 0.2em;padding-left: 0.2em;position: relative;}#sk-container-id-5 div.sk-item {position: relative;z-index: 1;}#sk-container-id-5 div.sk-parallel {display: flex;align-items: stretch;justify-content: center;background-color: white;position: relative;}#sk-container-id-5 div.sk-item::before, #sk-container-id-5 div.sk-parallel-item::before {content: \"\";position: absolute;border-left: 1px solid gray;box-sizing: border-box;top: 0;bottom: 0;left: 50%;z-index: -1;}#sk-container-id-5 div.sk-parallel-item {display: flex;flex-direction: column;z-index: 1;position: relative;background-color: white;}#sk-container-id-5 div.sk-parallel-item:first-child::after {align-self: flex-end;width: 50%;}#sk-container-id-5 div.sk-parallel-item:last-child::after {align-self: flex-start;width: 50%;}#sk-container-id-5 div.sk-parallel-item:only-child::after {width: 0;}#sk-container-id-5 div.sk-dashed-wrapped {border: 1px dashed gray;margin: 0 0.4em 0.5em 0.4em;box-sizing: border-box;padding-bottom: 0.4em;background-color: white;}#sk-container-id-5 div.sk-label label {font-family: monospace;font-weight: bold;display: inline-block;line-height: 1.2em;}#sk-container-id-5 div.sk-label-container {text-align: center;}#sk-container-id-5 div.sk-container {/* jupyter's `normalize.less` sets `[hidden] { display: none; }` but bootstrap.min.css set `[hidden] { display: none !important; }` so we also need the `!important` here to be able to override the default hidden behavior on the sphinx rendered scikit-learn.org. See: https://github.com/scikit-learn/scikit-learn/issues/21755 */display: inline-block !important;position: relative;}#sk-container-id-5 div.sk-text-repr-fallback {display: none;}</style><div id=\"sk-container-id-5\" class=\"sk-top-container\"><div class=\"sk-text-repr-fallback\"><pre>StandardScaler()</pre><b>In a Jupyter environment, please rerun this cell to show the HTML representation or trust the notebook. <br />On GitHub, the HTML representation is unable to render, please try loading this page with nbviewer.org.</b></div><div class=\"sk-container\" hidden><div class=\"sk-item\"><div class=\"sk-estimator sk-toggleable\"><input class=\"sk-toggleable__control sk-hidden--visually\" id=\"sk-estimator-id-5\" type=\"checkbox\" checked><label for=\"sk-estimator-id-5\" class=\"sk-toggleable__label sk-toggleable__label-arrow\">StandardScaler</label><div class=\"sk-toggleable__content\"><pre>StandardScaler()</pre></div></div></div></div></div>"
      ],
      "text/plain": [
       "StandardScaler()"
      ]
     },
     "execution_count": 63,
     "metadata": {},
     "output_type": "execute_result"
    }
   ],
   "source": [
    "scaler.fit(X_train)\n"
   ]
  },
  {
   "cell_type": "code",
   "execution_count": 64,
   "id": "03a35580-1dae-4557-a0ce-e63fddfdebf3",
   "metadata": {},
   "outputs": [],
   "source": [
    "X_test = scaler.transform(X_test)"
   ]
  },
  {
   "cell_type": "code",
   "execution_count": 65,
   "id": "484eb9ef-c7af-4e52-a1df-08f33064f1b4",
   "metadata": {},
   "outputs": [],
   "source": [
    "import tensorflow"
   ]
  },
  {
   "cell_type": "code",
   "execution_count": 66,
   "id": "fb530a58-0610-4493-8926-b11fcf67e0ee",
   "metadata": {
    "scrolled": true
   },
   "outputs": [
    {
     "name": "stdout",
     "output_type": "stream",
     "text": [
      "Epoch 1/100\n",
      "154/154 [==============================] - 1s 1ms/step - loss: 161.1335 - accuracy: 0.6069\n",
      "Epoch 2/100\n",
      "154/154 [==============================] - 0s 1ms/step - loss: 17.7433 - accuracy: 0.6375\n",
      "Epoch 3/100\n",
      "154/154 [==============================] - 0s 1ms/step - loss: 14.4599 - accuracy: 0.6489\n",
      "Epoch 4/100\n",
      "154/154 [==============================] - 0s 1ms/step - loss: 17.8402 - accuracy: 0.6398\n",
      "Epoch 5/100\n",
      "154/154 [==============================] - 0s 1ms/step - loss: 12.3474 - accuracy: 0.6505\n",
      "Epoch 6/100\n",
      "154/154 [==============================] - 0s 1ms/step - loss: 15.9230 - accuracy: 0.6430\n",
      "Epoch 7/100\n",
      "154/154 [==============================] - 0s 1ms/step - loss: 10.1903 - accuracy: 0.6609\n",
      "Epoch 8/100\n",
      "154/154 [==============================] - 0s 1ms/step - loss: 6.9347 - accuracy: 0.6798\n",
      "Epoch 9/100\n",
      "154/154 [==============================] - 0s 1ms/step - loss: 10.4218 - accuracy: 0.6772\n",
      "Epoch 10/100\n",
      "154/154 [==============================] - 0s 1ms/step - loss: 7.4114 - accuracy: 0.6792\n",
      "Epoch 11/100\n",
      "154/154 [==============================] - 0s 1ms/step - loss: 5.3622 - accuracy: 0.7093\n",
      "Epoch 12/100\n",
      "154/154 [==============================] - 0s 1ms/step - loss: 6.4690 - accuracy: 0.6991\n",
      "Epoch 13/100\n",
      "154/154 [==============================] - 0s 1ms/step - loss: 6.6304 - accuracy: 0.6912\n",
      "Epoch 14/100\n",
      "154/154 [==============================] - 0s 1ms/step - loss: 5.8617 - accuracy: 0.6997\n",
      "Epoch 15/100\n",
      "154/154 [==============================] - 0s 1ms/step - loss: 7.9366 - accuracy: 0.6875\n",
      "Epoch 16/100\n",
      "154/154 [==============================] - 0s 1ms/step - loss: 6.2079 - accuracy: 0.6993\n",
      "Epoch 17/100\n",
      "154/154 [==============================] - 0s 1ms/step - loss: 7.6386 - accuracy: 0.6997\n",
      "Epoch 18/100\n",
      "154/154 [==============================] - 0s 1ms/step - loss: 4.3903 - accuracy: 0.7176\n",
      "Epoch 19/100\n",
      "154/154 [==============================] - 0s 1ms/step - loss: 5.7859 - accuracy: 0.7093\n",
      "Epoch 20/100\n",
      "154/154 [==============================] - 0s 1ms/step - loss: 6.8156 - accuracy: 0.6961\n",
      "Epoch 21/100\n",
      "154/154 [==============================] - 0s 1ms/step - loss: 6.7575 - accuracy: 0.7123\n",
      "Epoch 22/100\n",
      "154/154 [==============================] - 0s 1ms/step - loss: 6.1485 - accuracy: 0.7072\n",
      "Epoch 23/100\n",
      "154/154 [==============================] - 0s 1ms/step - loss: 6.4612 - accuracy: 0.7168\n",
      "Epoch 24/100\n",
      "154/154 [==============================] - 0s 1ms/step - loss: 7.5921 - accuracy: 0.7060\n",
      "Epoch 25/100\n",
      "154/154 [==============================] - 0s 1ms/step - loss: 4.2175 - accuracy: 0.7290\n",
      "Epoch 26/100\n",
      "154/154 [==============================] - 0s 1ms/step - loss: 10.5264 - accuracy: 0.6833\n",
      "Epoch 27/100\n",
      "154/154 [==============================] - 0s 1ms/step - loss: 6.2942 - accuracy: 0.7115\n",
      "Epoch 28/100\n",
      "154/154 [==============================] - 0s 1ms/step - loss: 6.0207 - accuracy: 0.7141\n",
      "Epoch 29/100\n",
      "154/154 [==============================] - 0s 1ms/step - loss: 6.0296 - accuracy: 0.7056\n",
      "Epoch 30/100\n",
      "154/154 [==============================] - 0s 1ms/step - loss: 11.4356 - accuracy: 0.6735\n",
      "Epoch 31/100\n",
      "154/154 [==============================] - 0s 1ms/step - loss: 6.4617 - accuracy: 0.7056\n",
      "Epoch 32/100\n",
      "154/154 [==============================] - 0s 1ms/step - loss: 7.8945 - accuracy: 0.6999\n",
      "Epoch 33/100\n",
      "154/154 [==============================] - 0s 1ms/step - loss: 5.9267 - accuracy: 0.7135\n",
      "Epoch 34/100\n",
      "154/154 [==============================] - 0s 1ms/step - loss: 5.0050 - accuracy: 0.7249\n",
      "Epoch 35/100\n",
      "154/154 [==============================] - 0s 1ms/step - loss: 7.3061 - accuracy: 0.7109\n",
      "Epoch 36/100\n",
      "154/154 [==============================] - 0s 2ms/step - loss: 6.1201 - accuracy: 0.7162\n",
      "Epoch 37/100\n",
      "154/154 [==============================] - 0s 2ms/step - loss: 4.9845 - accuracy: 0.7263\n",
      "Epoch 38/100\n",
      "154/154 [==============================] - 0s 1ms/step - loss: 8.0135 - accuracy: 0.6973\n",
      "Epoch 39/100\n",
      "154/154 [==============================] - 0s 1ms/step - loss: 10.9919 - accuracy: 0.6833\n",
      "Epoch 40/100\n",
      "154/154 [==============================] - 0s 1ms/step - loss: 6.0699 - accuracy: 0.7182\n",
      "Epoch 41/100\n",
      "154/154 [==============================] - 0s 1ms/step - loss: 6.2278 - accuracy: 0.7263\n",
      "Epoch 42/100\n",
      "154/154 [==============================] - 0s 1ms/step - loss: 6.9200 - accuracy: 0.7032\n",
      "Epoch 43/100\n",
      "154/154 [==============================] - 0s 1ms/step - loss: 4.3894 - accuracy: 0.7371\n",
      "Epoch 44/100\n",
      "154/154 [==============================] - 0s 1ms/step - loss: 8.1881 - accuracy: 0.6993\n",
      "Epoch 45/100\n",
      "154/154 [==============================] - 0s 1ms/step - loss: 5.8407 - accuracy: 0.7219\n",
      "Epoch 46/100\n",
      "154/154 [==============================] - 0s 1ms/step - loss: 5.3195 - accuracy: 0.7304\n",
      "Epoch 47/100\n",
      "154/154 [==============================] - 0s 1ms/step - loss: 11.8443 - accuracy: 0.6959\n",
      "Epoch 48/100\n",
      "154/154 [==============================] - 0s 1ms/step - loss: 6.1461 - accuracy: 0.7166\n",
      "Epoch 49/100\n",
      "154/154 [==============================] - 0s 1ms/step - loss: 6.8179 - accuracy: 0.7080\n",
      "Epoch 50/100\n",
      "154/154 [==============================] - 0s 1ms/step - loss: 5.0389 - accuracy: 0.7397\n",
      "Epoch 51/100\n",
      "154/154 [==============================] - 0s 1ms/step - loss: 11.2289 - accuracy: 0.7015\n",
      "Epoch 52/100\n",
      "154/154 [==============================] - 0s 1ms/step - loss: 5.2500 - accuracy: 0.7263\n",
      "Epoch 53/100\n",
      "154/154 [==============================] - 0s 2ms/step - loss: 9.4666 - accuracy: 0.6883\n",
      "Epoch 54/100\n",
      "154/154 [==============================] - 0s 1ms/step - loss: 7.3166 - accuracy: 0.7117\n",
      "Epoch 55/100\n",
      "154/154 [==============================] - 0s 1ms/step - loss: 6.4453 - accuracy: 0.7200\n",
      "Epoch 56/100\n",
      "154/154 [==============================] - 0s 1ms/step - loss: 7.3014 - accuracy: 0.7068\n",
      "Epoch 57/100\n",
      "154/154 [==============================] - 0s 1ms/step - loss: 6.3361 - accuracy: 0.7304\n",
      "Epoch 58/100\n",
      "154/154 [==============================] - 0s 1ms/step - loss: 6.5101 - accuracy: 0.7245\n",
      "Epoch 59/100\n",
      "154/154 [==============================] - 0s 1ms/step - loss: 6.9128 - accuracy: 0.7154\n",
      "Epoch 60/100\n",
      "154/154 [==============================] - 0s 1ms/step - loss: 6.8265 - accuracy: 0.7245\n",
      "Epoch 61/100\n",
      "154/154 [==============================] - 0s 1ms/step - loss: 5.0076 - accuracy: 0.7257\n",
      "Epoch 62/100\n",
      "154/154 [==============================] - 0s 1ms/step - loss: 10.7137 - accuracy: 0.6916\n",
      "Epoch 63/100\n",
      "154/154 [==============================] - 0s 2ms/step - loss: 6.6214 - accuracy: 0.7286\n",
      "Epoch 64/100\n",
      "154/154 [==============================] - 0s 1ms/step - loss: 7.8155 - accuracy: 0.7076\n",
      "Epoch 65/100\n",
      "154/154 [==============================] - 0s 1ms/step - loss: 4.6822 - accuracy: 0.7373\n",
      "Epoch 66/100\n",
      "154/154 [==============================] - 0s 1ms/step - loss: 8.8619 - accuracy: 0.7005\n",
      "Epoch 67/100\n",
      "154/154 [==============================] - 0s 1ms/step - loss: 5.2744 - accuracy: 0.7322\n",
      "Epoch 68/100\n",
      "154/154 [==============================] - 0s 1ms/step - loss: 4.6297 - accuracy: 0.7507\n",
      "Epoch 69/100\n",
      "154/154 [==============================] - 0s 1ms/step - loss: 4.5366 - accuracy: 0.7422\n",
      "Epoch 70/100\n",
      "154/154 [==============================] - 0s 1ms/step - loss: 3.7322 - accuracy: 0.7548\n",
      "Epoch 71/100\n",
      "154/154 [==============================] - 0s 1ms/step - loss: 7.4267 - accuracy: 0.7105\n",
      "Epoch 72/100\n",
      "154/154 [==============================] - 0s 1ms/step - loss: 9.5006 - accuracy: 0.6900\n",
      "Epoch 73/100\n",
      "154/154 [==============================] - 0s 2ms/step - loss: 5.5333 - accuracy: 0.7336\n",
      "Epoch 74/100\n",
      "154/154 [==============================] - 0s 1ms/step - loss: 6.9998 - accuracy: 0.7164\n",
      "Epoch 75/100\n",
      "154/154 [==============================] - 0s 1ms/step - loss: 10.0910 - accuracy: 0.7038\n",
      "Epoch 76/100\n",
      "154/154 [==============================] - 0s 1ms/step - loss: 6.4086 - accuracy: 0.7180\n",
      "Epoch 77/100\n",
      "154/154 [==============================] - 0s 1ms/step - loss: 5.6585 - accuracy: 0.7259\n",
      "Epoch 78/100\n",
      "154/154 [==============================] - 0s 1ms/step - loss: 6.5760 - accuracy: 0.7269\n",
      "Epoch 79/100\n",
      "154/154 [==============================] - 0s 1ms/step - loss: 6.6004 - accuracy: 0.7129\n",
      "Epoch 80/100\n",
      "154/154 [==============================] - 0s 2ms/step - loss: 4.5910 - accuracy: 0.7403\n",
      "Epoch 81/100\n",
      "154/154 [==============================] - 0s 2ms/step - loss: 4.5552 - accuracy: 0.7403\n",
      "Epoch 82/100\n",
      "154/154 [==============================] - 0s 2ms/step - loss: 8.0868 - accuracy: 0.7170\n",
      "Epoch 83/100\n",
      "154/154 [==============================] - 0s 2ms/step - loss: 5.6714 - accuracy: 0.7215\n",
      "Epoch 84/100\n",
      "154/154 [==============================] - 0s 1ms/step - loss: 5.5476 - accuracy: 0.7249\n",
      "Epoch 85/100\n",
      "154/154 [==============================] - 0s 2ms/step - loss: 5.9481 - accuracy: 0.7424\n",
      "Epoch 86/100\n",
      "154/154 [==============================] - 0s 2ms/step - loss: 5.2147 - accuracy: 0.7452\n",
      "Epoch 87/100\n",
      "154/154 [==============================] - 0s 1ms/step - loss: 6.7681 - accuracy: 0.7210\n",
      "Epoch 88/100\n",
      "154/154 [==============================] - 0s 2ms/step - loss: 9.4458 - accuracy: 0.6908\n",
      "Epoch 89/100\n",
      "154/154 [==============================] - 0s 2ms/step - loss: 6.1910 - accuracy: 0.7239\n",
      "Epoch 90/100\n",
      "154/154 [==============================] - 0s 2ms/step - loss: 6.4055 - accuracy: 0.7322\n",
      "Epoch 91/100\n",
      "154/154 [==============================] - 0s 2ms/step - loss: 6.8492 - accuracy: 0.7180\n",
      "Epoch 92/100\n",
      "154/154 [==============================] - 0s 2ms/step - loss: 7.4294 - accuracy: 0.7166\n",
      "Epoch 93/100\n",
      "154/154 [==============================] - 0s 2ms/step - loss: 6.9294 - accuracy: 0.7190\n",
      "Epoch 94/100\n",
      "154/154 [==============================] - 0s 2ms/step - loss: 5.0153 - accuracy: 0.7464\n",
      "Epoch 95/100\n",
      "154/154 [==============================] - 0s 1ms/step - loss: 5.3623 - accuracy: 0.7275\n",
      "Epoch 96/100\n",
      "154/154 [==============================] - 0s 1ms/step - loss: 8.0398 - accuracy: 0.7160\n",
      "Epoch 97/100\n",
      "154/154 [==============================] - 0s 2ms/step - loss: 7.6730 - accuracy: 0.7119\n",
      "Epoch 98/100\n",
      "154/154 [==============================] - 0s 1ms/step - loss: 5.7976 - accuracy: 0.7243\n",
      "Epoch 99/100\n",
      "154/154 [==============================] - 0s 1ms/step - loss: 6.6847 - accuracy: 0.7215\n",
      "Epoch 100/100\n",
      "154/154 [==============================] - 0s 1ms/step - loss: 6.0140 - accuracy: 0.7330\n"
     ]
    },
    {
     "data": {
      "text/plain": [
       "<keras.src.callbacks.History at 0x17c11687b90>"
      ]
     },
     "execution_count": 66,
     "metadata": {},
     "output_type": "execute_result"
    }
   ],
   "source": [
    "import tensorflow\n",
    "from tensorflow import keras\n",
    "\n",
    "model = keras.Sequential([\n",
    "    keras.layers.Dense(26, input_shape = (26,), activation = \"relu\"),\n",
    "    keras.layers.Dense(1, activation = \"sigmoid\")\n",
    "])\n",
    "\n",
    "model.compile(optimizer = \"adam\", loss = \"binary_crossentropy\", metrics = [\"accuracy\"])\n",
    "\n",
    "model.fit(X_train, y_train, epochs = 100)"
   ]
  },
  {
   "cell_type": "code",
   "execution_count": 67,
   "id": "1fb812e2-1b7c-4b25-8495-f2936b844ede",
   "metadata": {},
   "outputs": [
    {
     "name": "stdout",
     "output_type": "stream",
     "text": [
      "33/33 [==============================] - 0s 1ms/step\n"
     ]
    }
   ],
   "source": [
    "y_pred = model.predict(X_test)"
   ]
  },
  {
   "cell_type": "code",
   "execution_count": 68,
   "id": "8d2ae98f-7b52-492f-8f7d-10b68680b6d9",
   "metadata": {},
   "outputs": [
    {
     "name": "stdout",
     "output_type": "stream",
     "text": [
      "33/33 [==============================] - 0s 1ms/step - loss: 1.9951 - accuracy: 0.6540\n"
     ]
    },
    {
     "data": {
      "text/plain": [
       "[1.9950581789016724, 0.6540284156799316]"
      ]
     },
     "execution_count": 68,
     "metadata": {},
     "output_type": "execute_result"
    }
   ],
   "source": [
    "model.evaluate(X_test, y_test)"
   ]
  },
  {
   "cell_type": "code",
   "execution_count": 69,
   "id": "79feaa2a-f606-4f11-8021-ea5f05e6b578",
   "metadata": {},
   "outputs": [
    {
     "data": {
      "text/plain": [
       "array([[0.0808368 ],\n",
       "       [0.94823277],\n",
       "       [0.71728003],\n",
       "       [0.05902807],\n",
       "       [0.09145645]], dtype=float32)"
      ]
     },
     "execution_count": 69,
     "metadata": {},
     "output_type": "execute_result"
    }
   ],
   "source": [
    "y_pred[:5]"
   ]
  },
  {
   "cell_type": "code",
   "execution_count": 70,
   "id": "bfa0435b-f434-413c-aa90-30b9282480fe",
   "metadata": {},
   "outputs": [],
   "source": [
    "y_pred_final = []\n",
    "for i in y_pred:\n",
    "    if i > 0.5:\n",
    "        y_pred_final.append(1)\n",
    "    else:\n",
    "        y_pred_final.append(0)"
   ]
  },
  {
   "cell_type": "code",
   "execution_count": 71,
   "id": "da64811c-e54d-4fdb-a7df-205b24813d97",
   "metadata": {},
   "outputs": [
    {
     "data": {
      "text/plain": [
       "[0, 1, 1, 0, 0, 0, 0, 1, 1, 1, 0, 0]"
      ]
     },
     "execution_count": 71,
     "metadata": {},
     "output_type": "execute_result"
    }
   ],
   "source": [
    "y_pred_final[:12]"
   ]
  },
  {
   "cell_type": "code",
   "execution_count": 72,
   "id": "9f908441-fe13-4839-96e5-8f41cff43629",
   "metadata": {},
   "outputs": [
    {
     "name": "stdout",
     "output_type": "stream",
     "text": [
      "              precision    recall  f1-score   support\n",
      "\n",
      "           0       0.91      0.58      0.71       771\n",
      "           1       0.43      0.85      0.57       284\n",
      "\n",
      "    accuracy                           0.65      1055\n",
      "   macro avg       0.67      0.72      0.64      1055\n",
      "weighted avg       0.78      0.65      0.67      1055\n",
      "\n"
     ]
    }
   ],
   "source": [
    "from sklearn.metrics import confusion_matrix, classification_report\n",
    "\n",
    "print(classification_report(y_test, y_pred_final))"
   ]
  },
  {
   "cell_type": "code",
   "execution_count": 73,
   "id": "2e0ccb31-bc7a-418e-b140-52f4c33e4e3b",
   "metadata": {},
   "outputs": [
    {
     "data": {
      "text/plain": [
       "Text(70.72222222222221, 0.5, 'Real')"
      ]
     },
     "execution_count": 73,
     "metadata": {},
     "output_type": "execute_result"
    },
    {
     "data": {
      "image/png": "[encoded data removed]",
      "text/plain": [
       "<Figure size 800x500 with 2 Axes>"
      ]
     },
     "metadata": {},
     "output_type": "display_data"
    }
   ],
   "source": [
    "import seaborn as sns\n",
    "import matplotlib.pyplot as plt\n",
    "\n",
    "cM =  tensorflow.math.confusion_matrix(labels = y_test, predictions= y_pred_final)\n",
    "\n",
    "plt.figure(figsize = (8,5))\n",
    "sns.heatmap(cM, annot =True, fmt =\"d\")\n",
    "plt.xlabel('Predicted')\n",
    "plt.ylabel('Real')"
   ]
  },
  {
   "cell_type": "code",
   "execution_count": 74,
   "id": "302d9c50-079f-4ccc-ba55-557922c2c92f",
   "metadata": {},
   "outputs": [],
   "source": [
    "###Pickle the file for deployment"
   ]
  },
  {
   "cell_type": "code",
   "execution_count": 75,
   "id": "c0919703-1c22-460b-b208-11460c646d83",
   "metadata": {},
   "outputs": [],
   "source": [
    "import pickle"
   ]
  },
  {
   "cell_type": "code",
   "execution_count": 76,
   "id": "fa7106a6-5cc5-4b7f-bb03-c57dcdc05731",
   "metadata": {},
   "outputs": [],
   "source": [
    "pickle.dump(model,open('churn_model.pkl','wb'))"
   ]
  },
  {
   "cell_type": "code",
   "execution_count": 77,
   "id": "f0c743a6-0fb1-4575-b48f-eddc00bb699b",
   "metadata": {},
   "outputs": [],
   "source": [
    "pickled_model = pickle.load(open('churn_model.pkl','rb'))"
   ]
  },
  {
   "cell_type": "code",
   "execution_count": null,
   "id": "dde5571b",
   "metadata": {},
   "outputs": [],
   "source": []
  },
  {
   "cell_type": "code",
   "execution_count": null,
   "id": "d7c03e25",
   "metadata": {},
   "outputs": [],
   "source": []
  }
 ],
 "metadata": {
  "kernelspec": {
   "display_name": "Python 3 (ipykernel)",
   "language": "python",
   "name": "python3"
  },
  "language_info": {
   "codemirror_mode": {
    "name": "ipython",
    "version": 3
   },
   "file_extension": ".py",
   "mimetype": "text/x-python",
   "name": "python",
   "nbconvert_exporter": "python",
   "pygments_lexer": "ipython3",
   "version": "3.11.4"
  }
 },
 "nbformat": 4,
 "nbformat_minor": 5
}
