{
 "cells": [
  {
   "cell_type": "code",
   "execution_count": 94,
   "id": "ced692a0-3cee-4ed9-9d3a-b237de16445d",
   "metadata": {},
   "outputs": [],
   "source": [
    "import pandas as pd\n",
    "import numpy as np\n",
    "import matplotlib as plt"
   ]
  },
  {
   "cell_type": "code",
   "execution_count": 95,
   "id": "055d38fa-28fd-468f-b490-1ba548d5df7b",
   "metadata": {},
   "outputs": [
    {
     "data": {
      "text/html": [
       "<div>\n",
       "<style scoped>\n",
       "    .dataframe tbody tr th:only-of-type {\n",
       "        vertical-align: middle;\n",
       "    }\n",
       "\n",
       "    .dataframe tbody tr th {\n",
       "        vertical-align: top;\n",
       "    }\n",
       "\n",
       "    .dataframe thead th {\n",
       "        text-align: right;\n",
       "    }\n",
       "</style>\n",
       "<table border=\"1\" class=\"dataframe\">\n",
       "  <thead>\n",
       "    <tr style=\"text-align: right;\">\n",
       "      <th></th>\n",
       "      <th>CustomerID</th>\n",
       "      <th>Count</th>\n",
       "      <th>Country</th>\n",
       "      <th>State</th>\n",
       "      <th>City</th>\n",
       "      <th>Zip Code</th>\n",
       "      <th>Lat Long</th>\n",
       "      <th>Latitude</th>\n",
       "      <th>Longitude</th>\n",
       "      <th>Gender</th>\n",
       "      <th>...</th>\n",
       "      <th>Contract</th>\n",
       "      <th>Paperless Billing</th>\n",
       "      <th>Payment Method</th>\n",
       "      <th>Monthly Charges</th>\n",
       "      <th>Total Charges</th>\n",
       "      <th>Churn Label</th>\n",
       "      <th>Churn Value</th>\n",
       "      <th>Churn Score</th>\n",
       "      <th>CLTV</th>\n",
       "      <th>Churn Reason</th>\n",
       "    </tr>\n",
       "  </thead>\n",
       "  <tbody>\n",
       "    <tr>\n",
       "      <th>2357</th>\n",
       "      <td>5845-BZZIB</td>\n",
       "      <td>1</td>\n",
       "      <td>United States</td>\n",
       "      <td>California</td>\n",
       "      <td>Frazier Park</td>\n",
       "      <td>93222</td>\n",
       "      <td>34.907911, -119.234281</td>\n",
       "      <td>34.907911</td>\n",
       "      <td>-119.234281</td>\n",
       "      <td>Male</td>\n",
       "      <td>...</td>\n",
       "      <td>Two year</td>\n",
       "      <td>No</td>\n",
       "      <td>Mailed check</td>\n",
       "      <td>20.10</td>\n",
       "      <td>655.3</td>\n",
       "      <td>No</td>\n",
       "      <td>0</td>\n",
       "      <td>65</td>\n",
       "      <td>4517</td>\n",
       "      <td>NaN</td>\n",
       "    </tr>\n",
       "    <tr>\n",
       "      <th>1995</th>\n",
       "      <td>2907-ILJBN</td>\n",
       "      <td>1</td>\n",
       "      <td>United States</td>\n",
       "      <td>California</td>\n",
       "      <td>Duarte</td>\n",
       "      <td>91010</td>\n",
       "      <td>34.145695, -117.95982</td>\n",
       "      <td>34.145695</td>\n",
       "      <td>-117.959820</td>\n",
       "      <td>Female</td>\n",
       "      <td>...</td>\n",
       "      <td>One year</td>\n",
       "      <td>No</td>\n",
       "      <td>Mailed check</td>\n",
       "      <td>20.60</td>\n",
       "      <td>233.9</td>\n",
       "      <td>No</td>\n",
       "      <td>0</td>\n",
       "      <td>29</td>\n",
       "      <td>4047</td>\n",
       "      <td>NaN</td>\n",
       "    </tr>\n",
       "    <tr>\n",
       "      <th>3426</th>\n",
       "      <td>5793-YOLJN</td>\n",
       "      <td>1</td>\n",
       "      <td>United States</td>\n",
       "      <td>California</td>\n",
       "      <td>Oro Grande</td>\n",
       "      <td>92368</td>\n",
       "      <td>34.647959, -117.296957</td>\n",
       "      <td>34.647959</td>\n",
       "      <td>-117.296957</td>\n",
       "      <td>Female</td>\n",
       "      <td>...</td>\n",
       "      <td>Two year</td>\n",
       "      <td>No</td>\n",
       "      <td>Mailed check</td>\n",
       "      <td>21.00</td>\n",
       "      <td>1210.3</td>\n",
       "      <td>No</td>\n",
       "      <td>0</td>\n",
       "      <td>24</td>\n",
       "      <td>5046</td>\n",
       "      <td>NaN</td>\n",
       "    </tr>\n",
       "    <tr>\n",
       "      <th>2710</th>\n",
       "      <td>0774-IFUVM</td>\n",
       "      <td>1</td>\n",
       "      <td>United States</td>\n",
       "      <td>California</td>\n",
       "      <td>Stockton</td>\n",
       "      <td>95202</td>\n",
       "      <td>37.959706, -121.287669</td>\n",
       "      <td>37.959706</td>\n",
       "      <td>-121.287669</td>\n",
       "      <td>Male</td>\n",
       "      <td>...</td>\n",
       "      <td>Month-to-month</td>\n",
       "      <td>Yes</td>\n",
       "      <td>Bank transfer (automatic)</td>\n",
       "      <td>65.15</td>\n",
       "      <td>723.35</td>\n",
       "      <td>No</td>\n",
       "      <td>0</td>\n",
       "      <td>42</td>\n",
       "      <td>5942</td>\n",
       "      <td>NaN</td>\n",
       "    </tr>\n",
       "    <tr>\n",
       "      <th>3242</th>\n",
       "      <td>9575-IWCAZ</td>\n",
       "      <td>1</td>\n",
       "      <td>United States</td>\n",
       "      <td>California</td>\n",
       "      <td>Valencia</td>\n",
       "      <td>91354</td>\n",
       "      <td>34.457005, -118.573726</td>\n",
       "      <td>34.457005</td>\n",
       "      <td>-118.573726</td>\n",
       "      <td>Male</td>\n",
       "      <td>...</td>\n",
       "      <td>One year</td>\n",
       "      <td>No</td>\n",
       "      <td>Mailed check</td>\n",
       "      <td>25.10</td>\n",
       "      <td>171</td>\n",
       "      <td>No</td>\n",
       "      <td>0</td>\n",
       "      <td>31</td>\n",
       "      <td>5161</td>\n",
       "      <td>NaN</td>\n",
       "    </tr>\n",
       "  </tbody>\n",
       "</table>\n",
       "<p>5 rows × 33 columns</p>\n",
       "</div>"
      ],
      "text/plain": [
       "      CustomerID  Count        Country       State          City  Zip Code  \\\n",
       "2357  5845-BZZIB      1  United States  California  Frazier Park     93222   \n",
       "1995  2907-ILJBN      1  United States  California        Duarte     91010   \n",
       "3426  5793-YOLJN      1  United States  California    Oro Grande     92368   \n",
       "2710  0774-IFUVM      1  United States  California      Stockton     95202   \n",
       "3242  9575-IWCAZ      1  United States  California      Valencia     91354   \n",
       "\n",
       "                    Lat Long   Latitude   Longitude  Gender  ...  \\\n",
       "2357  34.907911, -119.234281  34.907911 -119.234281    Male  ...   \n",
       "1995   34.145695, -117.95982  34.145695 -117.959820  Female  ...   \n",
       "3426  34.647959, -117.296957  34.647959 -117.296957  Female  ...   \n",
       "2710  37.959706, -121.287669  37.959706 -121.287669    Male  ...   \n",
       "3242  34.457005, -118.573726  34.457005 -118.573726    Male  ...   \n",
       "\n",
       "            Contract Paperless Billing             Payment Method  \\\n",
       "2357        Two year                No               Mailed check   \n",
       "1995        One year                No               Mailed check   \n",
       "3426        Two year                No               Mailed check   \n",
       "2710  Month-to-month               Yes  Bank transfer (automatic)   \n",
       "3242        One year                No               Mailed check   \n",
       "\n",
       "      Monthly Charges Total Charges Churn Label Churn Value Churn Score  CLTV  \\\n",
       "2357            20.10         655.3          No           0          65  4517   \n",
       "1995            20.60         233.9          No           0          29  4047   \n",
       "3426            21.00        1210.3          No           0          24  5046   \n",
       "2710            65.15        723.35          No           0          42  5942   \n",
       "3242            25.10           171          No           0          31  5161   \n",
       "\n",
       "     Churn Reason  \n",
       "2357          NaN  \n",
       "1995          NaN  \n",
       "3426          NaN  \n",
       "2710          NaN  \n",
       "3242          NaN  \n",
       "\n",
       "[5 rows x 33 columns]"
      ]
     },
     "execution_count": 95,
     "metadata": {},
     "output_type": "execute_result"
    }
   ],
   "source": [
    "doc = pd.read_excel(\"C:/Users/STAFF/Desktop/Git_Repos/Telco_customer_churn.xlsx\")\n",
    "doc.sample(5)"
   ]
  },
  {
   "cell_type": "code",
   "execution_count": 96,
   "id": "02426e7e-82c7-4220-a35c-975ec88d94e0",
   "metadata": {},
   "outputs": [],
   "source": [
    "doc.drop(columns =[\"Count\",\"Churn Reason\",\"Churn Label\",\"Churn Score\",\"Lat Long\"], inplace = True)"
   ]
  },
  {
   "cell_type": "code",
   "execution_count": 97,
   "id": "50f968c8-0e93-4812-b5f9-0006415efd84",
   "metadata": {},
   "outputs": [
    {
     "data": {
      "text/plain": [
       "(7043, 28)"
      ]
     },
     "execution_count": 97,
     "metadata": {},
     "output_type": "execute_result"
    }
   ],
   "source": [
    "doc.shape"
   ]
  },
  {
   "cell_type": "code",
   "execution_count": 98,
   "id": "ea959d46-4e42-411d-a46d-5d267949d224",
   "metadata": {},
   "outputs": [
    {
     "data": {
      "text/plain": [
       "(7043, 28)"
      ]
     },
     "execution_count": 98,
     "metadata": {},
     "output_type": "execute_result"
    }
   ],
   "source": [
    "doc = doc.dropna()\n",
    "doc.shape"
   ]
  },
  {
   "cell_type": "code",
   "execution_count": 99,
   "id": "3b7ddabf-d523-49e2-a1e8-19e92f2ad29e",
   "metadata": {},
   "outputs": [
    {
     "data": {
      "text/plain": [
       "(7032, 28)"
      ]
     },
     "execution_count": 99,
     "metadata": {},
     "output_type": "execute_result"
    }
   ],
   "source": [
    "doc = doc[doc[\"Total Charges\"] != \" \"]\n",
    "doc.shape"
   ]
  },
  {
   "cell_type": "code",
   "execution_count": 100,
   "id": "a64acf13-5d17-4fd0-bdee-79e4e15e4e86",
   "metadata": {},
   "outputs": [],
   "source": [
    "doc[\"Total Charges\"] = pd.to_numeric(doc[\"Total Charges\"])\n"
   ]
  },
  {
   "cell_type": "code",
   "execution_count": 101,
   "id": "a3c6381e-4c28-4364-97e6-b7e9299e0c89",
   "metadata": {
    "scrolled": true
   },
   "outputs": [
    {
     "data": {
      "text/plain": [
       "CustomerID            object\n",
       "Country               object\n",
       "State                 object\n",
       "City                  object\n",
       "Zip Code               int64\n",
       "Latitude             float64\n",
       "Longitude            float64\n",
       "Gender                object\n",
       "Senior Citizen        object\n",
       "Partner               object\n",
       "Dependents            object\n",
       "Tenure Months          int64\n",
       "Phone Service         object\n",
       "Multiple Lines        object\n",
       "Internet Service      object\n",
       "Online Security       object\n",
       "Online Backup         object\n",
       "Device Protection     object\n",
       "Tech Support          object\n",
       "Streaming TV          object\n",
       "Streaming Movies      object\n",
       "Contract              object\n",
       "Paperless Billing     object\n",
       "Payment Method        object\n",
       "Monthly Charges      float64\n",
       "Total Charges        float64\n",
       "Churn Value            int64\n",
       "CLTV                   int64\n",
       "dtype: object"
      ]
     },
     "execution_count": 101,
     "metadata": {},
     "output_type": "execute_result"
    }
   ],
   "source": [
    "doc.dtypes"
   ]
  },
  {
   "cell_type": "code",
   "execution_count": 103,
   "id": "f72e35d6-6ca9-4e41-8107-23105e1bce7c",
   "metadata": {},
   "outputs": [],
   "source": [
    "def values_in_each_col(dataframe):\n",
    "    for i in dataframe:\n",
    "        if dataframe[i].dtypes == \"object\":\n",
    "            print(f\"{i} : {dataframe[i].unique()}\")"
   ]
  },
  {
   "cell_type": "code",
   "execution_count": 105,
   "id": "dc640c2e-569b-413c-93cf-5434c21c6f46",
   "metadata": {},
   "outputs": [
    {
     "name": "stdout",
     "output_type": "stream",
     "text": [
      "CustomerID : ['3668-QPYBK' '9237-HQITU' '9305-CDSKC' ... '2234-XADUH' '4801-JZAZL'\n",
      " '3186-AJIEK']\n",
      "Country : ['United States']\n",
      "State : ['California']\n",
      "City : ['Los Angeles' 'Beverly Hills' 'Huntington Park' ... 'Tulelake'\n",
      " 'Olympic Valley' 'Redcrest']\n",
      "Gender : ['Male' 'Female']\n",
      "Senior Citizen : ['No' 'Yes']\n",
      "Partner : ['No' 'Yes']\n",
      "Dependents : ['No' 'Yes']\n",
      "Phone Service : ['Yes' 'No']\n",
      "Multiple Lines : ['No' 'Yes' 'No phone service']\n",
      "Internet Service : ['DSL' 'Fiber optic' 'No']\n",
      "Online Security : ['Yes' 'No' 'No internet service']\n",
      "Online Backup : ['Yes' 'No' 'No internet service']\n",
      "Device Protection : ['No' 'Yes' 'No internet service']\n",
      "Tech Support : ['No' 'Yes' 'No internet service']\n",
      "Streaming TV : ['No' 'Yes' 'No internet service']\n",
      "Streaming Movies : ['No' 'Yes' 'No internet service']\n",
      "Contract : ['Month-to-month' 'Two year' 'One year']\n",
      "Paperless Billing : ['Yes' 'No']\n",
      "Payment Method : ['Mailed check' 'Electronic check' 'Bank transfer (automatic)'\n",
      " 'Credit card (automatic)']\n"
     ]
    }
   ],
   "source": [
    "values_in_each_col(doc)"
   ]
  },
  {
   "cell_type": "code",
   "execution_count": 106,
   "id": "3fb400de-2b26-43a3-be16-32e4bce2331f",
   "metadata": {},
   "outputs": [],
   "source": [
    "doc.replace(\"No internet service\" , \"No\", inplace = True)\n",
    "doc.replace(\"No phone service\" , \"No\", inplace = True)\n"
   ]
  },
  {
   "cell_type": "code",
   "execution_count": 107,
   "id": "ef020e17-7eb1-4bd6-81a2-3efe8880f3fa",
   "metadata": {},
   "outputs": [
    {
     "name": "stdout",
     "output_type": "stream",
     "text": [
      "CustomerID : ['3668-QPYBK' '9237-HQITU' '9305-CDSKC' ... '2234-XADUH' '4801-JZAZL'\n",
      " '3186-AJIEK']\n",
      "Country : ['United States']\n",
      "State : ['California']\n",
      "City : ['Los Angeles' 'Beverly Hills' 'Huntington Park' ... 'Tulelake'\n",
      " 'Olympic Valley' 'Redcrest']\n",
      "Gender : ['Male' 'Female']\n",
      "Senior Citizen : ['No' 'Yes']\n",
      "Partner : ['No' 'Yes']\n",
      "Dependents : ['No' 'Yes']\n",
      "Phone Service : ['Yes' 'No']\n",
      "Multiple Lines : ['No' 'Yes']\n",
      "Internet Service : ['DSL' 'Fiber optic' 'No']\n",
      "Online Security : ['Yes' 'No']\n",
      "Online Backup : ['Yes' 'No']\n",
      "Device Protection : ['No' 'Yes']\n",
      "Tech Support : ['No' 'Yes']\n",
      "Streaming TV : ['No' 'Yes']\n",
      "Streaming Movies : ['No' 'Yes']\n",
      "Contract : ['Month-to-month' 'Two year' 'One year']\n",
      "Paperless Billing : ['Yes' 'No']\n",
      "Payment Method : ['Mailed check' 'Electronic check' 'Bank transfer (automatic)'\n",
      " 'Credit card (automatic)']\n"
     ]
    }
   ],
   "source": [
    "values_in_each_col(doc)"
   ]
  },
  {
   "cell_type": "code",
   "execution_count": null,
   "id": "76599dad-42a3-4c94-8f3b-caa1d7fa363d",
   "metadata": {},
   "outputs": [],
   "source": [
    "from sklearn.preprocessing import LabelEncoder\n",
    "encoder = LabelEncoder()\n",
    "\n",
    "for i in doc:\n",
    "    if doc[i].dtypes == \"object\":\n",
    "         doc[i] = encoder.fit_transform(doc[i])"
   ]
  },
  {
   "cell_type": "code",
   "execution_count": null,
   "id": "16c2719d-98d4-4ae1-b02a-c38926ff5fc6",
   "metadata": {},
   "outputs": [],
   "source": [
    "from sklearn.preprocessing import MinMaxScaler\n",
    "minmax = MinMaxScaler()\n",
    "\n",
    "doc = minmax.fit_transform(doc)"
   ]
  },
  {
   "cell_type": "code",
   "execution_count": null,
   "id": "1a545669-d520-431e-8aa9-44571edc8e1e",
   "metadata": {},
   "outputs": [],
   "source": [
    "X = doc.drop(\"Churn Value\", axis= \"columns\")\n",
    "y= doc[\"Churn Value\"]"
   ]
  },
  {
   "cell_type": "code",
   "execution_count": null,
   "id": "e4cb5485-69fa-4cfc-a88f-7161f101ff25",
   "metadata": {},
   "outputs": [],
   "source": [
    "from sklearn.model_selection import train_test_split\n",
    "\n",
    "X_train, X_rem, y_train, y_rem = train_test_split(X, y, train_size= 0.70, random_state=None)\n",
    "X_valid, X_test, y_valid, y_test = train_test_split(X_rem, y_rem, test_size=0.5)\n",
    "\n",
    "X_train.shape"
   ]
  },
  {
   "cell_type": "code",
   "execution_count": null,
   "id": "fb530a58-0610-4493-8926-b11fcf67e0ee",
   "metadata": {},
   "outputs": [],
   "source": [
    "import tensorflow\n",
    "from tensorflow import keras\n",
    "\n",
    "model = keras.Sequential([\n",
    "    keras.layers.Dense(27, input_shape = (27), activation = \"relu\")\n",
    "    keras.layers.Dense(1, activation = \"sigmoid\")\n",
    "])\n",
    "\n",
    "model.compile(optimizer = \"adam\", loss = \"binary_crossentropy\", metrics = [\"accuracy\"])\n",
    "\n",
    "model.fit(X_train, y_train)"
   ]
  },
  {
   "cell_type": "code",
   "execution_count": null,
   "id": "1fb812e2-1b7c-4b25-8495-f2936b844ede",
   "metadata": {},
   "outputs": [],
   "source": [
    "model_output = model.predict(X_test)"
   ]
  }
 ],
 "metadata": {
  "kernelspec": {
   "display_name": "Python 3 (ipykernel)",
   "language": "python",
   "name": "python3"
  },
  "language_info": {
   "codemirror_mode": {
    "name": "ipython",
    "version": 3
   },
   "file_extension": ".py",
   "mimetype": "text/x-python",
   "name": "python",
   "nbconvert_exporter": "python",
   "pygments_lexer": "ipython3",
   "version": "3.11.4"
  }
 },
 "nbformat": 4,
 "nbformat_minor": 5
}
